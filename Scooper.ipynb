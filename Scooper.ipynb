{
 "metadata": {
  "name": "",
  "signature": "sha256:473e006383d3eb258910eea5964a2e17eb8a86c36bbab7877073b9cadf97322b"
 },
 "nbformat": 3,
 "nbformat_minor": 0,
 "worksheets": [
  {
   "cells": [
    {
     "cell_type": "code",
     "collapsed": false,
     "input": [
      "import twython\n",
      "\n",
      "from twython import Twython\n",
      "ConsumerKey = 'DHvPpUKNhPBqmOoWHTioL8R8g'\n",
      "ConsumerSecret = 'HaCvbsQLXy61rdxbs1AuojrP0y9eunUQLYfzyzt3gOzek1BdkC'\n",
      "AccessToken = '2723648388-vUN5LPJCXUyM2juD5dVGegyX02gwjwOT66LisIe'\n",
      "AccessTokenSecret = 'Wfu5QgkHiLqdaPF7t3AcM3XCihVpxUJbrUk4dkKBjJCcZ'\n",
      "\n",
      "twitter = Twython(ConsumerKey,ConsumerSecret,AccessToken,AccessTokenSecret)\n",
      "\n",
      "SearchWord = input('Enter the word you wish to search for: ')\n",
      "result = twitter.search(q = SearchWord)\n",
      "\n",
      "for status in result['statuses']:\n",
      "    print('\\nuser: {0} \\ntext: {1}'.format(status['user']['name'],status['text']))"
     ],
     "language": "python",
     "metadata": {},
     "outputs": [
      {
       "name": "stdout",
       "output_type": "stream",
       "stream": "stdout",
       "text": [
        "Enter the word you wish to search for: python\n"
       ]
      },
      {
       "output_type": "stream",
       "stream": "stdout",
       "text": [
        "\n",
        "user: Alexander Oblovatniy \n",
        "text: Python arsenal for RE: http://t.co/agyFimt3c0\n",
        "\n",
        "user: TechWars \n",
        "text: We compared #nodejs vs #python - see results: http://t.co/wumq6eSIKZ\n",
        "\n",
        "user: Hirotaka Kawata /\u3066\u304f\u306e \n",
        "text: Python \u306b\u7d61\u307e\u308c\u3066\u3001\u30c0\u30c3\u30af\u30bf\u30a4\u30d4\u30f3\u30b0\u304c\u3042\u308a\u3075\u308c\u308b\u65e5\u5e38\u306b\u6d78\u304b\u308a\u904e\u304e\u305f\u3002\n",
        "\n",
        "user: Jeremy Morales \n",
        "text: I need to learn python, good place to start?\n",
        "\n",
        "user: Billy Keane \n",
        "text: Apply Today: Software Developer (Python) in Dublin, Ireland http://t.co/3jZjY1EgbX #jobfairy\n",
        "\n",
        "user: TropicalGEM\u751f\u4f53\u5199\u771fbot \n",
        "text: \u30dc\u30fc\u30eb\u30d1\u30a4\u30bd\u30f3\u3000\u30d1\u30b9\u30c6\u30eb\u30b4\u30fc\u30b9\u30c8\n",
        "Python regius var.\n",
        "\n",
        "http://t.co/cw8KjJ7f4n\n",
        "\n",
        "HP http://t.co/qyGyX9gKGA \n",
        "blog http://t.co/fqoYiIlY1b\n",
        "\n",
        "user: \u5927\u962a\u5e02\u7acb\u5927\u5b66\u30de\u30a4\u30b3\u30f3\u7814\u7a76\u4f1a \n",
        "text: RT @flanti: \u306f\u3058\u3081\u3066\u306ePython #\u7af6\u6280\u30d7\u30ed\u30b0\u30e9\u30e0\u8b1b\u7fd2\n",
        "\n",
        "user: \tf a t a h \t \n",
        "text: RT @WeaponCentral: 4 inch Stainless Colt Python http://t.co/XtYvgbGYB1\n",
        "\n",
        "user: seungho kim \n",
        "text: RT @PyconKR: PyCon.KR 2014's keynote speaker will be \n",
        "Hyeshik Chang, Python Committer Since 2002 who implemented codec, unicode, Iterator, \u2026\n",
        "\n",
        "user: Obi Mobiles \n",
        "text: Presenting:\n",
        "A phone you can count on - Python S452 http://t.co/EsB8w1qxsY http://t.co/r5ouYNSWrb\n",
        "\n",
        "user: Hirotaka Kawata /\u3066\u304f\u306e \n",
        "text: Python \u66f8\u3044\u3066\u308b\u6c17\u5206\u3067 Java \u3092\u66f8\u304f\u3068\u3001\u5927\u4f53\u5931\u6557\u3059\u308b\u306e\u3067\u3001Java \u8133\u304c\u5fc5\u8981\u3060\u3002\n",
        "\n",
        "user: Kevin McDermott \n",
        "text: RT @pythonglasgow: Pub meetup tomorrow night in Babbity Bowster from 6:30pm. https://t.co/kTZLs6I8FL\n",
        "\n",
        "user: TechWars \n",
        "text: We compared #ruby vs #python - see results: http://t.co/fD6O322b9d\n",
        "\n",
        "user: reniaL \n",
        "text: \u4eca\u665a\u5728\u516c\u53f8\u52a0\u73ed\u7684\u6536\u83b7\uff1a\u53d1\u73b0 Python 2.6 \u548c 2.7 \u7684\u533a\u522b\u6bd4\u60f3\u8c61\u4e2d\u8fd8\u8981\u5927\uff5e\n",
        "\n",
        "user: \u2623\u2623\u2623 \n",
        "text: Disney made a Monty Python reference\ud83d\ude02\n"
       ]
      }
     ],
     "prompt_number": 5
    },
    {
     "cell_type": "code",
     "collapsed": false,
     "input": [],
     "language": "python",
     "metadata": {},
     "outputs": []
    }
   ],
   "metadata": {}
  }
 ]
}