{
 "metadata": {
  "name": "",
  "signature": "sha256:08942033523ba9c8ecc0aee5129a3d7329bd063e2067c55966c3ca6e172aba87"
 },
 "nbformat": 3,
 "nbformat_minor": 0,
 "worksheets": [
  {
   "cells": [
    {
     "cell_type": "code",
     "collapsed": false,
     "input": [
      "import twython\n",
      "\n",
      "from twython import Twython\n",
      "ConsumerKey = 'DHvPpUKNhPBqmOoWHTioL8R8g'\n",
      "ConsumerSecret = 'HaCvbsQLXy61rdxbs1AuojrP0y9eunUQLYfzyzt3gOzek1BdkC'\n",
      "AccessToken = '2723648388-vUN5LPJCXUyM2juD5dVGegyX02gwjwOT66LisIe'\n",
      "AccessTokenSecret = 'Wfu5QgkHiLqdaPF7t3AcM3XCihVpxUJbrUk4dkKBjJCcZ'\n",
      "\n",
      "twitter = Twython(ConsumerKey,ConsumerSecret,AccessToken,AccessTokenSecret)\n",
      "\n",
      "SearchWord = input('Enter the word you wish to search for: ')\n",
      "result = twitter.search(q = SearchWord)\n",
      "\n",
      "for status in result['statuses']:\n",
      "    print('user: {0} text: {1}'.format(status['user']['name'],status['text']))"
     ],
     "language": "python",
     "metadata": {},
     "outputs": []
    }
   ],
   "metadata": {}
  }
 ]
}