{
 "metadata": {
  "name": "",
  "signature": "sha256:2c0ef180633ea3b0c7880c9989e05ad79cf82f053eb11bc58c52c914f24de780"
 },
 "nbformat": 3,
 "nbformat_minor": 0,
 "worksheets": [
  {
   "cells": [
    {
     "cell_type": "code",
     "collapsed": false,
     "input": [
      "import json\n",
      "from twython import TwythonStreamer\n",
      "\n",
      "#this is the coding to import the json file with the parameters for the filters.\n",
      "json_File = 'C:\\\\Users\\\\Connor\\\\Desktop\\\\Local files Github\\\\settings.json'\n",
      "json_input = open(json_File).read()\n",
      "parameters = json.loads(json_input)\n",
      "\n",
      "#this is the coding to set the keys and secrets for use in the program from the json file, and all other variables needed.\n",
      "App_Key = parameters['App_Key']\n",
      "App_Secret = parameters['App_Secret']\n",
      "Oauth_Token = parameters['Oauth_Token']\n",
      "Oauth_Token_Secret = parameters['Oauth_Token_Secret']\n",
      "\n",
      "if parameters['MenuChoice'] == 't':\n",
      "     class MyStreamer(TwythonStreamer):\n",
      "         def on_success(self, data):\n",
      "            if 'text' in data:\n",
      "                #print(data)\n",
      "                print('\\nUser: {0}'.format(data['user']['name']))\n",
      "                print('Text: ',data['text']) \n",
      "                print('Created at: ',data['created_at'])\n",
      "                print('Tweet id: ',data['id'])\n",
      "                print('Favourite count: ',data['favorite_count'])\n",
      "                print('Retweeted: ',data['retweeted'])\n",
      "                print('Hashtags: ',data['entities']['hashtags'])\n",
      "                \n",
      "                       \n",
      "                def on_error(self, status_code, data):\n",
      "                    print (status_code)\n",
      "\n",
      "     stream = MyStreamer(App_Key,App_Secret,Oauth_Token,Oauth_Token_Secret)\n",
      "     stream.statuses.filter(track = parameters['termstotrack'])\n",
      "\n",
      "elif parameters['MenuChoice'] == 'l':\n",
      "    class MyStreamer(TwythonStreamer):\n",
      "        def on_success(self, data):\n",
      "            if 'text' in data:\n",
      "                #print(data)\n",
      "                print('\\nUser: {0}'.format(data['user']['name']))\n",
      "                print('Text: ',data['text']) \n",
      "                print('Created at: ',data['created_at'])\n",
      "                print('Tweet id: ',data['id'])\n",
      "                print('Favourite count: ',data['favorite_count'])\n",
      "                print('Retweeted: ',data['retweeted'])\n",
      "                print('Hashtags: ',data['entities']['hashtags']['text'])\n",
      "                       \n",
      "                def on_error(self, status_code, data):\n",
      "                    print (status_code)\n",
      "    \n",
      "    stream = MyStreamer(App_Key,App_Secret,Oauth_Token,Oauth_Token_Secret)\n",
      "    stream.statuses.filter(locations = parameters['locationtotrack'])\n",
      "    \n",
      "elif parameters['MenuChoice'] == 'f':\n",
      "    class MyStreamer(TwythonStreamer):\n",
      "        def on_success(self, data):\n",
      "            if 'text' in data:\n",
      "                #print(data)\n",
      "                print('\\nUser: {0}'.format(data['user']['name']))\n",
      "                print('Text: ',data['text']) \n",
      "                print('Created at: ',data['created_at'])\n",
      "                print('Tweet id: ',data['id'])\n",
      "                print('Favourite count: ',data['favorite_count'])\n",
      "                print('Retweeted: ',data['retweeted'])\n",
      "                print('Hashtags: ',data['entities']['hashtags'])\n",
      "                       \n",
      "                def on_error(self, status_code, data):\n",
      "                    print (status_code)\n",
      "    \n",
      "    stream = MyStreamer(App_Key,App_Secret,Oauth_Token,Oauth_Token_Secret)\n",
      "    stream.statuses.filter(follow = parameters['follow'])\n",
      "    "
     ],
     "language": "python",
     "metadata": {},
     "outputs": [
      {
       "output_type": "stream",
       "stream": "stdout",
       "text": [
        "\n",
        "User: MARI BANGUN!!!\n",
        "Text:  #info - Gejala Parkinson Sebelum Dugaan Bunuh Diri Aktor Robin Williams: Aktor Robin Williams disinyalir mende... http://t.co/pihIUUFT0j\n",
        "Created at:  Fri Aug 15 09:05:06 +0000 2014\n",
        "Tweet id:  500206538305175552\n",
        "Favourite count:  0\n",
        "Retweeted:  False\n",
        "Hashtags:  [{'text': 'info', 'indices': [0, 5]}]\n",
        "\n",
        "User: Ginory"
       ]
      },
      {
       "output_type": "stream",
       "stream": "stdout",
       "text": [
        "\n",
        "Text:  RT @SrSimpsonHomer: Preciosa la vi\u00f1eta homenaje a Robin Williams publicada hoy por el diario australiano Herald Sun http://t.co/Ba5bfuEL07\n",
        "Created at:  Fri Aug 15 09:05:07 +0000 2014\n",
        "Tweet id:  500206541140922369\n",
        "Favourite count:  0\n",
        "Retweeted:  False\n",
        "Hashtags:  []\n",
        "\n",
        "User: Anna"
       ]
      },
      {
       "output_type": "stream",
       "stream": "stdout",
       "text": [
        "\n",
        "Text:  RT @MissKatiePrice: very sad news about robin williams\n",
        "Created at:  Fri Aug 15 09:05:08 +0000 2014\n",
        "Tweet id:  500206543993044992\n",
        "Favourite count:  0\n",
        "Retweeted:  False\n",
        "Hashtags:  []\n",
        "\n",
        "User: El Venezolano"
       ]
      },
      {
       "output_type": "stream",
       "stream": "stdout",
       "text": [
        "\n",
        "Text:  \u00bfQui\u00e9n se quedar\u00e1 con la herencia de Robin Williams? - http://t.co/FOtJaO2X9n\n",
        "Created at:  Fri Aug 15 09:05:08 +0000 2014\n",
        "Tweet id:  500206544152436736\n",
        "Favourite count:  0\n",
        "Retweeted:  False\n",
        "Hashtags:  []\n",
        "\n",
        "User: Marc Adrian Emuang"
       ]
      },
      {
       "output_type": "stream",
       "stream": "stdout",
       "text": [
        "\n",
        "Text:  RT @Independent: When Robin Williams was asked \"If heaven exists...\" http://t.co/Hh0wpSAron\n",
        "Created at:  Fri Aug 15 09:05:08 +0000 2014\n",
        "Tweet id:  500206544588255232\n",
        "Favourite count:  0\n",
        "Retweeted:  False\n",
        "Hashtags:  []\n",
        "\n",
        "User: 16/2/2015 PWT"
       ]
      },
      {
       "output_type": "stream",
       "stream": "stdout",
       "text": [
        "\n",
        "Text:  RT @katyperry: So sad about Robin Williams...\ud83d\ude14\n",
        "Created at:  Fri Aug 15 09:05:08 +0000 2014\n",
        "Tweet id:  500206545230393345\n",
        "Favourite count:  0\n",
        "Retweeted:  False\n",
        "Hashtags:  []\n",
        "\n",
        "User: i'm a koala"
       ]
      },
      {
       "output_type": "stream",
       "stream": "stdout",
       "text": [
        "\n",
        "Text:  Rip in peace Robin\u2764\ufe0f\n",
        "Created at:  Fri Aug 15 09:05:09 +0000 2014\n",
        "Tweet id:  500206551291142146\n",
        "Favourite count:  0\n",
        "Retweeted:  False\n",
        "Hashtags:  []\n",
        "\n",
        "User: Matty"
       ]
      },
      {
       "output_type": "stream",
       "stream": "stdout",
       "text": [
        "\n",
        "Text:  RT @TheLadBible: Amazing tribute to Robin Williams http://t.co/YlRfm89oRz\n",
        "Created at:  Fri Aug 15 09:05:10 +0000 2014\n",
        "Tweet id:  500206552108634112\n",
        "Favourite count:  0\n",
        "Retweeted:  False\n",
        "Hashtags:  []\n",
        "\n",
        "User: pion"
       ]
      },
      {
       "output_type": "stream",
       "stream": "stdout",
       "text": [
        "\n",
        "Text:  Gejala Parkinson Sebelum Dugaan Bunuh Diri Aktor Robin Williams http://t.co/CGcXkD2vhh\n",
        "Created at:  Fri Aug 15 09:05:10 +0000 2014\n",
        "Tweet id:  500206554038009857\n",
        "Favourite count:  0\n",
        "Retweeted:  False\n",
        "Hashtags:  []\n",
        "\n",
        "User: Noticias Loreto"
       ]
      },
      {
       "output_type": "stream",
       "stream": "stdout",
       "text": [
        "\n",
        "Text:  Diario La Regi\u00f3n - Las ranas y la solidaridad - - EN HOMENAJE AL GENIAL ACTOR ROBIN Hasta hace dos d\u00e9c... http://t.co/nFpuECXh9z\n",
        "Created at:  Fri Aug 15 09:05:11 +0000 2014\n",
        "Tweet id:  500206556030726144\n",
        "Favourite count:  0\n",
        "Retweeted:  False\n",
        "Hashtags:  []\n",
        "\n",
        "User: C\u00f4me EDELINE"
       ]
      },
      {
       "output_type": "stream",
       "stream": "stdout",
       "text": [
        "\n",
        "Text:  RT @cgpgrey: I\u2019m linking this article by @JohnDiesattheEn twice today because it\u2019s really worth your time reading: http://t.co/rNpHyxIZwW\n",
        "Created at:  Fri Aug 15 09:05:11 +0000 2014\n",
        "Tweet id:  500206556668264448\n",
        "Favourite count:  0\n",
        "Retweeted:  False\n",
        "Hashtags:  []\n",
        "\n",
        "User: zauberhippo"
       ]
      },
      {
       "output_type": "stream",
       "stream": "stdout",
       "text": [
        "\n",
        "Text:  RT @AlArabiya_Eng: Robin Williams\u2019 wife: He had Parkinson\u2019s disease http://t.co/fle4NTnqkK\n",
        "Created at:  Fri Aug 15 09:05:11 +0000 2014\n",
        "Tweet id:  500206557368307713\n",
        "Favourite count:  0\n",
        "Retweeted:  False\n",
        "Hashtags:  []\n",
        "\n",
        "User: Cathi Bowholme"
       ]
      },
      {
       "output_type": "stream",
       "stream": "stdout",
       "text": [
        "\n",
        "Text:  RT @PopStarNima: I watched my VHS of Mrs. Doubtfire at least 3x a week until I was 14. Robin Williams- we'll miss you. #RobinWilliams  http\u2026\n",
        "Created at:  Fri Aug 15 09:05:11 +0000 2014\n",
        "Tweet id:  500206560027869184\n",
        "Favourite count:  0\n",
        "Retweeted:  False\n",
        "Hashtags:  [{'text': 'RobinWilliams', 'indices': [119, 133]}]\n",
        "\n",
        "User: Syahira"
       ]
      },
      {
       "output_type": "stream",
       "stream": "stdout",
       "text": [
        "\n",
        "Text:  RT @MustaphaShobri: Robin williams lakonannya buat orang gelak, tapi mati bunuh diri. Betulah ayat \"The person who laughs the most, cries i\u2026\n",
        "Created at:  Fri Aug 15 09:05:12 +0000 2014\n",
        "Tweet id:  500206560337870849\n",
        "Favourite count:  0\n",
        "Retweeted:  False\n",
        "Hashtags:  []\n",
        "\n",
        "User: Spencez Chaver"
       ]
      },
      {
       "output_type": "stream",
       "stream": "stdout",
       "text": [
        "\n",
        "Text:  RT @It_is_Tristan: RIP ROBIN WILLIAMS I LOVED YOUR MOVIES \ud83d\udc94 http://t.co/XxHFQJtZjW\n",
        "Created at:  Fri Aug 15 09:05:12 +0000 2014\n",
        "Tweet id:  500206560954826752\n",
        "Favourite count:  0\n",
        "Retweeted:  False\n",
        "Hashtags:  []\n"
       ]
      },
      {
       "ename": "KeyboardInterrupt",
       "evalue": "",
       "output_type": "pyerr",
       "traceback": [
        "\u001b[1;31m---------------------------------------------------------------------------\u001b[0m\n\u001b[1;31mKeyboardInterrupt\u001b[0m                         Traceback (most recent call last)",
        "\u001b[1;32m<ipython-input-1-434f07aff884>\u001b[0m in \u001b[0;36m<module>\u001b[1;34m()\u001b[0m\n\u001b[0;32m     31\u001b[0m \u001b[1;33m\u001b[0m\u001b[0m\n\u001b[0;32m     32\u001b[0m      \u001b[0mstream\u001b[0m \u001b[1;33m=\u001b[0m \u001b[0mMyStreamer\u001b[0m\u001b[1;33m(\u001b[0m\u001b[0mApp_Key\u001b[0m\u001b[1;33m,\u001b[0m\u001b[0mApp_Secret\u001b[0m\u001b[1;33m,\u001b[0m\u001b[0mOauth_Token\u001b[0m\u001b[1;33m,\u001b[0m\u001b[0mOauth_Token_Secret\u001b[0m\u001b[1;33m)\u001b[0m\u001b[1;33m\u001b[0m\u001b[0m\n\u001b[1;32m---> 33\u001b[1;33m      \u001b[0mstream\u001b[0m\u001b[1;33m.\u001b[0m\u001b[0mstatuses\u001b[0m\u001b[1;33m.\u001b[0m\u001b[0mfilter\u001b[0m\u001b[1;33m(\u001b[0m\u001b[0mtrack\u001b[0m \u001b[1;33m=\u001b[0m \u001b[0mparameters\u001b[0m\u001b[1;33m[\u001b[0m\u001b[1;34m'termstotrack'\u001b[0m\u001b[1;33m]\u001b[0m\u001b[1;33m)\u001b[0m\u001b[1;33m\u001b[0m\u001b[0m\n\u001b[0m\u001b[0;32m     34\u001b[0m \u001b[1;33m\u001b[0m\u001b[0m\n\u001b[0;32m     35\u001b[0m \u001b[1;32melif\u001b[0m \u001b[0mparameters\u001b[0m\u001b[1;33m[\u001b[0m\u001b[1;34m'MenuChoice'\u001b[0m\u001b[1;33m]\u001b[0m \u001b[1;33m==\u001b[0m \u001b[1;34m'l'\u001b[0m\u001b[1;33m:\u001b[0m\u001b[1;33m\u001b[0m\u001b[0m\n",
        "\u001b[1;32mC:\\Python34\\lib\\site-packages\\twython\\streaming\\types.py\u001b[0m in \u001b[0;36mfilter\u001b[1;34m(self, **params)\u001b[0m\n\u001b[0;32m     63\u001b[0m         \u001b[0murl\u001b[0m \u001b[1;33m=\u001b[0m \u001b[1;34m'https://stream.twitter.com/%s/statuses/filter.json'\u001b[0m\u001b[0;31m \u001b[0m\u001b[0;31m\\\u001b[0m\u001b[1;33m\u001b[0m\u001b[0m\n\u001b[0;32m     64\u001b[0m               \u001b[1;33m%\u001b[0m \u001b[0mself\u001b[0m\u001b[1;33m.\u001b[0m\u001b[0mstreamer\u001b[0m\u001b[1;33m.\u001b[0m\u001b[0mapi_version\u001b[0m\u001b[1;33m\u001b[0m\u001b[0m\n\u001b[1;32m---> 65\u001b[1;33m         \u001b[0mself\u001b[0m\u001b[1;33m.\u001b[0m\u001b[0mstreamer\u001b[0m\u001b[1;33m.\u001b[0m\u001b[0m_request\u001b[0m\u001b[1;33m(\u001b[0m\u001b[0murl\u001b[0m\u001b[1;33m,\u001b[0m \u001b[1;34m'POST'\u001b[0m\u001b[1;33m,\u001b[0m \u001b[0mparams\u001b[0m\u001b[1;33m=\u001b[0m\u001b[0mparams\u001b[0m\u001b[1;33m)\u001b[0m\u001b[1;33m\u001b[0m\u001b[0m\n\u001b[0m\u001b[0;32m     66\u001b[0m \u001b[1;33m\u001b[0m\u001b[0m\n\u001b[0;32m     67\u001b[0m     \u001b[1;32mdef\u001b[0m \u001b[0msample\u001b[0m\u001b[1;33m(\u001b[0m\u001b[0mself\u001b[0m\u001b[1;33m,\u001b[0m \u001b[1;33m**\u001b[0m\u001b[0mparams\u001b[0m\u001b[1;33m)\u001b[0m\u001b[1;33m:\u001b[0m\u001b[1;33m\u001b[0m\u001b[0m\n",
        "\u001b[1;32mC:\\Python34\\lib\\site-packages\\twython\\streaming\\api.py\u001b[0m in \u001b[0;36m_request\u001b[1;34m(self, url, method, params)\u001b[0m\n\u001b[0;32m    132\u001b[0m             \u001b[0mresponse\u001b[0m \u001b[1;33m=\u001b[0m \u001b[0m_send\u001b[0m\u001b[1;33m(\u001b[0m\u001b[0mretry_counter\u001b[0m\u001b[1;33m)\u001b[0m\u001b[1;33m\u001b[0m\u001b[0m\n\u001b[0;32m    133\u001b[0m \u001b[1;33m\u001b[0m\u001b[0m\n\u001b[1;32m--> 134\u001b[1;33m             \u001b[1;32mfor\u001b[0m \u001b[0mline\u001b[0m \u001b[1;32min\u001b[0m \u001b[0mresponse\u001b[0m\u001b[1;33m.\u001b[0m\u001b[0miter_lines\u001b[0m\u001b[1;33m(\u001b[0m\u001b[0mself\u001b[0m\u001b[1;33m.\u001b[0m\u001b[0mchunk_size\u001b[0m\u001b[1;33m)\u001b[0m\u001b[1;33m:\u001b[0m\u001b[1;33m\u001b[0m\u001b[0m\n\u001b[0m\u001b[0;32m    135\u001b[0m                 \u001b[1;32mif\u001b[0m \u001b[1;32mnot\u001b[0m \u001b[0mself\u001b[0m\u001b[1;33m.\u001b[0m\u001b[0mconnected\u001b[0m\u001b[1;33m:\u001b[0m\u001b[1;33m\u001b[0m\u001b[0m\n\u001b[0;32m    136\u001b[0m                     \u001b[1;32mbreak\u001b[0m\u001b[1;33m\u001b[0m\u001b[0m\n",
        "\u001b[1;32mC:\\Python34\\lib\\site-packages\\requests\\models.py\u001b[0m in \u001b[0;36miter_lines\u001b[1;34m(self, chunk_size, decode_unicode)\u001b[0m\n\u001b[0;32m    643\u001b[0m \u001b[1;33m\u001b[0m\u001b[0m\n\u001b[0;32m    644\u001b[0m         for chunk in self.iter_content(chunk_size=chunk_size,\n\u001b[1;32m--> 645\u001b[1;33m                                        decode_unicode=decode_unicode):\n\u001b[0m\u001b[0;32m    646\u001b[0m \u001b[1;33m\u001b[0m\u001b[0m\n\u001b[0;32m    647\u001b[0m             \u001b[1;32mif\u001b[0m \u001b[0mpending\u001b[0m \u001b[1;32mis\u001b[0m \u001b[1;32mnot\u001b[0m \u001b[1;32mNone\u001b[0m\u001b[1;33m:\u001b[0m\u001b[1;33m\u001b[0m\u001b[0m\n",
        "\u001b[1;32mC:\\Python34\\lib\\site-packages\\requests\\models.py\u001b[0m in \u001b[0;36mgenerate\u001b[1;34m()\u001b[0m\n\u001b[0;32m    613\u001b[0m                 \u001b[1;32mtry\u001b[0m\u001b[1;33m:\u001b[0m\u001b[1;33m\u001b[0m\u001b[0m\n\u001b[0;32m    614\u001b[0m                     for chunk in self.raw.stream(chunk_size,\n\u001b[1;32m--> 615\u001b[1;33m                                                  decode_content=True):\n\u001b[0m\u001b[0;32m    616\u001b[0m                         \u001b[1;32myield\u001b[0m \u001b[0mchunk\u001b[0m\u001b[1;33m\u001b[0m\u001b[0m\n\u001b[0;32m    617\u001b[0m                 \u001b[1;32mexcept\u001b[0m \u001b[0mIncompleteRead\u001b[0m \u001b[1;32mas\u001b[0m \u001b[0me\u001b[0m\u001b[1;33m:\u001b[0m\u001b[1;33m\u001b[0m\u001b[0m\n",
        "\u001b[1;32mC:\\Python34\\lib\\site-packages\\requests\\packages\\urllib3\\response.py\u001b[0m in \u001b[0;36mstream\u001b[1;34m(self, amt, decode_content)\u001b[0m\n\u001b[0;32m    234\u001b[0m         \"\"\"\n\u001b[0;32m    235\u001b[0m         \u001b[1;32mwhile\u001b[0m \u001b[1;32mnot\u001b[0m \u001b[0mis_fp_closed\u001b[0m\u001b[1;33m(\u001b[0m\u001b[0mself\u001b[0m\u001b[1;33m.\u001b[0m\u001b[0m_fp\u001b[0m\u001b[1;33m)\u001b[0m\u001b[1;33m:\u001b[0m\u001b[1;33m\u001b[0m\u001b[0m\n\u001b[1;32m--> 236\u001b[1;33m             \u001b[0mdata\u001b[0m \u001b[1;33m=\u001b[0m \u001b[0mself\u001b[0m\u001b[1;33m.\u001b[0m\u001b[0mread\u001b[0m\u001b[1;33m(\u001b[0m\u001b[0mamt\u001b[0m\u001b[1;33m=\u001b[0m\u001b[0mamt\u001b[0m\u001b[1;33m,\u001b[0m \u001b[0mdecode_content\u001b[0m\u001b[1;33m=\u001b[0m\u001b[0mdecode_content\u001b[0m\u001b[1;33m)\u001b[0m\u001b[1;33m\u001b[0m\u001b[0m\n\u001b[0m\u001b[0;32m    237\u001b[0m \u001b[1;33m\u001b[0m\u001b[0m\n\u001b[0;32m    238\u001b[0m             \u001b[1;32mif\u001b[0m \u001b[0mdata\u001b[0m\u001b[1;33m:\u001b[0m\u001b[1;33m\u001b[0m\u001b[0m\n",
        "\u001b[1;32mC:\\Python34\\lib\\site-packages\\requests\\packages\\urllib3\\response.py\u001b[0m in \u001b[0;36mread\u001b[1;34m(self, amt, decode_content, cache_content)\u001b[0m\n\u001b[0;32m    181\u001b[0m             \u001b[1;32melse\u001b[0m\u001b[1;33m:\u001b[0m\u001b[1;33m\u001b[0m\u001b[0m\n\u001b[0;32m    182\u001b[0m                 \u001b[0mcache_content\u001b[0m \u001b[1;33m=\u001b[0m \u001b[1;32mFalse\u001b[0m\u001b[1;33m\u001b[0m\u001b[0m\n\u001b[1;32m--> 183\u001b[1;33m                 \u001b[0mdata\u001b[0m \u001b[1;33m=\u001b[0m \u001b[0mself\u001b[0m\u001b[1;33m.\u001b[0m\u001b[0m_fp\u001b[0m\u001b[1;33m.\u001b[0m\u001b[0mread\u001b[0m\u001b[1;33m(\u001b[0m\u001b[0mamt\u001b[0m\u001b[1;33m)\u001b[0m\u001b[1;33m\u001b[0m\u001b[0m\n\u001b[0m\u001b[0;32m    184\u001b[0m                 \u001b[1;32mif\u001b[0m \u001b[0mamt\u001b[0m \u001b[1;33m!=\u001b[0m \u001b[1;36m0\u001b[0m \u001b[1;32mand\u001b[0m \u001b[1;32mnot\u001b[0m \u001b[0mdata\u001b[0m\u001b[1;33m:\u001b[0m  \u001b[1;31m# Platform-specific: Buggy versions of Python.\u001b[0m\u001b[1;33m\u001b[0m\u001b[0m\n\u001b[0;32m    185\u001b[0m                     \u001b[1;31m# Close the connection when no data is returned\u001b[0m\u001b[1;33m\u001b[0m\u001b[1;33m\u001b[0m\u001b[0m\n",
        "\u001b[1;32mC:\\Python34\\lib\\http\\client.py\u001b[0m in \u001b[0;36mread\u001b[1;34m(self, amt)\u001b[0m\n\u001b[0;32m    498\u001b[0m             \u001b[1;31m# Amount is given, so call base class version\u001b[0m\u001b[1;33m\u001b[0m\u001b[1;33m\u001b[0m\u001b[0m\n\u001b[0;32m    499\u001b[0m             \u001b[1;31m# (which is implemented in terms of self.readinto)\u001b[0m\u001b[1;33m\u001b[0m\u001b[1;33m\u001b[0m\u001b[0m\n\u001b[1;32m--> 500\u001b[1;33m             \u001b[1;32mreturn\u001b[0m \u001b[0msuper\u001b[0m\u001b[1;33m(\u001b[0m\u001b[0mHTTPResponse\u001b[0m\u001b[1;33m,\u001b[0m \u001b[0mself\u001b[0m\u001b[1;33m)\u001b[0m\u001b[1;33m.\u001b[0m\u001b[0mread\u001b[0m\u001b[1;33m(\u001b[0m\u001b[0mamt\u001b[0m\u001b[1;33m)\u001b[0m\u001b[1;33m\u001b[0m\u001b[0m\n\u001b[0m\u001b[0;32m    501\u001b[0m         \u001b[1;32melse\u001b[0m\u001b[1;33m:\u001b[0m\u001b[1;33m\u001b[0m\u001b[0m\n\u001b[0;32m    502\u001b[0m             \u001b[1;31m# Amount is not given (unbounded read) so we must check self.length\u001b[0m\u001b[1;33m\u001b[0m\u001b[1;33m\u001b[0m\u001b[0m\n",
        "\u001b[1;32mC:\\Python34\\lib\\http\\client.py\u001b[0m in \u001b[0;36mreadinto\u001b[1;34m(self, b)\u001b[0m\n\u001b[0;32m    527\u001b[0m \u001b[1;33m\u001b[0m\u001b[0m\n\u001b[0;32m    528\u001b[0m         \u001b[1;32mif\u001b[0m \u001b[0mself\u001b[0m\u001b[1;33m.\u001b[0m\u001b[0mchunked\u001b[0m\u001b[1;33m:\u001b[0m\u001b[1;33m\u001b[0m\u001b[0m\n\u001b[1;32m--> 529\u001b[1;33m             \u001b[1;32mreturn\u001b[0m \u001b[0mself\u001b[0m\u001b[1;33m.\u001b[0m\u001b[0m_readinto_chunked\u001b[0m\u001b[1;33m(\u001b[0m\u001b[0mb\u001b[0m\u001b[1;33m)\u001b[0m\u001b[1;33m\u001b[0m\u001b[0m\n\u001b[0m\u001b[0;32m    530\u001b[0m \u001b[1;33m\u001b[0m\u001b[0m\n\u001b[0;32m    531\u001b[0m         \u001b[1;32mif\u001b[0m \u001b[0mself\u001b[0m\u001b[1;33m.\u001b[0m\u001b[0mlength\u001b[0m \u001b[1;32mis\u001b[0m \u001b[1;32mnot\u001b[0m \u001b[1;32mNone\u001b[0m\u001b[1;33m:\u001b[0m\u001b[1;33m\u001b[0m\u001b[0m\n",
        "\u001b[1;32mC:\\Python34\\lib\\http\\client.py\u001b[0m in \u001b[0;36m_readinto_chunked\u001b[1;34m(self, b)\u001b[0m\n\u001b[0;32m    612\u001b[0m             \u001b[1;32mif\u001b[0m \u001b[0mchunk_left\u001b[0m \u001b[1;32mis\u001b[0m \u001b[1;32mNone\u001b[0m\u001b[1;33m:\u001b[0m\u001b[1;33m\u001b[0m\u001b[0m\n\u001b[0;32m    613\u001b[0m                 \u001b[1;32mtry\u001b[0m\u001b[1;33m:\u001b[0m\u001b[1;33m\u001b[0m\u001b[0m\n\u001b[1;32m--> 614\u001b[1;33m                     \u001b[0mchunk_left\u001b[0m \u001b[1;33m=\u001b[0m \u001b[0mself\u001b[0m\u001b[1;33m.\u001b[0m\u001b[0m_read_next_chunk_size\u001b[0m\u001b[1;33m(\u001b[0m\u001b[1;33m)\u001b[0m\u001b[1;33m\u001b[0m\u001b[0m\n\u001b[0m\u001b[0;32m    615\u001b[0m                     \u001b[1;32mif\u001b[0m \u001b[0mchunk_left\u001b[0m \u001b[1;33m==\u001b[0m \u001b[1;36m0\u001b[0m\u001b[1;33m:\u001b[0m\u001b[1;33m\u001b[0m\u001b[0m\n\u001b[0;32m    616\u001b[0m                         \u001b[1;32mbreak\u001b[0m\u001b[1;33m\u001b[0m\u001b[0m\n",
        "\u001b[1;32mC:\\Python34\\lib\\http\\client.py\u001b[0m in \u001b[0;36m_read_next_chunk_size\u001b[1;34m(self)\u001b[0m\n\u001b[0;32m    550\u001b[0m     \u001b[1;32mdef\u001b[0m \u001b[0m_read_next_chunk_size\u001b[0m\u001b[1;33m(\u001b[0m\u001b[0mself\u001b[0m\u001b[1;33m)\u001b[0m\u001b[1;33m:\u001b[0m\u001b[1;33m\u001b[0m\u001b[0m\n\u001b[0;32m    551\u001b[0m         \u001b[1;31m# Read the next chunk size from the file\u001b[0m\u001b[1;33m\u001b[0m\u001b[1;33m\u001b[0m\u001b[0m\n\u001b[1;32m--> 552\u001b[1;33m         \u001b[0mline\u001b[0m \u001b[1;33m=\u001b[0m \u001b[0mself\u001b[0m\u001b[1;33m.\u001b[0m\u001b[0mfp\u001b[0m\u001b[1;33m.\u001b[0m\u001b[0mreadline\u001b[0m\u001b[1;33m(\u001b[0m\u001b[0m_MAXLINE\u001b[0m \u001b[1;33m+\u001b[0m \u001b[1;36m1\u001b[0m\u001b[1;33m)\u001b[0m\u001b[1;33m\u001b[0m\u001b[0m\n\u001b[0m\u001b[0;32m    553\u001b[0m         \u001b[1;32mif\u001b[0m \u001b[0mlen\u001b[0m\u001b[1;33m(\u001b[0m\u001b[0mline\u001b[0m\u001b[1;33m)\u001b[0m \u001b[1;33m>\u001b[0m \u001b[0m_MAXLINE\u001b[0m\u001b[1;33m:\u001b[0m\u001b[1;33m\u001b[0m\u001b[0m\n\u001b[0;32m    554\u001b[0m             \u001b[1;32mraise\u001b[0m \u001b[0mLineTooLong\u001b[0m\u001b[1;33m(\u001b[0m\u001b[1;34m\"chunk size\"\u001b[0m\u001b[1;33m)\u001b[0m\u001b[1;33m\u001b[0m\u001b[0m\n",
        "\u001b[1;32mC:\\Python34\\lib\\socket.py\u001b[0m in \u001b[0;36mreadinto\u001b[1;34m(self, b)\u001b[0m\n\u001b[0;32m    369\u001b[0m         \u001b[1;32mwhile\u001b[0m \u001b[1;32mTrue\u001b[0m\u001b[1;33m:\u001b[0m\u001b[1;33m\u001b[0m\u001b[0m\n\u001b[0;32m    370\u001b[0m             \u001b[1;32mtry\u001b[0m\u001b[1;33m:\u001b[0m\u001b[1;33m\u001b[0m\u001b[0m\n\u001b[1;32m--> 371\u001b[1;33m                 \u001b[1;32mreturn\u001b[0m \u001b[0mself\u001b[0m\u001b[1;33m.\u001b[0m\u001b[0m_sock\u001b[0m\u001b[1;33m.\u001b[0m\u001b[0mrecv_into\u001b[0m\u001b[1;33m(\u001b[0m\u001b[0mb\u001b[0m\u001b[1;33m)\u001b[0m\u001b[1;33m\u001b[0m\u001b[0m\n\u001b[0m\u001b[0;32m    372\u001b[0m             \u001b[1;32mexcept\u001b[0m \u001b[0mtimeout\u001b[0m\u001b[1;33m:\u001b[0m\u001b[1;33m\u001b[0m\u001b[0m\n\u001b[0;32m    373\u001b[0m                 \u001b[0mself\u001b[0m\u001b[1;33m.\u001b[0m\u001b[0m_timeout_occurred\u001b[0m \u001b[1;33m=\u001b[0m \u001b[1;32mTrue\u001b[0m\u001b[1;33m\u001b[0m\u001b[0m\n",
        "\u001b[1;32mC:\\Python34\\lib\\ssl.py\u001b[0m in \u001b[0;36mrecv_into\u001b[1;34m(self, buffer, nbytes, flags)\u001b[0m\n\u001b[0;32m    744\u001b[0m                   \u001b[1;34m\"non-zero flags not allowed in calls to recv_into() on %s\"\u001b[0m \u001b[1;33m%\u001b[0m\u001b[1;33m\u001b[0m\u001b[0m\n\u001b[0;32m    745\u001b[0m                   self.__class__)\n\u001b[1;32m--> 746\u001b[1;33m             \u001b[1;32mreturn\u001b[0m \u001b[0mself\u001b[0m\u001b[1;33m.\u001b[0m\u001b[0mread\u001b[0m\u001b[1;33m(\u001b[0m\u001b[0mnbytes\u001b[0m\u001b[1;33m,\u001b[0m \u001b[0mbuffer\u001b[0m\u001b[1;33m)\u001b[0m\u001b[1;33m\u001b[0m\u001b[0m\n\u001b[0m\u001b[0;32m    747\u001b[0m         \u001b[1;32melse\u001b[0m\u001b[1;33m:\u001b[0m\u001b[1;33m\u001b[0m\u001b[0m\n\u001b[0;32m    748\u001b[0m             \u001b[1;32mreturn\u001b[0m \u001b[0msocket\u001b[0m\u001b[1;33m.\u001b[0m\u001b[0mrecv_into\u001b[0m\u001b[1;33m(\u001b[0m\u001b[0mself\u001b[0m\u001b[1;33m,\u001b[0m \u001b[0mbuffer\u001b[0m\u001b[1;33m,\u001b[0m \u001b[0mnbytes\u001b[0m\u001b[1;33m,\u001b[0m \u001b[0mflags\u001b[0m\u001b[1;33m)\u001b[0m\u001b[1;33m\u001b[0m\u001b[0m\n",
        "\u001b[1;32mC:\\Python34\\lib\\ssl.py\u001b[0m in \u001b[0;36mread\u001b[1;34m(self, len, buffer)\u001b[0m\n\u001b[0;32m    616\u001b[0m         \u001b[1;32mtry\u001b[0m\u001b[1;33m:\u001b[0m\u001b[1;33m\u001b[0m\u001b[0m\n\u001b[0;32m    617\u001b[0m             \u001b[1;32mif\u001b[0m \u001b[0mbuffer\u001b[0m \u001b[1;32mis\u001b[0m \u001b[1;32mnot\u001b[0m \u001b[1;32mNone\u001b[0m\u001b[1;33m:\u001b[0m\u001b[1;33m\u001b[0m\u001b[0m\n\u001b[1;32m--> 618\u001b[1;33m                 \u001b[0mv\u001b[0m \u001b[1;33m=\u001b[0m \u001b[0mself\u001b[0m\u001b[1;33m.\u001b[0m\u001b[0m_sslobj\u001b[0m\u001b[1;33m.\u001b[0m\u001b[0mread\u001b[0m\u001b[1;33m(\u001b[0m\u001b[0mlen\u001b[0m\u001b[1;33m,\u001b[0m \u001b[0mbuffer\u001b[0m\u001b[1;33m)\u001b[0m\u001b[1;33m\u001b[0m\u001b[0m\n\u001b[0m\u001b[0;32m    619\u001b[0m             \u001b[1;32melse\u001b[0m\u001b[1;33m:\u001b[0m\u001b[1;33m\u001b[0m\u001b[0m\n\u001b[0;32m    620\u001b[0m                 \u001b[0mv\u001b[0m \u001b[1;33m=\u001b[0m \u001b[0mself\u001b[0m\u001b[1;33m.\u001b[0m\u001b[0m_sslobj\u001b[0m\u001b[1;33m.\u001b[0m\u001b[0mread\u001b[0m\u001b[1;33m(\u001b[0m\u001b[0mlen\u001b[0m \u001b[1;32mor\u001b[0m \u001b[1;36m1024\u001b[0m\u001b[1;33m)\u001b[0m\u001b[1;33m\u001b[0m\u001b[0m\n",
        "\u001b[1;31mKeyboardInterrupt\u001b[0m: "
       ]
      }
     ],
     "prompt_number": 1
    },
    {
     "cell_type": "code",
     "collapsed": false,
     "input": [
      "import psycopg2\n",
      "import psycopg2.extras\n",
      "\n",
      "try:\n",
      "    conn = psycopg2.connect(dbname='Twitbase',user ='postgres',host='localhost',password='stringbeans')\n",
      "except:\n",
      "    print ('I am unable to connect to the database')\n",
      "\n",
      "cur = conn.cursor()\n",
      "cur.execute(\n",
      "    '''INSERT INTO Tweet_table (User,Text,Created,TweetID,FavoriteCount,Retweets,Hashtags)\n",
      "    VALUES (%s, %s, %s);''',\n",
      "    (data['user']['name'],data['text'],data['created_at'],data['id'],data['favorite_count'],data['retweeted'],data['entities']['hashtags']))"
     ],
     "language": "python",
     "metadata": {},
     "outputs": [
      {
       "ename": "NameError",
       "evalue": "name 'data' is not defined",
       "output_type": "pyerr",
       "traceback": [
        "\u001b[1;31m---------------------------------------------------------------------------\u001b[0m\n\u001b[1;31mNameError\u001b[0m                                 Traceback (most recent call last)",
        "\u001b[1;32m<ipython-input-10-4e8e284d6ea6>\u001b[0m in \u001b[0;36m<module>\u001b[1;34m()\u001b[0m\n\u001b[0;32m     11\u001b[0m     '''INSERT INTO Tweet_table (User,Text,Created,TweetID,FavoriteCount,Retweets,Hashtags)\n\u001b[0;32m     12\u001b[0m     VALUES (%s, %s, %s);''',\n\u001b[1;32m---> 13\u001b[1;33m     (data['user']['name'],data['text'],data['created_at'],data['id'],data['favorite_count'],data['retweeted'],data['entities']['hashtags']))\n\u001b[0m",
        "\u001b[1;31mNameError\u001b[0m: name 'data' is not defined"
       ]
      }
     ],
     "prompt_number": 10
    },
    {
     "cell_type": "code",
     "collapsed": false,
     "input": [],
     "language": "python",
     "metadata": {},
     "outputs": []
    }
   ],
   "metadata": {}
  }
 ]
}