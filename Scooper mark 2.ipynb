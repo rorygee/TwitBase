{
 "metadata": {
  "name": "",
  "signature": "sha256:f93913c376c570be05c7144a4d0ccd6783fb6a12fb17ce136e93b43a2f0e87f0"
 },
 "nbformat": 3,
 "nbformat_minor": 0,
 "worksheets": [
  {
   "cells": [
    {
     "cell_type": "code",
     "collapsed": false,
     "input": [
      "from twython import TwythonStreamer\n",
      "from twython import Twython\n",
      "App_Key = 'DHvPpUKNhPBqmOoWHTioL8R8g'\n",
      "App_Secret = 'HaCvbsQLXy61rdxbs1AuojrP0y9eunUQLYfzyzt3gOzek1BdkC'\n",
      "Oauth_Token = '2723648388-vUN5LPJCXUyM2juD5dVGegyX02gwjwOT66LisIe'\n",
      "Oauth_Token_Secret = 'Wfu5QgkHiLqdaPF7t3AcM3XCihVpxUJbrUk4dkKBjJCcZ'\n",
      "astrack = 'Milton Keynes'\n",
      "follow = 'rorygee,scoopdogg3'\n",
      "delimited = 15\n",
      "\n",
      "twitter = Twython(App_Key,App_Secret,Oauth_Token,Oauth_Token_Secret)\n",
      "\n",
      "class MyStreamer(TwythonStreamer):\n",
      "    def on_success(self, data):        \n",
      "        if 'text' in data:\n",
      "            filter(track,follow)\n",
      "            print (data['text'])#.encode('utf-8'))\n",
      "\n",
      "            def on_error(self, status_code, data):\n",
      "                print (status_code)\n",
      "                \n",
      "\n",
      "stream = MyStreamer(App_Key,App_Secret,Oauth_Token,Oauth_Token_Secret)\n",
      "stream.statuses.filter(track='twitter')"
     ],
     "language": "python",
     "metadata": {},
     "outputs": [
      {
       "output_type": "stream",
       "stream": "stdout",
       "text": [
        "RT @CallofDuty: UK/DE fans: here's the second of our four #AdvancedWarfare images. http://t.co/kPFNp9b1DP http://t.co/51U7EAU1ru\n",
        "Tim medis SulSelBar.....!!! http://t.co/VIY5mytX6d\n",
        "RT @WandaAmelita: PROMO FOLLOWER REAL:\n",
        "1K:10Rb\n",
        "2K:20Rb\n",
        "3K:30Rb\n",
        "4K:40Rb\n",
        "5K:50Rb\n",
        "Cek Pict aja. SMS 083854173735 Pembayaran ViaPulsa/BCA! http\u2026"
       ]
      },
      {
       "output_type": "stream",
       "stream": "stdout",
       "text": [
        "\n",
        "RT @pat_saru: \u307e\u305f\u30ae\u30e7\u30fc\u30b6\u304b\n",
        "http://t.co/HL6tklqmYr http://t.co/PhL3ZsUpdJ"
       ]
      },
      {
       "output_type": "stream",
       "stream": "stdout",
       "text": [
        "\n",
        "RT @jamesdrodriguez: Hoy UEFA Super Cup #HalaMadrid http://t.co/yEQVVdCCAu"
       ]
      },
      {
       "output_type": "stream",
       "stream": "stdout",
       "text": [
        "\n",
        "RT @tukkomigazo: \u5c06\u6765\u304c\u697d\u3057\u307f\u3059\u304e\u308b\u3000 http://t.co/7zsMX1bNfs"
       ]
      },
      {
       "output_type": "stream",
       "stream": "stdout",
       "text": [
        "\n",
        "RT @OMGFunniest_: Smiling sun http://t.co/v2eWK8vWdR"
       ]
      },
      {
       "output_type": "stream",
       "stream": "stdout",
       "text": [
        "\n",
        "3\u4eba\u3068\u3082\u308f\u3055\u3073\u6301\u3063\u3066\u304d\u3066\u305f\ud83d\ude11\ud83d\udc93\u7b11 http://t.co/HsSoEJafUK\n",
        "RT @Getintothis: .@rihanna readies bid to buy the Reds?  http://t.co/uqWPV1L33o @empireofthekop @JimBoardman http://t.co/MLD8fHmQho"
       ]
      },
      {
       "output_type": "stream",
       "stream": "stdout",
       "text": [
        "\n",
        "RT @gaijin_nippon: \u25c7\u65b9\u773c\u30c1\u30a7\u30c3\u30af\u30ef\u30f3\u30d4\u30fc\u30b9\uff1ahttp://t.co/TLF3iYIBpl #yaplog http://t.co/kyU3YZ5IfW"
       ]
      },
      {
       "output_type": "stream",
       "stream": "stdout",
       "text": [
        "\n",
        "RT @pika_orz: \u9752\u5cf0\u304f\u3093\u304c\u3042\u307e\u308a\u306b\u9ed2\u304f\u3066\u898b\u3048\u306a\u304b\u3063\u305f\u305f\u3081\u7d75\u304c\u5dee\u3057\u66ff\u3048\u3089\u308c\u308b\u4e8b\u6848\u304c\u767a\u751f http://t.co/kV91mHJWEm"
       ]
      },
      {
       "output_type": "stream",
       "stream": "stdout",
       "text": [
        "\n",
        "RT @TweetLikeGirIs: RIP Robin Williams, we've all lost part of our childhood today. You will never be forgotten. #RIPRobinWilliams http://t\u2026"
       ]
      },
      {
       "output_type": "stream",
       "stream": "stdout",
       "text": [
        "\n",
        "RT @SSSTTYYJH: \u0e01\u0e39\u0e44\u0e21\u0e48\u0e23\u0e39\u0e49\u0e08\u0e30\u0e14\u0e48\u0e32\u0e42\u0e0b\u0e27\u0e2d\u0e19\u0e27\u0e48\u0e32\u0e22\u0e31\u0e07\u0e44\u0e07\u0e14\u0e35 ... \u0e09\u0e25\u0e32\u0e21\u0e1a\u0e38\u0e01 !! 55555555555555555555555555555 http://t.co/ynHaODzx0J"
       ]
      },
      {
       "output_type": "stream",
       "stream": "stdout",
       "text": [
        "\n",
        "Saaaaaaaaaaaaan. http://t.co/IqKxaOJezO\n",
        "RT @bigbiggyabc: \u0e2d\u0e22\u0e32\u0e01\u0e16\u0e32\u0e21\u0e1e\u0e23\u0e30\u0e08\u0e31\u0e19\u0e17\u0e23\u0e4c\u0e27\u0e48\u0e32\u0e2d\u0e22\u0e39\u0e48\u0e1a\u0e19\u0e19\u0e31\u0e49\u0e19\u0e04\u0e19\u0e40\u0e14\u0e35\u0e22\u0e27\u0e40\u0e2b\u0e07\u0e32\u0e44\u0e2b\u0e21 . http://t.co/reFro9Ay3A"
       ]
      },
      {
       "output_type": "stream",
       "stream": "stdout",
       "text": [
        "\n",
        "RT @FIirtationship: This is so cute \ud83d\ude0d\ud83d\ude2d http://t.co/Y5wiMJIC1I"
       ]
      },
      {
       "output_type": "stream",
       "stream": "stdout",
       "text": [
        "\n",
        "RT @Fuma_Joker37: \u3010\u901f\u5831\u3011\n",
        "\n",
        "GTO\u6b21\u9031\u98a8\u78e8\u91d1\u9020\n",
        "\n",
        "GTO\u6b21\u9031\u98a8\u78e8\u91d1\u9020\n",
        "\n",
        "GTO\u6b21\u9031\u98a8\u78e8\u91d1\u9020\n",
        "\n",
        "\u270bwwwww http://t.co/VDlCwaufxQ"
       ]
      },
      {
       "output_type": "stream",
       "stream": "stdout",
       "text": [
        "\n",
        "RT @neko_manganikki: \u3010\u6f2b\u753b\u65e5\u8a18\u3011\u4ffa\u304c\u60aa\u3044 http://t.co/Pn1aKIcPGM"
       ]
      },
      {
       "output_type": "stream",
       "stream": "stdout",
       "text": [
        "\n",
        "RT @_KiraKira_mode_: \u306f\uff1f http://t.co/XdMMeTSTRR"
       ]
      },
      {
       "output_type": "stream",
       "stream": "stdout",
       "text": [
        "\n",
        "Los leemos:3 http://t.co/FQMEV75buN\n",
        "RT @heecool: HQ) \ud0dd\uc5f0 #\uc720\uacb8 #GOT7 \n",
        "@taeccool  \uc798\uc0dd\uae34\ud615\uc81c\ub4e4\n",
        "\n",
        "http://t.co/ajdAhCE5h0 http://t.co/LZtZs8rY6N"
       ]
      },
      {
       "output_type": "stream",
       "stream": "stdout",
       "text": [
        "\n",
        "RT @Kyou_4_: @ohgtk78781121 #RT\u3057\u3066\u304f\u308c\u305f\u4eba\u306e\u30a2\u30a4\u30b3\u30f3\u3092\u81ea\u5206\u306e\u7d75\u67c4\u3067\u63cf\u304f http://t.co/bXQq35Motv"
       ]
      },
      {
       "output_type": "stream",
       "stream": "stdout",
       "text": [
        "\n",
        "RT @vickyvette: http://t.co/Sh2UjcGQx5 ~ Retweet if my tshirt makes you #smile!"
       ]
      },
      {
       "output_type": "stream",
       "stream": "stdout",
       "text": [
        "\n",
        "RT @iYuiiz: \u0e04\u0e27\u0e32\u0e21\u0e19\u0e48\u0e32\u0e23\u0e31\u0e01\u0e02\u0e2d\u0e07\u0e01\u0e31\u0e19\u0e19\u0e20\u0e31\u0e17\u0e23\u0e01\u0e31\u0e1a\u0e04\u0e38\u0e13\u0e41\u0e21\u0e48 \u0e40\u0e27\u0e25\u0e32\u0e2d\u0e22\u0e39\u0e48\u0e01\u0e31\u0e1a\u0e41\u0e21\u0e48\u0e41\u0e25\u0e49\u0e27\u0e19\u0e20\u0e31\u0e17\u0e23\u0e40\u0e1b\u0e47\u0e19\u0e40\u0e14\u0e47\u0e01\u0e19\u0e49\u0e2d\u0e22\u0e21\u0e32\u0e01 \u0e19\u0e48\u0e32\u0e23\u0e31\u0e01 :D #\u0e23\u0e39\u0e1b\u0e08\u0e32\u0e01\u0e1e\u0e35\u0e48\u0e19\u0e31\u0e14 http://t.co/S7iuNvjQRm"
       ]
      },
      {
       "output_type": "stream",
       "stream": "stdout",
       "text": [
        "\n",
        "RT @M__iwa: \u591c\u306e\u541b\u305f\u3061 http://t.co/UNDJMZIOOW"
       ]
      },
      {
       "output_type": "stream",
       "stream": "stdout",
       "text": [
        "\n",
        "@looove_1110 \u307b\u3089\u3088\u597d\u304d\u306a\u306e\u6301\u3063\u3066\u3051\u301c http://t.co/hrxHvM3bue\n",
        "RT @f_masuo: \u3048\u3047!? \u3053\u308c\u304c\u5642\u306e\u5996\u602a\u30a6\u30a9\u30c3\u30c1\u304b\u3044!? http://t.co/G4DmZ4VL9o"
       ]
      },
      {
       "output_type": "stream",
       "stream": "stdout",
       "text": [
        "\n",
        "RT @BibleOfShoes: \ud83d\udc81 http://t.co/v8lu8E9rkc"
       ]
      },
      {
       "output_type": "stream",
       "stream": "stdout",
       "text": [
        "\n",
        "RT @Kokebana: \u4e0b\u304b\u3089\u64ae\u3063\u305f\u3089\n",
        "\u3088\u3051\u30fc\u306b\u811a\u306a\u3052\u3047wwww http://t.co/ADhS795IzL"
       ]
      },
      {
       "output_type": "stream",
       "stream": "stdout",
       "text": [
        "\n",
        "RT @em_921: \u3010\u4ee3\u7406:\u898b\u3064\u304b\u308b\u307e\u3067\u62e1\u6563\u5e0c\u671b\u301110/2(\u6728)EXILE TRIBE\u6c7a\u8d77\u96c6\u4f1a\"THE \u30cf\u30a4\u30bf\u30c3\u30c1\"\u306e\u30cf\u30a4\u30bf\u30c3\u30c1\u5238\u3092\u8b72\u3063\u3066\u4e0b\u3055\u308b\u65b9\u3092\u63a2\u3057\u3066\u3044\u307e\u3059\u3002\uff11\u679a\u3067\u69cb\u3044\u307e\u305b\u3093\u306e\u3067\u304a\u8b72\u308a\u9802\u3051\u308b\u65b9\u304c\u3044\u3089\u3063\u3057\u3083\u3044\u307e\u3057\u305f\u3089\u30ea\u30d7\u304a\u9858\u3044\u81f4\u3057\u307e\u3059\uff01\uff01#EXILE http://t.c\u2026"
       ]
      },
      {
       "output_type": "stream",
       "stream": "stdout",
       "text": [
        "\n",
        "RT @fIirting: This is me http://t.co/VMCpRK3Ahh"
       ]
      },
      {
       "output_type": "stream",
       "stream": "stdout",
       "text": [
        "\n",
        "RT @soniia_16: Buenas tardeees :) @Lauriita2311  @PauLaaSmiLee8 http://t.co/d3dj4SvTQk"
       ]
      },
      {
       "output_type": "stream",
       "stream": "stdout",
       "text": [
        "\n",
        "RT @arigrande_ITA: #RT Se anche a te mancher\u00e0 per sempre Catarina \"Cat\" Valentine \u2665 http://t.co/YGDKwclmSH"
       ]
      },
      {
       "output_type": "stream",
       "stream": "stdout",
       "text": [
        "\n",
        "@ilayda_arsan Do\u011fum g\u00fcn\u00fcnde benim olmad\u0131\u011f\u0131m\u0131 kim s\u00f6yleedii :D zuhahahahahhahaha http://t.co/HcKLFmskDY"
       ]
      },
      {
       "output_type": "stream",
       "stream": "stdout",
       "text": [
        "\n",
        "RT @ZRR_A: \u5b8c\u6210\u304b\u306a http://t.co/tGEKnjO5Hm"
       ]
      },
      {
       "output_type": "stream",
       "stream": "stdout",
       "text": [
        "\n",
        "agner quebrou meu twitter agner\n",
        "@u__si_ @yian_torent http://t.co/W7ba33xNSu"
       ]
      },
      {
       "output_type": "stream",
       "stream": "stdout",
       "text": [
        "\n",
        "RT @app_labo1: \u51fa\u4f1a\u3044\u7cfb\u306e\u6700\u9ad8\u5cf0\u304c\u304d\u305f\u2661\n",
        "\u672c\u5f53\u306b\u51fa\u4f1a\u3048\u308b\u51fa\u4f1a\u3044\u7cfb\u306f\u3053\u3053\n",
        "\n",
        "iPhone\u3000\u21d2\u3000\u3010http://t.co/iPTxjxWccO\u3011\n",
        "\n",
        "Android\u3000\u21d2\u3000\u3010http://t.co/vcasGhRTwI\u3011\n",
        "\n",
        "LINE\u306eID\u3082\u3059\u3050GET\u2661 http://t.\u2026"
       ]
      },
      {
       "output_type": "stream",
       "stream": "stdout",
       "text": [
        "\n",
        "RT @NikoWavy: LMAOOOOO RT\u201c@SaigeSmoove: @NikoWavy when a white person telling you about their oppression http://t.co/M7OK5XT8YR\u201d"
       ]
      },
      {
       "output_type": "stream",
       "stream": "stdout",
       "text": [
        "\n",
        "Exactly 1 year ago today! (via @timehop) http://t.co/u7rcD7hC0O http://t.co/g2DEDXD7UR"
       ]
      },
      {
       "output_type": "stream",
       "stream": "stdout",
       "text": [
        "\n",
        "Pr\u00f3ximo mi\u00e9rcoles 20 agosto estar\u00e9 en la sala JADE en Jumilla ( Murcia ) la estaremos liando!!!  @Galaxy_Prod http://t.co/p2CSKLOSU8"
       ]
      },
      {
       "output_type": "stream",
       "stream": "stdout",
       "text": [
        "\n",
        "RT @f_masuo: \u3048\u3047!? \u3053\u308c\u304c\u5642\u306e\u5996\u602a\u30a6\u30a9\u30c3\u30c1\u304b\u3044!? http://t.co/G4DmZ4VL9o"
       ]
      },
      {
       "output_type": "stream",
       "stream": "stdout",
       "text": [
        "\n",
        "RT @tadmpwu: \u3010 \u885d\u6483\u753b\u50cf \u3011\n",
        "\n",
        "\u4eba\u985e\u306f\u98df\u6599\u3060\u3063\u305f\uff01\uff1f\n",
        "\u65e5\u672c\u3067\u5de8\u4eba\u304c\u767a\u898b\u3055\u308c\u305f\uff01\uff01\n",
        "\n",
        "\u2192http://t.co/PxmN5Ou1ye \n",
        "\n",
        "\u9032\u6483\u306e\u5de8\u4eba\uff01\uff1f\n",
        "http://t.co/nvQw6hxrOQ"
       ]
      },
      {
       "output_type": "stream",
       "stream": "stdout",
       "text": [
        "\n",
        "RT @_KiraKira_mode_: \u591c\u306e\u541b\u305f\u3061 http://t.co/qRRVo7xRL2"
       ]
      },
      {
       "output_type": "stream",
       "stream": "stdout",
       "text": [
        "\n",
        "RT @BBaitoey74: @pesionline \u0e01\u0e39\u0e02\u0e2d\u0e17\u0e27\u0e14\u0e14 \u0e21\u0e32\u0e21\u0e30\u0e08\u0e38\u0e49\u0e1a\u0e01\u0e31\u0e19\u0e19\u0e19 \u0e07\u0e31\u0e48\u0e21\u0e21\u0e21 http://t.co/PpGp8mJ04Q"
       ]
      },
      {
       "output_type": "stream",
       "stream": "stdout",
       "text": [
        "\n",
        "RT @afpbbcom: \u540d\u512a\u30ed\u30d3\u30f3\u30fb\u30a6\u30a3\u30ea\u30a2\u30e0\u30ba\u3001\u30b3\u30e1\u30c7\u30a3\u30fc\u6f14\u6280\u306e\u88cf\u3067\u898b\u305b\u305f\u5f71 http://t.co/2f4ibYkoJ7 \u4e16\u754c\u306e\u6700\u65b0\u30cb\u30e5\u30fc\u30b9\u306f\u3053\u3061\u3089\u2192 http://t.co/Rqz4GdBvBJ \uff1a\u5199\u771f http://t.co/RgkJilkkn6"
       ]
      },
      {
       "output_type": "stream",
       "stream": "stdout",
       "text": [
        "\n",
        "RT @_gahara_san: \u6210\u4eba\u306e\u30ed\u30ea\u9854\u3092\u5408\u6cd5\u30ed\u30ea\u3068\u8a00\u3046\u306e\u306a\u3089\u3053\u3046\u3044\u3046\u306e\u306f\u9055\u6cd5BBA\u3067\u3044\u3044\u306e\u304b\u306a\uff1f http://t.co/yKyRdP0h0D"
       ]
      },
      {
       "output_type": "stream",
       "stream": "stdout",
       "text": [
        "\n",
        "RT @BankJamesFC: \u201c@non_hormones: \u0e21\u0e2d\u0e07\u0e08\u0e32\u0e01\u0e02\u0e49\u0e32\u0e07\u0e25\u0e48\u0e32\u0e07\u0e2b\u0e25\u0e48\u0e2d\u0e01\u0e31\u0e19\u0e21\u0e31\u0e49\u0e22\u0e25\u0e4a\u0e32\u0e27\u0e27 cr.bas_piyatida http://t.co/orT9wCfTO8\u201d"
       ]
      },
      {
       "output_type": "stream",
       "stream": "stdout",
       "text": [
        "\n",
        "RT @m2so4: \u82b1\u51a0\u3000#\u307e\u3069\u30de\u30ae\u7248\u771f\u5263\u6df1\u591c\u306e\u304a\u7d75\u304b\u304d60\u5206\u4e00\u672c\u52dd\u8ca0\u3000\u54b2\u304d\u901d\u304f\u8cb4\u5973\u3078 http://t.co/asbcbweTUY"
       ]
      },
      {
       "output_type": "stream",
       "stream": "stdout",
       "text": [
        "\n",
        "RT @RadioNuble: Concejal Joseph Careaga denuncia cobro indebido de empresa de parquimetros ECM.jm. http://t.co/6EzW0PARcr"
       ]
      },
      {
       "output_type": "stream",
       "stream": "stdout",
       "text": [
        "\n",
        "RT @yuzun_jm: \u30a8\u30a4\u30bf\u30fc\u53cb\u9054\u304b\u3089\u9001\u3089\u308c\u3066\u304d\u305f\u95a2\u30b8\u30e3\u30cb\u306e\u30e6\u30a2\u30de\u30a4\u30bd\u30fc\u30bd\u30fc\u304c\u3053\u3061\u3089\u3002\n",
        "\n",
        "\u3046\u30fc\u3093\u3002\u697d\u3057\u305d\u3046\uff57\uff57\uff57\uff57\uff57\uff57\uff57\uff57\uff57\uff57 http://t.co/EUupjxLVhv"
       ]
      },
      {
       "output_type": "stream",
       "stream": "stdout",
       "text": [
        "\n",
        "@LucasCasals Le puedes dar RT https://t.co/dqm9niW6Sh Muchas graciaaas\ud83d\ude18\ud83d\ude18\u263a\ufe0f\n",
        "RT @bndro11: \u0644\u0644\u0628\u064a\u0639 \u0631\u062a\u0648\u064a\u062a \u0648\u0645\u062a\u0627\u0628\u0639\u064a\u0646 #\u0627\u0644\u0639\u064a\u062f_\u0641\u064a_\u0627\u0644\u0633\u0639\u0648\u062f\u064a\u0647 - #\u0627\u0644\u0639\u064a\u062f_\u062d\u0648\u0644_\u0627\u0644\u0639\u0627\u0644\u0645 #\u0627\u0644\u0639\u064a\u062f_\u0641\u064a_\u0630\u0627\u0643\u0631\u0629_\u0627\u0644\u0645\u063a\u0631\u062f\u064a\u0646\n",
        "http://t.co/dzACGsfhaj 485"
       ]
      },
      {
       "output_type": "stream",
       "stream": "stdout",
       "text": [
        "\n",
        "RT @uuuuuurin: SARU\u3067\u306e\u30e9\u30a4\u30d6\u3042\u308a\u304c\u3068\u3046\u3054\u3056\u3044\u307e\u3057\u305f\uff01\u671d\u304b\u3089\u5927\u304d\u3044\u58f0\u305f\u304f\u3055\u3093\u805e\u3051\u3066\u3001\u6700\u9ad8\u3060\u3063\u305f\u3088\u270c\ufe0f\u3042\u308a\u304c\u3068\u3046\u301c\uff01\u7d42\u6f14\u5f8c\u7269\u8ca9\u304a\u5f85\u3061\u3057\u3066\u307e\u3059\u270c\ufe0f\u270c\ufe0f\u270c\ufe0f http://t.co/doObEchtHB"
       ]
      },
      {
       "output_type": "stream",
       "stream": "stdout",
       "text": [
        "\n",
        "RT @DUNYAOfficial: \u0639\u0645\u0631\u0627\u0646 \u062e\u0627\u0646 \u0633\u06d2 \u0627\u0646 \u06a9\u0627 \u067e\u0631\u0648\u06af\u0631\u0627\u0645 \u067e\u0648\u0686\u06be\u0627 \u06c1\u06d2\u060c\u0627\u062c\u0627\u0632\u062a \u067e\u0631 \u062c\u0648\u0627\u0628 \u062f\u06cc\u0646\u0627 \u0645\u0634\u06a9\u0644 \u06c1\u06d2\u060c\u067e\u0631\u0648\u06cc\u0632 \u0631\u0634\u06cc\u062f http://t.co/NXoLUAhzud http://t.co/ahw9e5BhtU"
       ]
      },
      {
       "output_type": "stream",
       "stream": "stdout",
       "text": [
        "\n",
        "RT @zuk60: Sadly the root of so much EVIL WITHIN the world is in this pic.. http://t.co/jFRNlPJH11"
       ]
      },
      {
       "output_type": "stream",
       "stream": "stdout",
       "text": [
        "\n",
        "RT @delCamp_cat: A Santa Coloma de Queralt han cremat uns 9.000m2 de palla. http://t.co/USCB1FTSLw #delCamp http://t.co/hfTIGGr2lS http://t\u2026"
       ]
      },
      {
       "output_type": "stream",
       "stream": "stdout",
       "text": [
        "\n",
        "\u0627\u0630\u0627 \u0633\u0648\u064a\u062a \u0645\u0635\u064a\u0628\u0647 ... http://t.co/UGY6lJxcGu\n",
        "I love how Twitter censors content from its users. #FirstAmmendment #Freedom"
       ]
      },
      {
       "output_type": "stream",
       "stream": "stdout",
       "text": [
        "\n",
        "RT @ESPNNFL: The Cleveland Browns announce the signing of former Bears/Redskins QB Rex Grossman. http://t.co/QYo0bwwxak"
       ]
      },
      {
       "output_type": "stream",
       "stream": "stdout",
       "text": [
        "\n",
        "Buenos d\u00edas!  #villahermosa #tabasco #m\u00e9xico #day #morning #mx #river #bridge http://t.co/3crg743HWv\n",
        "Receiving great questions for #FutureWasYesterday session @ #CondoConference submit yours 2day http://t.co/4cgNuhAbqW http://t.co/qGYyGAWZY6"
       ]
      },
      {
       "output_type": "stream",
       "stream": "stdout",
       "text": [
        "\n",
        "RT @kandoezo: \u30c0\u30eb\u300c\u3042\u308c\u304c\u304a\u524d\u306e\u5ac1\u3055\u3093\u304b\u300d\u30de\u30fc\u300e\u304a\u30d0\u30ab\u30bf\u30ec\u30f3\u30c8\u3067\u3059\u3051\u3069\u306d\u300f\u30c0\u30eb\u300c\u990a\u80b2\u8cbb\u67081000\u4e07\u5186\u3068\u304b\u8a00\u3044\u51fa\u3059\u30d0\u30ab\u5ac1\u3088\u308a\u30de\u30b7\u3060\u308d\u300d http://t.co/p923KEmB9i"
       ]
      },
      {
       "output_type": "stream",
       "stream": "stdout",
       "text": [
        "\n",
        "RT @neko_manganikki: \u3010\u6f2b\u753b\u65e5\u8a18\u3011\u4ffa\u304c\u60aa\u3044 http://t.co/Pn1aKIcPGM"
       ]
      },
      {
       "output_type": "stream",
       "stream": "stdout",
       "text": [
        "\n",
        "RT @JasaAutoID: JASA TAMBAH FOLLOWER TWITTER REAL INDO\n",
        "1000f = 10rb\n",
        "2000f = 20rb \n",
        "3000f = 30rb\n",
        "4000f = 40rb\n",
        "5000f = 50rb\n",
        "\n",
        "Mnt? BBM: 29DEE1A\u2026"
       ]
      },
      {
       "output_type": "stream",
       "stream": "stdout",
       "text": [
        "\n",
        "RT @saipinkid: \u30b3\u30df\u30b12\u65e5\u76ee\u3067\u9812\u5e03\u3059\u308b\u65b0\u520a\u300e\u30cb\u30fc\u30c8\u306e\u5947\u5999\u306a\u5192\u967a\u3000\u7dcf\u96c6\u7de8\u300f\u306e\u63cf\u304d\u304a\u308d\u3057\u6f2b\u753b\u3067\u3059\uff01\u30b7\u30d6\u30a4\u306d\uff5e\uff01\uff01\u3000\u8a73\u7d30\u3000http://t.co/FOgctFFf92 http://t.co/NciErAGUZa"
       ]
      },
      {
       "output_type": "stream",
       "stream": "stdout",
       "text": [
        "\n",
        "RT @Jawan_desu: \"I miss you\"\n",
        "\"What you doing I wanna see you\"\n",
        "\"Let's chill tonight\" http://t.co/reANIe43qG"
       ]
      },
      {
       "output_type": "stream",
       "stream": "stdout",
       "text": [
        "\n"
       ]
      },
      {
       "ename": "KeyboardInterrupt",
       "evalue": "",
       "output_type": "pyerr",
       "traceback": [
        "\u001b[1;31m---------------------------------------------------------------------------\u001b[0m\n\u001b[1;31mKeyboardInterrupt\u001b[0m                         Traceback (most recent call last)",
        "\u001b[1;32m<ipython-input-23-7288972bbc5e>\u001b[0m in \u001b[0;36m<module>\u001b[1;34m()\u001b[0m\n\u001b[0;32m     22\u001b[0m \u001b[1;33m\u001b[0m\u001b[0m\n\u001b[0;32m     23\u001b[0m \u001b[0mstream\u001b[0m \u001b[1;33m=\u001b[0m \u001b[0mMyStreamer\u001b[0m\u001b[1;33m(\u001b[0m\u001b[0mApp_Key\u001b[0m\u001b[1;33m,\u001b[0m\u001b[0mApp_Secret\u001b[0m\u001b[1;33m,\u001b[0m\u001b[0mOauth_Token\u001b[0m\u001b[1;33m,\u001b[0m\u001b[0mOauth_Token_Secret\u001b[0m\u001b[1;33m)\u001b[0m\u001b[1;33m\u001b[0m\u001b[0m\n\u001b[1;32m---> 24\u001b[1;33m \u001b[0mstream\u001b[0m\u001b[1;33m.\u001b[0m\u001b[0mstatuses\u001b[0m\u001b[1;33m.\u001b[0m\u001b[0mfilter\u001b[0m\u001b[1;33m(\u001b[0m\u001b[0mtrack\u001b[0m\u001b[1;33m=\u001b[0m\u001b[1;34m'twitter'\u001b[0m\u001b[1;33m)\u001b[0m\u001b[1;33m\u001b[0m\u001b[0m\n\u001b[0m",
        "\u001b[1;32mC:\\Python34\\lib\\site-packages\\twython\\streaming\\types.py\u001b[0m in \u001b[0;36mfilter\u001b[1;34m(self, **params)\u001b[0m\n\u001b[0;32m     63\u001b[0m         \u001b[0murl\u001b[0m \u001b[1;33m=\u001b[0m \u001b[1;34m'https://stream.twitter.com/%s/statuses/filter.json'\u001b[0m\u001b[0;31m \u001b[0m\u001b[0;31m\\\u001b[0m\u001b[1;33m\u001b[0m\u001b[0m\n\u001b[0;32m     64\u001b[0m               \u001b[1;33m%\u001b[0m \u001b[0mself\u001b[0m\u001b[1;33m.\u001b[0m\u001b[0mstreamer\u001b[0m\u001b[1;33m.\u001b[0m\u001b[0mapi_version\u001b[0m\u001b[1;33m\u001b[0m\u001b[0m\n\u001b[1;32m---> 65\u001b[1;33m         \u001b[0mself\u001b[0m\u001b[1;33m.\u001b[0m\u001b[0mstreamer\u001b[0m\u001b[1;33m.\u001b[0m\u001b[0m_request\u001b[0m\u001b[1;33m(\u001b[0m\u001b[0murl\u001b[0m\u001b[1;33m,\u001b[0m \u001b[1;34m'POST'\u001b[0m\u001b[1;33m,\u001b[0m \u001b[0mparams\u001b[0m\u001b[1;33m=\u001b[0m\u001b[0mparams\u001b[0m\u001b[1;33m)\u001b[0m\u001b[1;33m\u001b[0m\u001b[0m\n\u001b[0m\u001b[0;32m     66\u001b[0m \u001b[1;33m\u001b[0m\u001b[0m\n\u001b[0;32m     67\u001b[0m     \u001b[1;32mdef\u001b[0m \u001b[0msample\u001b[0m\u001b[1;33m(\u001b[0m\u001b[0mself\u001b[0m\u001b[1;33m,\u001b[0m \u001b[1;33m**\u001b[0m\u001b[0mparams\u001b[0m\u001b[1;33m)\u001b[0m\u001b[1;33m:\u001b[0m\u001b[1;33m\u001b[0m\u001b[0m\n",
        "\u001b[1;32mC:\\Python34\\lib\\site-packages\\twython\\streaming\\api.py\u001b[0m in \u001b[0;36m_request\u001b[1;34m(self, url, method, params)\u001b[0m\n\u001b[0;32m    132\u001b[0m             \u001b[0mresponse\u001b[0m \u001b[1;33m=\u001b[0m \u001b[0m_send\u001b[0m\u001b[1;33m(\u001b[0m\u001b[0mretry_counter\u001b[0m\u001b[1;33m)\u001b[0m\u001b[1;33m\u001b[0m\u001b[0m\n\u001b[0;32m    133\u001b[0m \u001b[1;33m\u001b[0m\u001b[0m\n\u001b[1;32m--> 134\u001b[1;33m             \u001b[1;32mfor\u001b[0m \u001b[0mline\u001b[0m \u001b[1;32min\u001b[0m \u001b[0mresponse\u001b[0m\u001b[1;33m.\u001b[0m\u001b[0miter_lines\u001b[0m\u001b[1;33m(\u001b[0m\u001b[0mself\u001b[0m\u001b[1;33m.\u001b[0m\u001b[0mchunk_size\u001b[0m\u001b[1;33m)\u001b[0m\u001b[1;33m:\u001b[0m\u001b[1;33m\u001b[0m\u001b[0m\n\u001b[0m\u001b[0;32m    135\u001b[0m                 \u001b[1;32mif\u001b[0m \u001b[1;32mnot\u001b[0m \u001b[0mself\u001b[0m\u001b[1;33m.\u001b[0m\u001b[0mconnected\u001b[0m\u001b[1;33m:\u001b[0m\u001b[1;33m\u001b[0m\u001b[0m\n\u001b[0;32m    136\u001b[0m                     \u001b[1;32mbreak\u001b[0m\u001b[1;33m\u001b[0m\u001b[0m\n",
        "\u001b[1;32mC:\\Python34\\lib\\site-packages\\requests\\models.py\u001b[0m in \u001b[0;36miter_lines\u001b[1;34m(self, chunk_size, decode_unicode)\u001b[0m\n\u001b[0;32m    643\u001b[0m \u001b[1;33m\u001b[0m\u001b[0m\n\u001b[0;32m    644\u001b[0m         for chunk in self.iter_content(chunk_size=chunk_size,\n\u001b[1;32m--> 645\u001b[1;33m                                        decode_unicode=decode_unicode):\n\u001b[0m\u001b[0;32m    646\u001b[0m \u001b[1;33m\u001b[0m\u001b[0m\n\u001b[0;32m    647\u001b[0m             \u001b[1;32mif\u001b[0m \u001b[0mpending\u001b[0m \u001b[1;32mis\u001b[0m \u001b[1;32mnot\u001b[0m \u001b[1;32mNone\u001b[0m\u001b[1;33m:\u001b[0m\u001b[1;33m\u001b[0m\u001b[0m\n",
        "\u001b[1;32mC:\\Python34\\lib\\site-packages\\requests\\models.py\u001b[0m in \u001b[0;36mgenerate\u001b[1;34m()\u001b[0m\n\u001b[0;32m    613\u001b[0m                 \u001b[1;32mtry\u001b[0m\u001b[1;33m:\u001b[0m\u001b[1;33m\u001b[0m\u001b[0m\n\u001b[0;32m    614\u001b[0m                     for chunk in self.raw.stream(chunk_size,\n\u001b[1;32m--> 615\u001b[1;33m                                                  decode_content=True):\n\u001b[0m\u001b[0;32m    616\u001b[0m                         \u001b[1;32myield\u001b[0m \u001b[0mchunk\u001b[0m\u001b[1;33m\u001b[0m\u001b[0m\n\u001b[0;32m    617\u001b[0m                 \u001b[1;32mexcept\u001b[0m \u001b[0mIncompleteRead\u001b[0m \u001b[1;32mas\u001b[0m \u001b[0me\u001b[0m\u001b[1;33m:\u001b[0m\u001b[1;33m\u001b[0m\u001b[0m\n",
        "\u001b[1;32mC:\\Python34\\lib\\site-packages\\requests\\packages\\urllib3\\response.py\u001b[0m in \u001b[0;36mstream\u001b[1;34m(self, amt, decode_content)\u001b[0m\n\u001b[0;32m    234\u001b[0m         \"\"\"\n\u001b[0;32m    235\u001b[0m         \u001b[1;32mwhile\u001b[0m \u001b[1;32mnot\u001b[0m \u001b[0mis_fp_closed\u001b[0m\u001b[1;33m(\u001b[0m\u001b[0mself\u001b[0m\u001b[1;33m.\u001b[0m\u001b[0m_fp\u001b[0m\u001b[1;33m)\u001b[0m\u001b[1;33m:\u001b[0m\u001b[1;33m\u001b[0m\u001b[0m\n\u001b[1;32m--> 236\u001b[1;33m             \u001b[0mdata\u001b[0m \u001b[1;33m=\u001b[0m \u001b[0mself\u001b[0m\u001b[1;33m.\u001b[0m\u001b[0mread\u001b[0m\u001b[1;33m(\u001b[0m\u001b[0mamt\u001b[0m\u001b[1;33m=\u001b[0m\u001b[0mamt\u001b[0m\u001b[1;33m,\u001b[0m \u001b[0mdecode_content\u001b[0m\u001b[1;33m=\u001b[0m\u001b[0mdecode_content\u001b[0m\u001b[1;33m)\u001b[0m\u001b[1;33m\u001b[0m\u001b[0m\n\u001b[0m\u001b[0;32m    237\u001b[0m \u001b[1;33m\u001b[0m\u001b[0m\n\u001b[0;32m    238\u001b[0m             \u001b[1;32mif\u001b[0m \u001b[0mdata\u001b[0m\u001b[1;33m:\u001b[0m\u001b[1;33m\u001b[0m\u001b[0m\n",
        "\u001b[1;32mC:\\Python34\\lib\\site-packages\\requests\\packages\\urllib3\\response.py\u001b[0m in \u001b[0;36mread\u001b[1;34m(self, amt, decode_content, cache_content)\u001b[0m\n\u001b[0;32m    181\u001b[0m             \u001b[1;32melse\u001b[0m\u001b[1;33m:\u001b[0m\u001b[1;33m\u001b[0m\u001b[0m\n\u001b[0;32m    182\u001b[0m                 \u001b[0mcache_content\u001b[0m \u001b[1;33m=\u001b[0m \u001b[1;32mFalse\u001b[0m\u001b[1;33m\u001b[0m\u001b[0m\n\u001b[1;32m--> 183\u001b[1;33m                 \u001b[0mdata\u001b[0m \u001b[1;33m=\u001b[0m \u001b[0mself\u001b[0m\u001b[1;33m.\u001b[0m\u001b[0m_fp\u001b[0m\u001b[1;33m.\u001b[0m\u001b[0mread\u001b[0m\u001b[1;33m(\u001b[0m\u001b[0mamt\u001b[0m\u001b[1;33m)\u001b[0m\u001b[1;33m\u001b[0m\u001b[0m\n\u001b[0m\u001b[0;32m    184\u001b[0m                 \u001b[1;32mif\u001b[0m \u001b[0mamt\u001b[0m \u001b[1;33m!=\u001b[0m \u001b[1;36m0\u001b[0m \u001b[1;32mand\u001b[0m \u001b[1;32mnot\u001b[0m \u001b[0mdata\u001b[0m\u001b[1;33m:\u001b[0m  \u001b[1;31m# Platform-specific: Buggy versions of Python.\u001b[0m\u001b[1;33m\u001b[0m\u001b[0m\n\u001b[0;32m    185\u001b[0m                     \u001b[1;31m# Close the connection when no data is returned\u001b[0m\u001b[1;33m\u001b[0m\u001b[1;33m\u001b[0m\u001b[0m\n",
        "\u001b[1;32mC:\\Python34\\lib\\http\\client.py\u001b[0m in \u001b[0;36mread\u001b[1;34m(self, amt)\u001b[0m\n\u001b[0;32m    498\u001b[0m             \u001b[1;31m# Amount is given, so call base class version\u001b[0m\u001b[1;33m\u001b[0m\u001b[1;33m\u001b[0m\u001b[0m\n\u001b[0;32m    499\u001b[0m             \u001b[1;31m# (which is implemented in terms of self.readinto)\u001b[0m\u001b[1;33m\u001b[0m\u001b[1;33m\u001b[0m\u001b[0m\n\u001b[1;32m--> 500\u001b[1;33m             \u001b[1;32mreturn\u001b[0m \u001b[0msuper\u001b[0m\u001b[1;33m(\u001b[0m\u001b[0mHTTPResponse\u001b[0m\u001b[1;33m,\u001b[0m \u001b[0mself\u001b[0m\u001b[1;33m)\u001b[0m\u001b[1;33m.\u001b[0m\u001b[0mread\u001b[0m\u001b[1;33m(\u001b[0m\u001b[0mamt\u001b[0m\u001b[1;33m)\u001b[0m\u001b[1;33m\u001b[0m\u001b[0m\n\u001b[0m\u001b[0;32m    501\u001b[0m         \u001b[1;32melse\u001b[0m\u001b[1;33m:\u001b[0m\u001b[1;33m\u001b[0m\u001b[0m\n\u001b[0;32m    502\u001b[0m             \u001b[1;31m# Amount is not given (unbounded read) so we must check self.length\u001b[0m\u001b[1;33m\u001b[0m\u001b[1;33m\u001b[0m\u001b[0m\n",
        "\u001b[1;32mC:\\Python34\\lib\\http\\client.py\u001b[0m in \u001b[0;36mreadinto\u001b[1;34m(self, b)\u001b[0m\n\u001b[0;32m    527\u001b[0m \u001b[1;33m\u001b[0m\u001b[0m\n\u001b[0;32m    528\u001b[0m         \u001b[1;32mif\u001b[0m \u001b[0mself\u001b[0m\u001b[1;33m.\u001b[0m\u001b[0mchunked\u001b[0m\u001b[1;33m:\u001b[0m\u001b[1;33m\u001b[0m\u001b[0m\n\u001b[1;32m--> 529\u001b[1;33m             \u001b[1;32mreturn\u001b[0m \u001b[0mself\u001b[0m\u001b[1;33m.\u001b[0m\u001b[0m_readinto_chunked\u001b[0m\u001b[1;33m(\u001b[0m\u001b[0mb\u001b[0m\u001b[1;33m)\u001b[0m\u001b[1;33m\u001b[0m\u001b[0m\n\u001b[0m\u001b[0;32m    530\u001b[0m \u001b[1;33m\u001b[0m\u001b[0m\n\u001b[0;32m    531\u001b[0m         \u001b[1;32mif\u001b[0m \u001b[0mself\u001b[0m\u001b[1;33m.\u001b[0m\u001b[0mlength\u001b[0m \u001b[1;32mis\u001b[0m \u001b[1;32mnot\u001b[0m \u001b[1;32mNone\u001b[0m\u001b[1;33m:\u001b[0m\u001b[1;33m\u001b[0m\u001b[0m\n",
        "\u001b[1;32mC:\\Python34\\lib\\http\\client.py\u001b[0m in \u001b[0;36m_readinto_chunked\u001b[1;34m(self, b)\u001b[0m\n\u001b[0;32m    619\u001b[0m \u001b[1;33m\u001b[0m\u001b[0m\n\u001b[0;32m    620\u001b[0m             \u001b[1;32mif\u001b[0m \u001b[0mlen\u001b[0m\u001b[1;33m(\u001b[0m\u001b[0mmvb\u001b[0m\u001b[1;33m)\u001b[0m \u001b[1;33m<\u001b[0m \u001b[0mchunk_left\u001b[0m\u001b[1;33m:\u001b[0m\u001b[1;33m\u001b[0m\u001b[0m\n\u001b[1;32m--> 621\u001b[1;33m                 \u001b[0mn\u001b[0m \u001b[1;33m=\u001b[0m \u001b[0mself\u001b[0m\u001b[1;33m.\u001b[0m\u001b[0m_safe_readinto\u001b[0m\u001b[1;33m(\u001b[0m\u001b[0mmvb\u001b[0m\u001b[1;33m)\u001b[0m\u001b[1;33m\u001b[0m\u001b[0m\n\u001b[0m\u001b[0;32m    622\u001b[0m                 \u001b[0mself\u001b[0m\u001b[1;33m.\u001b[0m\u001b[0mchunk_left\u001b[0m \u001b[1;33m=\u001b[0m \u001b[0mchunk_left\u001b[0m \u001b[1;33m-\u001b[0m \u001b[0mn\u001b[0m\u001b[1;33m\u001b[0m\u001b[0m\n\u001b[0;32m    623\u001b[0m                 \u001b[1;32mreturn\u001b[0m \u001b[0mtotal_bytes\u001b[0m \u001b[1;33m+\u001b[0m \u001b[0mn\u001b[0m\u001b[1;33m\u001b[0m\u001b[0m\n",
        "\u001b[1;32mC:\\Python34\\lib\\http\\client.py\u001b[0m in \u001b[0;36m_safe_readinto\u001b[1;34m(self, b)\u001b[0m\n\u001b[0;32m    671\u001b[0m         \u001b[0mtotal_bytes\u001b[0m \u001b[1;33m=\u001b[0m \u001b[1;36m0\u001b[0m\u001b[1;33m\u001b[0m\u001b[0m\n\u001b[0;32m    672\u001b[0m         \u001b[0mmvb\u001b[0m \u001b[1;33m=\u001b[0m \u001b[0mmemoryview\u001b[0m\u001b[1;33m(\u001b[0m\u001b[0mb\u001b[0m\u001b[1;33m)\u001b[0m\u001b[1;33m\u001b[0m\u001b[0m\n\u001b[1;32m--> 673\u001b[1;33m         \u001b[1;32mwhile\u001b[0m \u001b[0mtotal_bytes\u001b[0m \u001b[1;33m<\u001b[0m \u001b[0mlen\u001b[0m\u001b[1;33m(\u001b[0m\u001b[0mb\u001b[0m\u001b[1;33m)\u001b[0m\u001b[1;33m:\u001b[0m\u001b[1;33m\u001b[0m\u001b[0m\n\u001b[0m\u001b[0;32m    674\u001b[0m             \u001b[1;32mif\u001b[0m \u001b[0mMAXAMOUNT\u001b[0m \u001b[1;33m<\u001b[0m \u001b[0mlen\u001b[0m\u001b[1;33m(\u001b[0m\u001b[0mmvb\u001b[0m\u001b[1;33m)\u001b[0m\u001b[1;33m:\u001b[0m\u001b[1;33m\u001b[0m\u001b[0m\n\u001b[0;32m    675\u001b[0m                 \u001b[0mtemp_mvb\u001b[0m \u001b[1;33m=\u001b[0m \u001b[0mmvb\u001b[0m\u001b[1;33m[\u001b[0m\u001b[1;36m0\u001b[0m\u001b[1;33m:\u001b[0m\u001b[0mMAXAMOUNT\u001b[0m\u001b[1;33m]\u001b[0m\u001b[1;33m\u001b[0m\u001b[0m\n",
        "\u001b[1;31mKeyboardInterrupt\u001b[0m: "
       ]
      }
     ],
     "prompt_number": 23
    },
    {
     "cell_type": "code",
     "collapsed": false,
     "input": [],
     "language": "python",
     "metadata": {},
     "outputs": [],
     "prompt_number": 6
    }
   ],
   "metadata": {}
  }
 ]
}