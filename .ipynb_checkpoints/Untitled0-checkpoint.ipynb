{
 "metadata": {
  "name": "",
  "signature": "sha256:62ba0252d409a64af2fe18e011ade1a8716de13cc6f4db318ff1a7b8db9e9b07"
 },
 "nbformat": 3,
 "nbformat_minor": 0,
 "worksheets": []
}