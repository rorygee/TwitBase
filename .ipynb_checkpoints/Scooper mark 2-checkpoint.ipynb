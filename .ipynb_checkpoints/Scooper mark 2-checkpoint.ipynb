{
 "metadata": {
  "name": "",
  "signature": "sha256:fbbcba44d7822484e9a2c3f2652d09676d887c0a6477378bf6ce2c826c523aba"
 },
 "nbformat": 3,
 "nbformat_minor": 0,
 "worksheets": [
  {
   "cells": [
    {
     "cell_type": "code",
     "collapsed": false,
     "input": [
      "from twython import TwythonStreamer\n",
      "App_Key = 'DHvPpUKNhPBqmOoWHTioL8R8g'\n",
      "App_Secret = 'HaCvbsQLXy61rdxbs1AuojrP0y9eunUQLYfzyzt3gOzek1BdkC'\n",
      "Oauth_Token = '2723648388-vUN5LPJCXUyM2juD5dVGegyX02gwjwOT66LisIe'\n",
      "Oauth_Token_Secret = 'Wfu5QgkHiLqdaPF7t3AcM3XCihVpxUJbrUk4dkKBjJCcZ'\n",
      "follow = 'rorygee,scoopdogg3'\n",
      "\n",
      "print('Please enter the filtration method you wish to use: ')\n",
      "print('\\nPress \\'T\\' to use a specific term to filter the stream.')\n",
      "print('Press \\'L\\' to user a specific location to filter the stream.')\n",
      "MenuChoice = input('\\nPlease enter the choice you wish to make: ')\n",
      "\n",
      "if MenuChoice == 't':\n",
      "    termstotrack = input('please enter the phrase that you wish to filter the stream api with: ')\n",
      "    class MyStreamer(TwythonStreamer):\n",
      "        def on_success(self, data):\n",
      "            if 'text' in data:\n",
      "                #print(data)\n",
      "                print('\\nUser: {0}'.format(data['user']['name']))\n",
      "                print('Text: ',data['text']) \n",
      "                print('Created at: ',data['created_at'])\n",
      "                print('Tweet id: ',data['id'])\n",
      "                print('Favourite count: ',data['favorite_count'])\n",
      "                print('Retweeted: ',data['retweeted'])\n",
      "                print('Hashtags: ',data['entities']['hashtags'])\n",
      "                #print('Link given: ',data['expanded_url'])\n",
      "                       \n",
      "                def on_error(self, status_code, data):\n",
      "                    print (status_code)\n",
      "\n",
      "    stream = MyStreamer(App_Key,App_Secret,Oauth_Token,Oauth_Token_Secret)\n",
      "    stream.statuses.filter(track = termstotrack)\n",
      "\n",
      "elif MenuChoice == 'l':\n",
      "    locationtotrack = input('Please enter the coordinates of the area you wish to filter the stream with: ')\n",
      "    class MyStreamer(TwythonStreamer):\n",
      "        def on_success(self, data):\n",
      "            if 'text' in data:\n",
      "                #print(data)\n",
      "                print('\\nUser: {0}'.format(data['user']['name']))\n",
      "                print('Text: ',data['text']) \n",
      "                print('Created at: ',data['created_at'])\n",
      "                print('Tweet id: ',data['id'])\n",
      "                print('Favourite count: ',data['favorite_count'])\n",
      "                print('Retweeted: ',data['retweeted'])\n",
      "                print('Hashtags: ',data['entities']['hashtags'])\n",
      "                #print('Link given: ',data['expanded_url'])\n",
      "                       \n",
      "                def on_error(self, status_code, data):\n",
      "                    print (status_code)\n",
      "    \n",
      "    stream = MyStreamer(App_Key,App_Secret,Oauth_Token,Oauth_Token_Secret)\n",
      "    stream.statuses.filter(locations = locationtotrack)              "
     ],
     "language": "python",
     "metadata": {},
     "outputs": [
      {
       "output_type": "stream",
       "stream": "stdout",
       "text": [
        "Please enter the filtration method you wish to use: \n",
        "\n",
        "Press 'T' to use a specific term to filter the stream.\n",
        "Press 'L' to user a specific location to filter the stream.\n"
       ]
      }
     ]
    },
    {
     "cell_type": "code",
     "collapsed": false,
     "input": [],
     "language": "python",
     "metadata": {},
     "outputs": []
    }
   ],
   "metadata": {}
  }
 ]
}