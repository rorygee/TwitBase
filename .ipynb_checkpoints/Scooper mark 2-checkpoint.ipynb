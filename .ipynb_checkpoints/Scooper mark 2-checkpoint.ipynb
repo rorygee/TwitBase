{
 "metadata": {
  "name": "",
  "signature": "sha256:145453a3cbc23246be1415794beaa974c629dc293c3d6276e7bb73766a41027c"
 },
 "nbformat": 3,
 "nbformat_minor": 0,
 "worksheets": [
  {
   "cells": [
    {
     "cell_type": "code",
     "collapsed": false,
     "input": [
      "import json\n",
      "from twython import TwythonStreamer\n",
      "\n",
      "#this is the coding to import the json file with the parameters for the filters.\n",
      "json_File = 'C:\\\\Users\\\\Connor\\\\Desktop\\\\Local files Github\\\\settings.json'\n",
      "json_input = open(json_File).read()\n",
      "parameters = json.loads(json_input)\n",
      "\n",
      "#this is the coding to set the keys and secrets for use in the program from the json file, and all other variables needed.\n",
      "App_Key = parameters['App_Key']\n",
      "App_Secret = parameters['App_Secret']\n",
      "Oauth_Token = parameters['Oauth_Token']\n",
      "Oauth_Token_Secret = parameters['Oauth_Token_Secret']\n",
      "\n",
      "if parameters['MenuChoice'] == 't':\n",
      "     class MyStreamer(TwythonStreamer):\n",
      "         def on_success(self, data):\n",
      "            if 'text' in data:\n",
      "                #print(data)\n",
      "                print('\\nUser: {0}'.format(data['user']['name']))\n",
      "                print('Text: ',data['text']) \n",
      "                print('Created at: ',data['created_at'])\n",
      "                print('Tweet id: ',data['id'])\n",
      "                print('Favourite count: ',data['favorite_count'])\n",
      "                print('Retweeted: ',data['retweeted'])\n",
      "                print('Hashtags: ',data['entities']['hashtags'])#['text'])\n",
      "                \n",
      "                       \n",
      "                def on_error(self, status_code, data):\n",
      "                    print (status_code)\n",
      "\n",
      "     stream = MyStreamer(App_Key,App_Secret,Oauth_Token,Oauth_Token_Secret)\n",
      "     stream.statuses.filter(track = parameters['termstotrack'])\n",
      "\n",
      "elif parameters['MenuChoice'] == 'l':\n",
      "    class MyStreamer(TwythonStreamer):\n",
      "        def on_success(self, data):\n",
      "            if 'text' in data:\n",
      "                #print(data)\n",
      "                print('\\nUser: {0}'.format(data['user']['name']))\n",
      "                print('Text: ',data['text']) \n",
      "                print('Created at: ',data['created_at'])\n",
      "                print('Tweet id: ',data['id'])\n",
      "                print('Favourite count: ',data['favorite_count'])\n",
      "                print('Retweeted: ',data['retweeted'])\n",
      "                print('Hashtags: ',data['entities']['hashtags']['text'])\n",
      "                       \n",
      "                def on_error(self, status_code, data):\n",
      "                    print (status_code)\n",
      "    \n",
      "    stream = MyStreamer(App_Key,App_Secret,Oauth_Token,Oauth_Token_Secret)\n",
      "    stream.statuses.filter(locations = parameters['locationtotrack'])\n",
      "    \n",
      "elif parameters['MenuChoice'] == 'f':\n",
      "    class MyStreamer(TwythonStreamer):\n",
      "        def on_success(self, data):\n",
      "            if 'text' in data:\n",
      "                #print(data)\n",
      "                print('\\nUser: {0}'.format(data['user']['name']))\n",
      "                print('Text: ',data['text']) \n",
      "                print('Created at: ',data['created_at'])\n",
      "                print('Tweet id: ',data['id'])\n",
      "                print('Favourite count: ',data['favorite_count'])\n",
      "                print('Retweeted: ',data['retweeted'])\n",
      "                print('Hashtags: ',data['entities']['hashtags'])\n",
      "                       \n",
      "                def on_error(self, status_code, data):\n",
      "                    print (status_code)\n",
      "    \n",
      "    stream = MyStreamer(App_Key,App_Secret,Oauth_Token,Oauth_Token_Secret)\n",
      "    stream.statuses.filter(follow = parameters['follow'])\n",
      "    "
     ],
     "language": "python",
     "metadata": {},
     "outputs": [
      {
       "output_type": "stream",
       "stream": "stdout",
       "text": [
        "\n",
        "User: your girlfriend\n",
        "Text:  RT @unIovabIe: The best Robin Williams memorial picture I've seen so far http://t.co/4sMozUC9yF\n",
        "Created at:  Thu Aug 14 13:44:58 +0000 2014\n",
        "Tweet id:  499914578822983680\n",
        "Favourite count:  0\n",
        "Retweeted:  False\n",
        "Hashtags:  []\n",
        "\n",
        "User: Paul Bullard"
       ]
      },
      {
       "output_type": "stream",
       "stream": "stdout",
       "text": [
        "\n",
        "Text:  RT @alwaysonoffense: out: @MattWalshBlog \n",
        "\n",
        "in: @FBillMcMorris \n",
        "\n",
        "http://t.co/mTMP25N3q8\n",
        "Created at:  Thu Aug 14 13:44:58 +0000 2014\n",
        "Tweet id:  499914578839744512\n",
        "Favourite count:  0\n",
        "Retweeted:  False\n",
        "Hashtags:  []\n",
        "\n",
        "User: Okupa RC\n",
        "Text:  UN BIPOLAR ANTE EL SUICIDIO DE ROBIN WILLIAMS Por Rafael  Narbona http://t.co/iS6meR3SaS\n",
        "Created at:  Thu Aug 14 13:44:58 +0000 2014\n",
        "Tweet id:  499914579351457793\n",
        "Favourite count:  0\n",
        "Retweeted:  False\n",
        "Hashtags:  []\n",
        "\n",
        "User: INDYCOG"
       ]
      },
      {
       "output_type": "stream",
       "stream": "stdout",
       "text": [
        "\n",
        "Text:  RT @jasonWSJ: \"A really beautiful night.\" A story about Robin Williams and a bicycle: http://t.co/6ZTtBQ05IK @WSJ\n",
        "Created at:  Thu Aug 14 13:44:58 +0000 2014\n",
        "Tweet id:  499914580056109056\n",
        "Favourite count:  0\n",
        "Retweeted:  False\n",
        "Hashtags:  []\n",
        "\n",
        "User: San.C\u2744\ufe0f"
       ]
      },
      {
       "output_type": "stream",
       "stream": "stdout",
       "text": [
        "\n",
        "Text:  RT @unIovabIe: The best Robin Williams memorial picture I've seen so far http://t.co/4sMozUC9yF\n",
        "Created at:  Thu Aug 14 13:44:58 +0000 2014\n",
        "Tweet id:  499914581171396611\n",
        "Favourite count:  0\n",
        "Retweeted:  False\n",
        "Hashtags:  []\n",
        "\n",
        "User: Allana Ormond\n",
        "Text:  Come on into Red Robin and let me serve you free food \ud83d\udc81\ud83c\udf54\ud83c\udf7a\n",
        "Created at:  Thu Aug 14 13:44:59 +0000 2014\n",
        "Tweet id:  499914582262288384\n",
        "Favourite count:  0\n",
        "Retweeted:  False\n",
        "Hashtags:  []\n",
        "\n",
        "User: | \u0e2b\u0e19\u0e36\u0e48\u0e07\u0e21\u0e07\u0e40\u0e21\u0e35\u0e22\u0e27\u2122"
       ]
      },
      {
       "output_type": "stream",
       "stream": "stdout",
       "text": [
        "\n",
        "Text:  RT @TIME: Here are all 101 of Robin Williams\u2019 defining roles in one chart http://t.co/J73ywYuxzS http://t.co/BfcyzrdK9g\n",
        "Created at:  Thu Aug 14 13:44:59 +0000 2014\n",
        "Tweet id:  499914582228353025\n",
        "Favourite count:  0\n",
        "Retweeted:  False\n",
        "Hashtags:  []\n",
        "\n",
        "User: Bee"
       ]
      },
      {
       "output_type": "stream",
       "stream": "stdout",
       "text": [
        "\n",
        "Text:  RT @rade: Bel hommage \u00e0 Robin Williams  http://t.co/WxCd8PxfIV http://t.co/nJtodIm9BE\n",
        "Created at:  Thu Aug 14 13:44:59 +0000 2014\n",
        "Tweet id:  499914582241312769\n",
        "Favourite count:  0\n",
        "Retweeted:  False\n",
        "Hashtags:  []\n",
        "\n",
        "User: JaclynPhelpslnA\n",
        "Text:  I miss Robin Williams :(\n",
        "Created at:  Thu Aug 14 13:44:59 +0000 2014\n",
        "Tweet id:  499914582752636928\n",
        "Favourite count:  0\n",
        "Retweeted:  False\n",
        "Hashtags:  []\n",
        "\n",
        "User: Swee Tin"
       ]
      },
      {
       "output_type": "stream",
       "stream": "stdout",
       "text": [
        "\n",
        "Text:  Finally found the best picture to truly remember this amazing talented man. The one and only Mr Robin Williams. RIP. http://t.co/ZoQwXBrP9I\n",
        "Created at:  Thu Aug 14 13:44:59 +0000 2014\n",
        "Tweet id:  499914582337396736\n",
        "Favourite count:  0\n",
        "Retweeted:  False\n",
        "Hashtags:  []\n",
        "\n",
        "User: Sandrine"
       ]
      },
      {
       "output_type": "stream",
       "stream": "stdout",
       "text": [
        "\n",
        "Text:  RT @OLVKim: Robin aka le seul gars qui poste encore des trucs dans le groupe de classe.\n",
        "Created at:  Thu Aug 14 13:44:59 +0000 2014\n",
        "Tweet id:  499914583059234816\n",
        "Favourite count:  0\n",
        "Retweeted:  False\n",
        "Hashtags:  []\n",
        "\n",
        "User: Sebastian Nilsson"
       ]
      },
      {
       "output_type": "stream",
       "stream": "stdout",
       "text": [
        "\n",
        "Text:  RT @figge_22: H\u00e4r har vi den!\n",
        "\n",
        "L\u00e4nken n\u00e4r jag blir jag av med min oskuld som kr\u00f6nik\u00f6r, f\u00f6r den som vill l\u00e4sa! \n",
        "\n",
        "http://t.co/zB7vlvLZsr\n",
        "Created at:  Thu Aug 14 13:44:59 +0000 2014\n",
        "Tweet id:  499914584472715264\n",
        "Favourite count:  0\n",
        "Retweeted:  False\n",
        "Hashtags:  []\n",
        "\n",
        "User: itty paws"
       ]
      },
      {
       "output_type": "stream",
       "stream": "stdout",
       "text": [
        "\n",
        "Text:  RT @YourAnonNews: A legion of tears for Robin Williams\n",
        "Created at:  Thu Aug 14 13:44:59 +0000 2014\n",
        "Tweet id:  499914584602324993\n",
        "Favourite count:  0\n",
        "Retweeted:  False\n",
        "Hashtags:  []\n",
        "\n",
        "User: \u0e2b\u0e19\u0e21\u0e1b\u0e31\u0e07_"
       ]
      },
      {
       "output_type": "stream",
       "stream": "stdout",
       "text": [
        "\n",
        "Text:  RT @bluesherbet_: \u0e40\u0e2b\u0e47\u0e19 TIME \u0e02\u0e36\u0e49\u0e19\u0e1b\u0e01 Robin Williams \u0e01\u0e47\u0e04\u0e34\u0e14\u0e21\u0e32\u0e44\u0e14\u0e49\u0e27\u0e48\u0e32 \u0e1d\u0e23\u0e31\u0e48\u0e07\u0e40\u0e02\u0e32\u0e08\u0e30\u0e21\u0e35\u0e04\u0e19\u0e17\u0e33 database \u0e14\u0e32\u0e23\u0e32\u0e14\u0e31\u0e07\u0e46 \u0e40\u0e1c\u0e37\u0e48\u0e2d\u0e44\u0e27\u0e49\u0e2a\u0e33\u0e2b\u0e23\u0e31\u0e1a\u0e15\u0e32\u0e22 \u0e15\u0e32\u0e22\u0e41\u0e25\u0e49\u0e27\u0e42\u0e0a\u0e30\u0e1e\u0e34\u0e21\u0e1e\u0e4c\u0e40\u0e25\u0e22 htt\u2026\n",
        "Created at:  Thu Aug 14 13:44:59 +0000 2014\n",
        "Tweet id:  499914585407635456\n",
        "Favourite count:  0\n",
        "Retweeted:  False\n",
        "Hashtags:  []\n",
        "\n",
        "User: Jenna George"
       ]
      },
      {
       "output_type": "stream",
       "stream": "stdout",
       "text": [
        "\n",
        "Text:  RT @kanyewest: Thank you Robin for all of the joy you brought the world http://t.co/c0YABjcLMo\n",
        "Created at:  Thu Aug 14 13:45:00 +0000 2014\n",
        "Tweet id:  499914586448207872\n",
        "Favourite count:  0\n",
        "Retweeted:  False\n",
        "Hashtags:  []\n",
        "\n",
        "User: GlobalPalsReports\n",
        "Text:  Check out: Divorce, Money Problems Fueled Robin Williams\\'s Return to TV http://t.co/zPZV5rX3Ph via @AOL\n",
        "Created at:  Thu Aug 14 13:45:00 +0000 2014\n",
        "Tweet id:  499914586573639681\n",
        "Favourite count:  0\n",
        "Retweeted:  False\n",
        "Hashtags:  []\n",
        "\n",
        "User: Eric Langelund"
       ]
      },
      {
       "output_type": "stream",
       "stream": "stdout",
       "text": [
        "\n",
        "Text:  RT @TheIBang: Robin Williams 2012 Louie Episode  | http://t.co/VP3fXk6T3P\n",
        "Created at:  Thu Aug 14 13:45:00 +0000 2014\n",
        "Tweet id:  499914586989277184\n",
        "Favourite count:  0\n",
        "Retweeted:  False\n",
        "Hashtags:  []\n",
        "\n",
        "User: Nick Rock"
       ]
      },
      {
       "output_type": "stream",
       "stream": "stdout",
       "text": [
        "\n",
        "Text:  RT @_CollegeHumor_: The best Robin Williams memorial picture I've seen so far http://t.co/bI1YP9Bpkg\n",
        "Created at:  Thu Aug 14 13:45:00 +0000 2014\n",
        "Tweet id:  499914587580665859\n",
        "Favourite count:  0\n",
        "Retweeted:  False\n",
        "Hashtags:  []\n"
       ]
      },
      {
       "ename": "KeyboardInterrupt",
       "evalue": "",
       "output_type": "pyerr",
       "traceback": [
        "\u001b[1;31m---------------------------------------------------------------------------\u001b[0m\n\u001b[1;31mKeyboardInterrupt\u001b[0m                         Traceback (most recent call last)",
        "\u001b[1;32m<ipython-input-2-5618b65cfc3b>\u001b[0m in \u001b[0;36m<module>\u001b[1;34m()\u001b[0m\n\u001b[0;32m     31\u001b[0m \u001b[1;33m\u001b[0m\u001b[0m\n\u001b[0;32m     32\u001b[0m      \u001b[0mstream\u001b[0m \u001b[1;33m=\u001b[0m \u001b[0mMyStreamer\u001b[0m\u001b[1;33m(\u001b[0m\u001b[0mApp_Key\u001b[0m\u001b[1;33m,\u001b[0m\u001b[0mApp_Secret\u001b[0m\u001b[1;33m,\u001b[0m\u001b[0mOauth_Token\u001b[0m\u001b[1;33m,\u001b[0m\u001b[0mOauth_Token_Secret\u001b[0m\u001b[1;33m)\u001b[0m\u001b[1;33m\u001b[0m\u001b[0m\n\u001b[1;32m---> 33\u001b[1;33m      \u001b[0mstream\u001b[0m\u001b[1;33m.\u001b[0m\u001b[0mstatuses\u001b[0m\u001b[1;33m.\u001b[0m\u001b[0mfilter\u001b[0m\u001b[1;33m(\u001b[0m\u001b[0mtrack\u001b[0m \u001b[1;33m=\u001b[0m \u001b[0mparameters\u001b[0m\u001b[1;33m[\u001b[0m\u001b[1;34m'termstotrack'\u001b[0m\u001b[1;33m]\u001b[0m\u001b[1;33m)\u001b[0m\u001b[1;33m\u001b[0m\u001b[0m\n\u001b[0m\u001b[0;32m     34\u001b[0m \u001b[1;33m\u001b[0m\u001b[0m\n\u001b[0;32m     35\u001b[0m \u001b[1;32melif\u001b[0m \u001b[0mparameters\u001b[0m\u001b[1;33m[\u001b[0m\u001b[1;34m'MenuChoice'\u001b[0m\u001b[1;33m]\u001b[0m \u001b[1;33m==\u001b[0m \u001b[1;34m'l'\u001b[0m\u001b[1;33m:\u001b[0m\u001b[1;33m\u001b[0m\u001b[0m\n",
        "\u001b[1;32mC:\\Python34\\lib\\site-packages\\twython\\streaming\\types.py\u001b[0m in \u001b[0;36mfilter\u001b[1;34m(self, **params)\u001b[0m\n\u001b[0;32m     63\u001b[0m         \u001b[0murl\u001b[0m \u001b[1;33m=\u001b[0m \u001b[1;34m'https://stream.twitter.com/%s/statuses/filter.json'\u001b[0m\u001b[0;31m \u001b[0m\u001b[0;31m\\\u001b[0m\u001b[1;33m\u001b[0m\u001b[0m\n\u001b[0;32m     64\u001b[0m               \u001b[1;33m%\u001b[0m \u001b[0mself\u001b[0m\u001b[1;33m.\u001b[0m\u001b[0mstreamer\u001b[0m\u001b[1;33m.\u001b[0m\u001b[0mapi_version\u001b[0m\u001b[1;33m\u001b[0m\u001b[0m\n\u001b[1;32m---> 65\u001b[1;33m         \u001b[0mself\u001b[0m\u001b[1;33m.\u001b[0m\u001b[0mstreamer\u001b[0m\u001b[1;33m.\u001b[0m\u001b[0m_request\u001b[0m\u001b[1;33m(\u001b[0m\u001b[0murl\u001b[0m\u001b[1;33m,\u001b[0m \u001b[1;34m'POST'\u001b[0m\u001b[1;33m,\u001b[0m \u001b[0mparams\u001b[0m\u001b[1;33m=\u001b[0m\u001b[0mparams\u001b[0m\u001b[1;33m)\u001b[0m\u001b[1;33m\u001b[0m\u001b[0m\n\u001b[0m\u001b[0;32m     66\u001b[0m \u001b[1;33m\u001b[0m\u001b[0m\n\u001b[0;32m     67\u001b[0m     \u001b[1;32mdef\u001b[0m \u001b[0msample\u001b[0m\u001b[1;33m(\u001b[0m\u001b[0mself\u001b[0m\u001b[1;33m,\u001b[0m \u001b[1;33m**\u001b[0m\u001b[0mparams\u001b[0m\u001b[1;33m)\u001b[0m\u001b[1;33m:\u001b[0m\u001b[1;33m\u001b[0m\u001b[0m\n",
        "\u001b[1;32mC:\\Python34\\lib\\site-packages\\twython\\streaming\\api.py\u001b[0m in \u001b[0;36m_request\u001b[1;34m(self, url, method, params)\u001b[0m\n\u001b[0;32m    132\u001b[0m             \u001b[0mresponse\u001b[0m \u001b[1;33m=\u001b[0m \u001b[0m_send\u001b[0m\u001b[1;33m(\u001b[0m\u001b[0mretry_counter\u001b[0m\u001b[1;33m)\u001b[0m\u001b[1;33m\u001b[0m\u001b[0m\n\u001b[0;32m    133\u001b[0m \u001b[1;33m\u001b[0m\u001b[0m\n\u001b[1;32m--> 134\u001b[1;33m             \u001b[1;32mfor\u001b[0m \u001b[0mline\u001b[0m \u001b[1;32min\u001b[0m \u001b[0mresponse\u001b[0m\u001b[1;33m.\u001b[0m\u001b[0miter_lines\u001b[0m\u001b[1;33m(\u001b[0m\u001b[0mself\u001b[0m\u001b[1;33m.\u001b[0m\u001b[0mchunk_size\u001b[0m\u001b[1;33m)\u001b[0m\u001b[1;33m:\u001b[0m\u001b[1;33m\u001b[0m\u001b[0m\n\u001b[0m\u001b[0;32m    135\u001b[0m                 \u001b[1;32mif\u001b[0m \u001b[1;32mnot\u001b[0m \u001b[0mself\u001b[0m\u001b[1;33m.\u001b[0m\u001b[0mconnected\u001b[0m\u001b[1;33m:\u001b[0m\u001b[1;33m\u001b[0m\u001b[0m\n\u001b[0;32m    136\u001b[0m                     \u001b[1;32mbreak\u001b[0m\u001b[1;33m\u001b[0m\u001b[0m\n",
        "\u001b[1;32mC:\\Python34\\lib\\site-packages\\requests\\models.py\u001b[0m in \u001b[0;36miter_lines\u001b[1;34m(self, chunk_size, decode_unicode)\u001b[0m\n\u001b[0;32m    643\u001b[0m \u001b[1;33m\u001b[0m\u001b[0m\n\u001b[0;32m    644\u001b[0m         for chunk in self.iter_content(chunk_size=chunk_size,\n\u001b[1;32m--> 645\u001b[1;33m                                        decode_unicode=decode_unicode):\n\u001b[0m\u001b[0;32m    646\u001b[0m \u001b[1;33m\u001b[0m\u001b[0m\n\u001b[0;32m    647\u001b[0m             \u001b[1;32mif\u001b[0m \u001b[0mpending\u001b[0m \u001b[1;32mis\u001b[0m \u001b[1;32mnot\u001b[0m \u001b[1;32mNone\u001b[0m\u001b[1;33m:\u001b[0m\u001b[1;33m\u001b[0m\u001b[0m\n",
        "\u001b[1;32mC:\\Python34\\lib\\site-packages\\requests\\models.py\u001b[0m in \u001b[0;36mgenerate\u001b[1;34m()\u001b[0m\n\u001b[0;32m    613\u001b[0m                 \u001b[1;32mtry\u001b[0m\u001b[1;33m:\u001b[0m\u001b[1;33m\u001b[0m\u001b[0m\n\u001b[0;32m    614\u001b[0m                     for chunk in self.raw.stream(chunk_size,\n\u001b[1;32m--> 615\u001b[1;33m                                                  decode_content=True):\n\u001b[0m\u001b[0;32m    616\u001b[0m                         \u001b[1;32myield\u001b[0m \u001b[0mchunk\u001b[0m\u001b[1;33m\u001b[0m\u001b[0m\n\u001b[0;32m    617\u001b[0m                 \u001b[1;32mexcept\u001b[0m \u001b[0mIncompleteRead\u001b[0m \u001b[1;32mas\u001b[0m \u001b[0me\u001b[0m\u001b[1;33m:\u001b[0m\u001b[1;33m\u001b[0m\u001b[0m\n",
        "\u001b[1;32mC:\\Python34\\lib\\site-packages\\requests\\packages\\urllib3\\response.py\u001b[0m in \u001b[0;36mstream\u001b[1;34m(self, amt, decode_content)\u001b[0m\n\u001b[0;32m    234\u001b[0m         \"\"\"\n\u001b[0;32m    235\u001b[0m         \u001b[1;32mwhile\u001b[0m \u001b[1;32mnot\u001b[0m \u001b[0mis_fp_closed\u001b[0m\u001b[1;33m(\u001b[0m\u001b[0mself\u001b[0m\u001b[1;33m.\u001b[0m\u001b[0m_fp\u001b[0m\u001b[1;33m)\u001b[0m\u001b[1;33m:\u001b[0m\u001b[1;33m\u001b[0m\u001b[0m\n\u001b[1;32m--> 236\u001b[1;33m             \u001b[0mdata\u001b[0m \u001b[1;33m=\u001b[0m \u001b[0mself\u001b[0m\u001b[1;33m.\u001b[0m\u001b[0mread\u001b[0m\u001b[1;33m(\u001b[0m\u001b[0mamt\u001b[0m\u001b[1;33m=\u001b[0m\u001b[0mamt\u001b[0m\u001b[1;33m,\u001b[0m \u001b[0mdecode_content\u001b[0m\u001b[1;33m=\u001b[0m\u001b[0mdecode_content\u001b[0m\u001b[1;33m)\u001b[0m\u001b[1;33m\u001b[0m\u001b[0m\n\u001b[0m\u001b[0;32m    237\u001b[0m \u001b[1;33m\u001b[0m\u001b[0m\n\u001b[0;32m    238\u001b[0m             \u001b[1;32mif\u001b[0m \u001b[0mdata\u001b[0m\u001b[1;33m:\u001b[0m\u001b[1;33m\u001b[0m\u001b[0m\n",
        "\u001b[1;32mC:\\Python34\\lib\\site-packages\\requests\\packages\\urllib3\\response.py\u001b[0m in \u001b[0;36mread\u001b[1;34m(self, amt, decode_content, cache_content)\u001b[0m\n\u001b[0;32m    181\u001b[0m             \u001b[1;32melse\u001b[0m\u001b[1;33m:\u001b[0m\u001b[1;33m\u001b[0m\u001b[0m\n\u001b[0;32m    182\u001b[0m                 \u001b[0mcache_content\u001b[0m \u001b[1;33m=\u001b[0m \u001b[1;32mFalse\u001b[0m\u001b[1;33m\u001b[0m\u001b[0m\n\u001b[1;32m--> 183\u001b[1;33m                 \u001b[0mdata\u001b[0m \u001b[1;33m=\u001b[0m \u001b[0mself\u001b[0m\u001b[1;33m.\u001b[0m\u001b[0m_fp\u001b[0m\u001b[1;33m.\u001b[0m\u001b[0mread\u001b[0m\u001b[1;33m(\u001b[0m\u001b[0mamt\u001b[0m\u001b[1;33m)\u001b[0m\u001b[1;33m\u001b[0m\u001b[0m\n\u001b[0m\u001b[0;32m    184\u001b[0m                 \u001b[1;32mif\u001b[0m \u001b[0mamt\u001b[0m \u001b[1;33m!=\u001b[0m \u001b[1;36m0\u001b[0m \u001b[1;32mand\u001b[0m \u001b[1;32mnot\u001b[0m \u001b[0mdata\u001b[0m\u001b[1;33m:\u001b[0m  \u001b[1;31m# Platform-specific: Buggy versions of Python.\u001b[0m\u001b[1;33m\u001b[0m\u001b[0m\n\u001b[0;32m    185\u001b[0m                     \u001b[1;31m# Close the connection when no data is returned\u001b[0m\u001b[1;33m\u001b[0m\u001b[1;33m\u001b[0m\u001b[0m\n",
        "\u001b[1;32mC:\\Python34\\lib\\http\\client.py\u001b[0m in \u001b[0;36mread\u001b[1;34m(self, amt)\u001b[0m\n\u001b[0;32m    498\u001b[0m             \u001b[1;31m# Amount is given, so call base class version\u001b[0m\u001b[1;33m\u001b[0m\u001b[1;33m\u001b[0m\u001b[0m\n\u001b[0;32m    499\u001b[0m             \u001b[1;31m# (which is implemented in terms of self.readinto)\u001b[0m\u001b[1;33m\u001b[0m\u001b[1;33m\u001b[0m\u001b[0m\n\u001b[1;32m--> 500\u001b[1;33m             \u001b[1;32mreturn\u001b[0m \u001b[0msuper\u001b[0m\u001b[1;33m(\u001b[0m\u001b[0mHTTPResponse\u001b[0m\u001b[1;33m,\u001b[0m \u001b[0mself\u001b[0m\u001b[1;33m)\u001b[0m\u001b[1;33m.\u001b[0m\u001b[0mread\u001b[0m\u001b[1;33m(\u001b[0m\u001b[0mamt\u001b[0m\u001b[1;33m)\u001b[0m\u001b[1;33m\u001b[0m\u001b[0m\n\u001b[0m\u001b[0;32m    501\u001b[0m         \u001b[1;32melse\u001b[0m\u001b[1;33m:\u001b[0m\u001b[1;33m\u001b[0m\u001b[0m\n\u001b[0;32m    502\u001b[0m             \u001b[1;31m# Amount is not given (unbounded read) so we must check self.length\u001b[0m\u001b[1;33m\u001b[0m\u001b[1;33m\u001b[0m\u001b[0m\n",
        "\u001b[1;32mC:\\Python34\\lib\\http\\client.py\u001b[0m in \u001b[0;36mreadinto\u001b[1;34m(self, b)\u001b[0m\n\u001b[0;32m    527\u001b[0m \u001b[1;33m\u001b[0m\u001b[0m\n\u001b[0;32m    528\u001b[0m         \u001b[1;32mif\u001b[0m \u001b[0mself\u001b[0m\u001b[1;33m.\u001b[0m\u001b[0mchunked\u001b[0m\u001b[1;33m:\u001b[0m\u001b[1;33m\u001b[0m\u001b[0m\n\u001b[1;32m--> 529\u001b[1;33m             \u001b[1;32mreturn\u001b[0m \u001b[0mself\u001b[0m\u001b[1;33m.\u001b[0m\u001b[0m_readinto_chunked\u001b[0m\u001b[1;33m(\u001b[0m\u001b[0mb\u001b[0m\u001b[1;33m)\u001b[0m\u001b[1;33m\u001b[0m\u001b[0m\n\u001b[0m\u001b[0;32m    530\u001b[0m \u001b[1;33m\u001b[0m\u001b[0m\n\u001b[0;32m    531\u001b[0m         \u001b[1;32mif\u001b[0m \u001b[0mself\u001b[0m\u001b[1;33m.\u001b[0m\u001b[0mlength\u001b[0m \u001b[1;32mis\u001b[0m \u001b[1;32mnot\u001b[0m \u001b[1;32mNone\u001b[0m\u001b[1;33m:\u001b[0m\u001b[1;33m\u001b[0m\u001b[0m\n",
        "\u001b[1;32mC:\\Python34\\lib\\http\\client.py\u001b[0m in \u001b[0;36m_readinto_chunked\u001b[1;34m(self, b)\u001b[0m\n\u001b[0;32m    619\u001b[0m \u001b[1;33m\u001b[0m\u001b[0m\n\u001b[0;32m    620\u001b[0m             \u001b[1;32mif\u001b[0m \u001b[0mlen\u001b[0m\u001b[1;33m(\u001b[0m\u001b[0mmvb\u001b[0m\u001b[1;33m)\u001b[0m \u001b[1;33m<\u001b[0m \u001b[0mchunk_left\u001b[0m\u001b[1;33m:\u001b[0m\u001b[1;33m\u001b[0m\u001b[0m\n\u001b[1;32m--> 621\u001b[1;33m                 \u001b[0mn\u001b[0m \u001b[1;33m=\u001b[0m \u001b[0mself\u001b[0m\u001b[1;33m.\u001b[0m\u001b[0m_safe_readinto\u001b[0m\u001b[1;33m(\u001b[0m\u001b[0mmvb\u001b[0m\u001b[1;33m)\u001b[0m\u001b[1;33m\u001b[0m\u001b[0m\n\u001b[0m\u001b[0;32m    622\u001b[0m                 \u001b[0mself\u001b[0m\u001b[1;33m.\u001b[0m\u001b[0mchunk_left\u001b[0m \u001b[1;33m=\u001b[0m \u001b[0mchunk_left\u001b[0m \u001b[1;33m-\u001b[0m \u001b[0mn\u001b[0m\u001b[1;33m\u001b[0m\u001b[0m\n\u001b[0;32m    623\u001b[0m                 \u001b[1;32mreturn\u001b[0m \u001b[0mtotal_bytes\u001b[0m \u001b[1;33m+\u001b[0m \u001b[0mn\u001b[0m\u001b[1;33m\u001b[0m\u001b[0m\n",
        "\u001b[1;32mC:\\Python34\\lib\\http\\client.py\u001b[0m in \u001b[0;36m_safe_readinto\u001b[1;34m(self, b)\u001b[0m\n\u001b[0;32m    676\u001b[0m                 \u001b[0mn\u001b[0m \u001b[1;33m=\u001b[0m \u001b[0mself\u001b[0m\u001b[1;33m.\u001b[0m\u001b[0mfp\u001b[0m\u001b[1;33m.\u001b[0m\u001b[0mreadinto\u001b[0m\u001b[1;33m(\u001b[0m\u001b[0mtemp_mvb\u001b[0m\u001b[1;33m)\u001b[0m\u001b[1;33m\u001b[0m\u001b[0m\n\u001b[0;32m    677\u001b[0m             \u001b[1;32melse\u001b[0m\u001b[1;33m:\u001b[0m\u001b[1;33m\u001b[0m\u001b[0m\n\u001b[1;32m--> 678\u001b[1;33m                 \u001b[0mn\u001b[0m \u001b[1;33m=\u001b[0m \u001b[0mself\u001b[0m\u001b[1;33m.\u001b[0m\u001b[0mfp\u001b[0m\u001b[1;33m.\u001b[0m\u001b[0mreadinto\u001b[0m\u001b[1;33m(\u001b[0m\u001b[0mmvb\u001b[0m\u001b[1;33m)\u001b[0m\u001b[1;33m\u001b[0m\u001b[0m\n\u001b[0m\u001b[0;32m    679\u001b[0m             \u001b[1;32mif\u001b[0m \u001b[1;32mnot\u001b[0m \u001b[0mn\u001b[0m\u001b[1;33m:\u001b[0m\u001b[1;33m\u001b[0m\u001b[0m\n\u001b[0;32m    680\u001b[0m                 \u001b[1;32mraise\u001b[0m \u001b[0mIncompleteRead\u001b[0m\u001b[1;33m(\u001b[0m\u001b[0mbytes\u001b[0m\u001b[1;33m(\u001b[0m\u001b[0mmvb\u001b[0m\u001b[1;33m[\u001b[0m\u001b[1;36m0\u001b[0m\u001b[1;33m:\u001b[0m\u001b[0mtotal_bytes\u001b[0m\u001b[1;33m]\u001b[0m\u001b[1;33m)\u001b[0m\u001b[1;33m,\u001b[0m \u001b[0mlen\u001b[0m\u001b[1;33m(\u001b[0m\u001b[0mb\u001b[0m\u001b[1;33m)\u001b[0m\u001b[1;33m)\u001b[0m\u001b[1;33m\u001b[0m\u001b[0m\n",
        "\u001b[1;32mC:\\Python34\\lib\\socket.py\u001b[0m in \u001b[0;36mreadinto\u001b[1;34m(self, b)\u001b[0m\n\u001b[0;32m    369\u001b[0m         \u001b[1;32mwhile\u001b[0m \u001b[1;32mTrue\u001b[0m\u001b[1;33m:\u001b[0m\u001b[1;33m\u001b[0m\u001b[0m\n\u001b[0;32m    370\u001b[0m             \u001b[1;32mtry\u001b[0m\u001b[1;33m:\u001b[0m\u001b[1;33m\u001b[0m\u001b[0m\n\u001b[1;32m--> 371\u001b[1;33m                 \u001b[1;32mreturn\u001b[0m \u001b[0mself\u001b[0m\u001b[1;33m.\u001b[0m\u001b[0m_sock\u001b[0m\u001b[1;33m.\u001b[0m\u001b[0mrecv_into\u001b[0m\u001b[1;33m(\u001b[0m\u001b[0mb\u001b[0m\u001b[1;33m)\u001b[0m\u001b[1;33m\u001b[0m\u001b[0m\n\u001b[0m\u001b[0;32m    372\u001b[0m             \u001b[1;32mexcept\u001b[0m \u001b[0mtimeout\u001b[0m\u001b[1;33m:\u001b[0m\u001b[1;33m\u001b[0m\u001b[0m\n\u001b[0;32m    373\u001b[0m                 \u001b[0mself\u001b[0m\u001b[1;33m.\u001b[0m\u001b[0m_timeout_occurred\u001b[0m \u001b[1;33m=\u001b[0m \u001b[1;32mTrue\u001b[0m\u001b[1;33m\u001b[0m\u001b[0m\n",
        "\u001b[1;32mC:\\Python34\\lib\\ssl.py\u001b[0m in \u001b[0;36mrecv_into\u001b[1;34m(self, buffer, nbytes, flags)\u001b[0m\n\u001b[0;32m    744\u001b[0m                   \u001b[1;34m\"non-zero flags not allowed in calls to recv_into() on %s\"\u001b[0m \u001b[1;33m%\u001b[0m\u001b[1;33m\u001b[0m\u001b[0m\n\u001b[0;32m    745\u001b[0m                   self.__class__)\n\u001b[1;32m--> 746\u001b[1;33m             \u001b[1;32mreturn\u001b[0m \u001b[0mself\u001b[0m\u001b[1;33m.\u001b[0m\u001b[0mread\u001b[0m\u001b[1;33m(\u001b[0m\u001b[0mnbytes\u001b[0m\u001b[1;33m,\u001b[0m \u001b[0mbuffer\u001b[0m\u001b[1;33m)\u001b[0m\u001b[1;33m\u001b[0m\u001b[0m\n\u001b[0m\u001b[0;32m    747\u001b[0m         \u001b[1;32melse\u001b[0m\u001b[1;33m:\u001b[0m\u001b[1;33m\u001b[0m\u001b[0m\n\u001b[0;32m    748\u001b[0m             \u001b[1;32mreturn\u001b[0m \u001b[0msocket\u001b[0m\u001b[1;33m.\u001b[0m\u001b[0mrecv_into\u001b[0m\u001b[1;33m(\u001b[0m\u001b[0mself\u001b[0m\u001b[1;33m,\u001b[0m \u001b[0mbuffer\u001b[0m\u001b[1;33m,\u001b[0m \u001b[0mnbytes\u001b[0m\u001b[1;33m,\u001b[0m \u001b[0mflags\u001b[0m\u001b[1;33m)\u001b[0m\u001b[1;33m\u001b[0m\u001b[0m\n",
        "\u001b[1;32mC:\\Python34\\lib\\ssl.py\u001b[0m in \u001b[0;36mread\u001b[1;34m(self, len, buffer)\u001b[0m\n\u001b[0;32m    616\u001b[0m         \u001b[1;32mtry\u001b[0m\u001b[1;33m:\u001b[0m\u001b[1;33m\u001b[0m\u001b[0m\n\u001b[0;32m    617\u001b[0m             \u001b[1;32mif\u001b[0m \u001b[0mbuffer\u001b[0m \u001b[1;32mis\u001b[0m \u001b[1;32mnot\u001b[0m \u001b[1;32mNone\u001b[0m\u001b[1;33m:\u001b[0m\u001b[1;33m\u001b[0m\u001b[0m\n\u001b[1;32m--> 618\u001b[1;33m                 \u001b[0mv\u001b[0m \u001b[1;33m=\u001b[0m \u001b[0mself\u001b[0m\u001b[1;33m.\u001b[0m\u001b[0m_sslobj\u001b[0m\u001b[1;33m.\u001b[0m\u001b[0mread\u001b[0m\u001b[1;33m(\u001b[0m\u001b[0mlen\u001b[0m\u001b[1;33m,\u001b[0m \u001b[0mbuffer\u001b[0m\u001b[1;33m)\u001b[0m\u001b[1;33m\u001b[0m\u001b[0m\n\u001b[0m\u001b[0;32m    619\u001b[0m             \u001b[1;32melse\u001b[0m\u001b[1;33m:\u001b[0m\u001b[1;33m\u001b[0m\u001b[0m\n\u001b[0;32m    620\u001b[0m                 \u001b[0mv\u001b[0m \u001b[1;33m=\u001b[0m \u001b[0mself\u001b[0m\u001b[1;33m.\u001b[0m\u001b[0m_sslobj\u001b[0m\u001b[1;33m.\u001b[0m\u001b[0mread\u001b[0m\u001b[1;33m(\u001b[0m\u001b[0mlen\u001b[0m \u001b[1;32mor\u001b[0m \u001b[1;36m1024\u001b[0m\u001b[1;33m)\u001b[0m\u001b[1;33m\u001b[0m\u001b[0m\n",
        "\u001b[1;31mKeyboardInterrupt\u001b[0m: "
       ]
      }
     ],
     "prompt_number": 2
    },
    {
     "cell_type": "code",
     "collapsed": false,
     "input": [],
     "language": "python",
     "metadata": {},
     "outputs": []
    }
   ],
   "metadata": {}
  }
 ]
}