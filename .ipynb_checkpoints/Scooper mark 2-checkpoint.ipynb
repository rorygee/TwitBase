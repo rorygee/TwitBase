{
 "metadata": {
  "name": "",
  "signature": "sha256:0d5d04b940f2df8836ab97ec742aac002a7ede34bf75bb2a931b9220b9abdbca"
 },
 "nbformat": 3,
 "nbformat_minor": 0,
 "worksheets": [
  {
   "cells": [
    {
     "cell_type": "code",
     "collapsed": false,
     "input": [
      "from twython import TwythonStreamer\n",
      "App_Key = 'DHvPpUKNhPBqmOoWHTioL8R8g'\n",
      "App_Secret = 'HaCvbsQLXy61rdxbs1AuojrP0y9eunUQLYfzyzt3gOzek1BdkC'\n",
      "Oauth_Token = '2723648388-vUN5LPJCXUyM2juD5dVGegyX02gwjwOT66LisIe'\n",
      "Oauth_Token_Secret = 'Wfu5QgkHiLqdaPF7t3AcM3XCihVpxUJbrUk4dkKBjJCcZ'\n",
      "termstotrack = 'robin'\n",
      "follow = 'rorygee,scoopdogg3'\n",
      "delimited = 15\n",
      "\n",
      "#twitter = Twython(App_Key,App_Secret,Oauth_Token,Oauth_Token_Secret)\n",
      "\n",
      "class MyStreamer(TwythonStreamer):\n",
      "    def on_success(self, data):\n",
      "        if 'text' in data:            \n",
      "            print (data['text'])\n",
      "\n",
      "            def on_error(self, status_code, data):\n",
      "                print (status_code)\n",
      "                #self.disconnect()\n",
      "\n",
      "stream = MyStreamer(App_Key,App_Secret,Oauth_Token,Oauth_Token_Secret)\n",
      "stream.statuses.filter(track = termstotrack)"
     ],
     "language": "python",
     "metadata": {},
     "outputs": [
      {
       "output_type": "stream",
       "stream": "stdout",
       "text": [
        "RT @janinebucks: Florida USA Clearwater http://t.co/4tJUNYZGJ9 #RobinWilliams BREAKING NEWS 560 Robin Williams Robin Williams Dead: Beloved\u2026\n",
        "\u201c@Sexualgif: Robin Williams passing is a reminder that those who make us laugh the most are usually fighting the biggest demons.\u201d\n",
        "RT @RevistaSemana: Adi\u00f3s a Robin Williams, el hombre de la comedia y el drama --&gt;\n",
        "http://t.co/7jjwf0Yb40\n",
        "\n",
        "#RIPRobinWilliams http://t.co/EUg\u2026"
       ]
      },
      {
       "output_type": "stream",
       "stream": "stdout",
       "text": [
        "\n",
        "Robin Williams's brushes with sports, from the Pudge Fisk story in Good Will Hunting to some standup bits: http://t.co/XhvHEMcpTm\n",
        "The combo of ISIS, Ferguson and Robin Williams is too much news for me to handle."
       ]
      },
      {
       "output_type": "stream",
       "stream": "stdout",
       "text": [
        "\n",
        "RT @jarpad: RIP Robin Williams. Your work has brought joy and laughter to millions of people. May you find your deserved solace in the next\u2026"
       ]
      },
      {
       "output_type": "stream",
       "stream": "stdout",
       "text": [
        "\n",
        "RT @BBCWorld: Our photo gallery remembers Robin Williams http://t.co/1D3NNY1Skd &amp; http://t.co/1utamGzHsv"
       ]
      },
      {
       "output_type": "stream",
       "stream": "stdout",
       "text": [
        "\n",
        "@CBSThisMorning 's tribute to Robin William's iconic career brought tears to my eyes. What a loss to the world, RIP you shining star\n",
        "Robin Williams' daughter's heartbreaking post about losing her father. #RIP #GoneTooSoon http://t.co/CsHImSOUzm"
       ]
      },
      {
       "output_type": "stream",
       "stream": "stdout",
       "text": [
        "\n",
        "RT @Harry_Styles: One of my all time favourites. Movies I grew up watching over and over again. A genius that will be so missed.\n",
        "\n",
        "R.I.P. Ro\u2026"
       ]
      },
      {
       "output_type": "stream",
       "stream": "stdout",
       "text": [
        "\n",
        "RT @SethMacFarlane: The world just got a lot less funny.  Robin Williams is a tragic loss."
       ]
      },
      {
       "output_type": "stream",
       "stream": "stdout",
       "text": [
        "\n",
        "(#LosDelSonido) Robin Williams, Boisterous Comedy Star, Dead at 63: Robin Williams, Oscar-winning comedy star of stage ...  (#IvanBerroa)\n",
        "RT @Harry_Styles: One of my all time favourites. Movies I grew up watching over and over again. A genius that will be so missed.\n",
        "\n",
        "R.I.P. Ro\u2026"
       ]
      },
      {
       "output_type": "stream",
       "stream": "stdout",
       "text": [
        "\n",
        "RT @ProSyndicate: Robin Williams is one of my all time hero's :( \n",
        "Such an amazing inspirational man &lt;3"
       ]
      },
      {
       "output_type": "stream",
       "stream": "stdout",
       "text": [
        "\n",
        "Hollywood Legend 'Robin Williams' Found Dead in California http://t.co/jb5Cvh0Xzf\n",
        "RT @WomensHumor: \"You're only given one little spark of madness. You mustn't lose it.\" - Robin Williams #rip"
       ]
      },
      {
       "output_type": "stream",
       "stream": "stdout",
       "text": [
        "\n",
        "RT @LionelMessiDice: RIP Robin Williams http://t.co/srz5fN6VOm"
       ]
      },
      {
       "output_type": "stream",
       "stream": "stdout",
       "text": [
        "\n",
        "RT @JakeMortonMiles: @driverminnie Dear Ms Driver, I'm sorry for the loss of Robin Williams. I'm a great fan of both your work in Good Will\u2026"
       ]
      },
      {
       "output_type": "stream",
       "stream": "stdout",
       "text": [
        "\n",
        "RT @yangejan: Att folk verkligen tror att Robbie Williams \u00e4r d\u00f6d och inte Robin Williams... #RIPRobbieWilliams"
       ]
      },
      {
       "output_type": "stream",
       "stream": "stdout",
       "text": [
        "\n",
        "RT @clarinextrashow: El emotivo mensaje de la hija de Robin Williams http://t.co/nZZ1m9W063 http://t.co/kAYHsvwFu3"
       ]
      },
      {
       "output_type": "stream",
       "stream": "stdout",
       "text": [
        "\n",
        "RT @Colmenero: Porque hoy echan la Supercopa de Europa si no TVE ya estaba tardando en poner una pel\u00edcula de Robin Williams..."
       ]
      },
      {
       "output_type": "stream",
       "stream": "stdout",
       "text": [
        "\n",
        "RT @HEADDs_Up: C'mon son! \"@savoythegreat: So I saw a meme last night that said The Illuminati killed Robin Williams to take the focus off \u2026"
       ]
      },
      {
       "output_type": "stream",
       "stream": "stdout",
       "text": [
        "\n",
        "RT @J0Y2theworld: Theres always that one person on fb who argues we shouldn't care about Robin Williams death bc it's not as important as t\u2026"
       ]
      },
      {
       "output_type": "stream",
       "stream": "stdout",
       "text": [
        "\n",
        "RT @TuFraseDisney: Lleg\u00f3 hasta nuestros corazones y nos hizo re\u00edr con uno de nuestros personajes favoritos.\u00a0Te echaremos de menos Robin. ht\u2026"
       ]
      },
      {
       "output_type": "stream",
       "stream": "stdout",
       "text": [
        "\n",
        "Robin Williams Battled Demons for Decades Before His Death http://t.co/7dQomauFCy via @NBCNews\n",
        "No more demons. R.I.P. #RobinWilliams\n",
        "RT @kilokeal: Fox News reportedly used fake footage during a tribute to Robin Williams: They rolled footage of another man i... http://t.co\u2026"
       ]
      },
      {
       "output_type": "stream",
       "stream": "stdout",
       "text": [
        "\n",
        "Robin Williams Dead of Apparent Suicide at 63 https://t.co/y5PVDYIE6f via @YahooCelebrity\n",
        "RT @Harry_Styles: One of my all time favourites. Movies I grew up watching over and over again. A genius that will be so missed.\n",
        "\n",
        "R.I.P. Ro\u2026"
       ]
      },
      {
       "output_type": "stream",
       "stream": "stdout",
       "text": [
        "\n",
        "Ray Rossi on Robin Williams and depression http://t.co/H1u5aw7aEl\n",
        "RT @estherbreger: 60% of Americans w/ mental illness got no treatment in previous year. @CitizenCohn on Robin Williams + stigma http://t.co\u2026"
       ]
      },
      {
       "output_type": "stream",
       "stream": "stdout",
       "text": [
        "\n",
        "RT @BarackObama: \"Robin Williams was an airman, a doctor, a genie, a nanny ... and everything in between. But he was one of a kind.\" \u2014Presi\u2026"
       ]
      },
      {
       "output_type": "stream",
       "stream": "stdout",
       "text": [
        "\n",
        "RT @ABSCBNNews: Robin Williams a 'true Disney Legend,' CEO says http://t.co/a9GbXQoL9c"
       ]
      },
      {
       "output_type": "stream",
       "stream": "stdout",
       "text": [
        "\n",
        "RT @ZacheryNielson: Crazy to think that Robin Williams has passed away. A great man, and a great actor. May he rest in peace."
       ]
      },
      {
       "output_type": "stream",
       "stream": "stdout",
       "text": [
        "\n",
        "@HistoryLA y muere Robin Williams :(\n",
        "150 Greatest Robin Williams Jokes http://t.co/2IjyCHBpcg #comedygreats"
       ]
      },
      {
       "output_type": "stream",
       "stream": "stdout",
       "text": [
        "\n",
        "RIP Robin Williams\n",
        "RT @Harry_Styles: One of my all time favourites. Movies I grew up watching over and over again. A genius that will be so missed.\n",
        "\n",
        "R.I.P. Ro\u2026"
       ]
      },
      {
       "output_type": "stream",
       "stream": "stdout",
       "text": [
        "\n",
        "RT @Colmenero: Porque hoy echan la Supercopa de Europa si no TVE ya estaba tardando en poner una pel\u00edcula de Robin Williams..."
       ]
      },
      {
       "output_type": "stream",
       "stream": "stdout",
       "text": [
        "\n",
        "RT @BBCWorld: Our photo gallery remembers Robin Williams http://t.co/1D3NNY1Skd &amp; http://t.co/1utamGzHsv"
       ]
      },
      {
       "output_type": "stream",
       "stream": "stdout",
       "text": [
        "\n",
        "RT @Dory: This is what Robin Williams wife had to say. It's truly heartbreaking http://t.co/xkLPnkQiGA"
       ]
      },
      {
       "output_type": "stream",
       "stream": "stdout",
       "text": [
        "\n",
        "RT @CharlesPassy: The lesson of Robin Williams' life -- and death: battling depression is no laughing matter. http://t.co/IOoDvWThqn"
       ]
      },
      {
       "output_type": "stream",
       "stream": "stdout",
       "text": [
        "\n",
        "RT @ChloeGMoretz: Robin Williams, we'll always miss you, you brought so much happiness to my childhood, thank you for that.  Rest In Peace"
       ]
      },
      {
       "output_type": "stream",
       "stream": "stdout",
       "text": [
        "\n",
        "RT @D_DeGea: Very sad for the passing of Robin Williams. A genius, part of my childhood. An unique actor. Rest In Peace."
       ]
      },
      {
       "output_type": "stream",
       "stream": "stdout",
       "text": [
        "\n",
        "RT @VideoVineEs: Gracias por todo, Robin Williams. \n",
        "https://t.co/VsYRElmpVR"
       ]
      },
      {
       "output_type": "stream",
       "stream": "stdout",
       "text": [
        "\n",
        "RT @LoganVignovic: R.I.P Robin Williams"
       ]
      },
      {
       "output_type": "stream",
       "stream": "stdout",
       "text": [
        "\n",
        "#salingfollow The family of Christopher Reeve on the death of Robin Williams: 'After our father's accident,... http://t.co/S21KnT7INC\n",
        "Do the news really need to broadcast aerial pictures of Robin Williams house? Christ almighty"
       ]
      },
      {
       "output_type": "stream",
       "stream": "stdout",
       "text": [
        "\n",
        "\u201c@BBCWorld: Our photo gallery remembers Robin Williams http://t.co/X8MMhNaoR5 &amp; http://t.co/c55SdJUF7m\u201d//lindas fotos y frases sobre RW.\n",
        "Ozzy Osbourne, Tom Morello React To Robin Williams' Death - Osbourne called it a tragic loss, and says he will alw... http://t.co/CrsObLJ8RY"
       ]
      },
      {
       "output_type": "stream",
       "stream": "stdout",
       "text": [
        "\n",
        "Please, stop talking about Robin Williams, it's making me really sad ok.\n",
        "RT @TheBucktList: robin williams said it best http://t.co/ICjSZ1C7MV"
       ]
      },
      {
       "output_type": "stream",
       "stream": "stdout",
       "text": [
        "\n",
        "still cant get over Robin Williams' death. truly heartbroken.\n",
        "RT @CharlesPassy: The lesson of Robin Williams' life -- and death: battling depression is no laughing matter. http://t.co/IOoDvWThqn"
       ]
      },
      {
       "output_type": "stream",
       "stream": "stdout",
       "text": [
        "\n",
        "RT @Funcion_Exc: El mundo se consterno con la noticia... el actor Robin Williams fue encontrado muerto. #Exc\u00e9lsiorTv con @vegabiestro http:\u2026"
       ]
      },
      {
       "output_type": "stream",
       "stream": "stdout",
       "text": [
        "\n",
        "RIP #robin \ud83d\ude1e\ud83d\ude1e\n",
        "RT @WJXTBruceH: To honor Robin Williams please share this number for the Suicide Prevention hotline @wjxt4 http://t.co/ErKP1RmMMK"
       ]
      },
      {
       "output_type": "stream",
       "stream": "stdout",
       "text": [
        "\n",
        "RT @TheLifeDiaries: RIP Robin Williams http://t.co/pbMoF7YFea"
       ]
      },
      {
       "output_type": "stream",
       "stream": "stdout",
       "text": [
        "\n",
        "Photo: failed-mad-scientist: Robin - Marcio Takara http://t.co/x4pxSA28qT\n",
        "RT @TIME: Johnny Carson could barely stop laughing during Robin Williams\u2019 first visit to the venerable stage http://t.co/4AUVyTilTI"
       ]
      },
      {
       "output_type": "stream",
       "stream": "stdout",
       "text": [
        "\n",
        "RT @RawStory: Fox News host Shepard Smith labels Robin Williams \u2018such a coward\u2019 over alleged suicide http://t.co/1sNbokbBr9"
       ]
      },
      {
       "output_type": "stream",
       "stream": "stdout",
       "text": [
        "\n",
        "Learn from robin william case, we can see that depresion is an illness not a thing to romanticize.\n",
        "RT @CBSShowbiz: Robin Williams makeshift memorial spotted at \"Good Will Hunting\" bench http://t.co/yV1S0mtMIK"
       ]
      },
      {
       "output_type": "stream",
       "stream": "stdout",
       "text": [
        "\n",
        "Yeah let's all find a random Robin Williams quote and pretend he changed our lives\n",
        "Oscar-winning actor and comedian Robin Williams has been found dead in a suspected suicide. The\u2026 http://t.co/HAkr2uo28R"
       ]
      },
      {
       "output_type": "stream",
       "stream": "stdout",
       "text": [
        "\n",
        "RT @TumblrEdits: Robin Williams ladies and gentlemen. Rest In Peace. Thanks for all the laughs. http://t.co/aPurdRiL4m"
       ]
      },
      {
       "output_type": "stream",
       "stream": "stdout",
       "text": [
        "\n",
        "H\u00d6R DOCH ENDLICH AUF DEN ARMEN ROBIN ZU VERARSCHEN! ICH WARNE DICH @therealmoneyboy! SONST FANG ICH NOCH AN ZU WEINEN. Joke, ich finds nice.\n",
        "RT @cover32_SEA: TWITTER TUESDAY: #Seattle @Seahawks pay their respects to @RobinWilliams http://t.co/UiVnYE4nE9 #RIPRobinWilliams"
       ]
      },
      {
       "output_type": "stream",
       "stream": "stdout",
       "text": [
        "\n",
        "RIP... Robin Williams... &lt;\\3 ....\n",
        "R.I.P Robin Williams, You will be greatly missed and never forgotten. http://t.co/TRtfKQUnQ1"
       ]
      },
      {
       "output_type": "stream",
       "stream": "stdout",
       "text": [
        "\n",
        "RT @LaraSpencer: Carpe diem. Seize the day boys, make your lives extraordinary.\n",
        "     -Dead Poets Society \n",
        "\n",
        "Robin Williams, we thank you."
       ]
      },
      {
       "output_type": "stream",
       "stream": "stdout",
       "text": [
        "\n",
        "RT @glamourmag: Remembering Robin Williams with his very best moments. What are your favorite memories of him? http://t.co/9gPtNpJjsS"
       ]
      },
      {
       "output_type": "stream",
       "stream": "stdout",
       "text": [
        "\n",
        "RT @Humo: Naar aanleiding van het overlijden van Robin Williams zendt E\u00e9n vanavond om 22u55 Dead Poets Society uit - de... http://t.co/qNi5\u2026"
       ]
      },
      {
       "output_type": "stream",
       "stream": "stdout",
       "text": [
        "\n",
        "\"Don't be afraid of talking about mental health problems,\" @MindCharity tells BBC News after Robin Williams dies http://t.co/qNFXK900Mf\n",
        "RT @eonline: We're loving all of your Robin Williams memories. What a gift to have left so many smiles and laughs for us all. http://t.co/P\u2026"
       ]
      },
      {
       "output_type": "stream",
       "stream": "stdout",
       "text": [
        "\n",
        "RT @AvrilLavigne: RIP Robin Williams so sad :( \ud83d\ude22\ud83d\ude4f you touched so many with your talent."
       ]
      },
      {
       "output_type": "stream",
       "stream": "stdout",
       "text": [
        "\n",
        "RT @mjsbigblog: Conan O'Brien Breaks News of Robin Williams Death to Audience (Plus Tributes From Around the Web) http://t.co/pRXNj22gab"
       ]
      },
      {
       "output_type": "stream",
       "stream": "stdout",
       "text": [
        "\n",
        "RT @zoetoner: I still can't believe Robin Williams has died \ud83d\ude14"
       ]
      },
      {
       "output_type": "stream",
       "stream": "stdout",
       "text": [
        "\n",
        "RT @ShareenAlvina: \"Who is Robin Williams?\" is an invalid question come let me punch you in the face"
       ]
      },
      {
       "output_type": "stream",
       "stream": "stdout",
       "text": [
        "\n",
        "I feel like a piece of my childhood just disappeared, RIP Robin Williams \u2764\ufe0f #lovedbymany\n",
        "RT @Jennumartinez: RIP Robin Williams. Actor de una de las pel\u00edculas que m\u00e1s me marco: \"La sociedad de los poetas muertos\". No dejen de ver\u2026"
       ]
      },
      {
       "output_type": "stream",
       "stream": "stdout",
       "text": [
        "\n",
        "RT @Newsweek: The manic joy and deep despair of Robin Williams http://t.co/6CgP82TimJ http://t.co/s5AKsvjP8l"
       ]
      },
      {
       "output_type": "stream",
       "stream": "stdout",
       "text": [
        "\n",
        "RT @Picswithastory: R.I.P. Robin Williams. You will be missed. Thank you for filling our childhoods with laughter. #RIPRobinWilliams http:/\u2026"
       ]
      },
      {
       "output_type": "stream",
       "stream": "stdout",
       "text": [
        "\n",
        "RT @tnr: Robin Williams' Death Is a Wakeup Call for Mental llness: http://t.co/gCGCAhQHnP http://t.co/l2HfXVewRc"
       ]
      },
      {
       "output_type": "stream",
       "stream": "stdout",
       "text": [
        "\n",
        "Bollywood celebs mourn the death of Hollywood actor Robin ... http://t.co/4cuPXXVg1o\n",
        "RT @liam_henderson1: RIP Robin Williams \ud83d\ude22 http://t.co/DzNf5hBrgV"
       ]
      },
      {
       "output_type": "stream",
       "stream": "stdout",
       "text": [
        "\n",
        "RT @Harry_Styles: One of my all time favourites. Movies I grew up watching over and over again. A genius that will be so missed.\n",
        "\n",
        "R.I.P. Ro\u2026"
       ]
      },
      {
       "output_type": "stream",
       "stream": "stdout",
       "text": [
        "\n",
        "Genuinely really sad about Robin Williams \ud83d\ude2d\n",
        "RIP Robin Williams. He always could make me laugh when I was a kid and still can now. http://t.co/hoYyNLkrKb"
       ]
      },
      {
       "output_type": "stream",
       "stream": "stdout",
       "text": [
        "\n",
        "RT @BuzzFeedUK: Robin Williams: A life in pictures http://t.co/hSZVCw6UXb http://t.co/tBIaqPpjK9"
       ]
      },
      {
       "output_type": "stream",
       "stream": "stdout",
       "text": [
        "\n",
        "RT @YouTube: A look back at the life of comic legend Robin Williams. http://t.co/zR2jnVA9LO"
       ]
      },
      {
       "output_type": "stream",
       "stream": "stdout",
       "text": [
        "\n",
        "Robin Williams' Laughter Masked a Deadly Disease http://t.co/VKUzVA6PLg\n",
        "RT @ZacheryNielson: Crazy to think that Robin Williams has passed away. A great man, and a great actor. May he rest in peace."
       ]
      },
      {
       "output_type": "stream",
       "stream": "stdout",
       "text": [
        "\n",
        "RT @_meirachaves: Robin Williams :/"
       ]
      },
      {
       "output_type": "stream",
       "stream": "stdout",
       "text": [
        "\n",
        "RT @Drsforamerica: Suicide a risk even for beloved characters like Robin Williams http://t.co/Y2eY8FGkmG via @usatoday"
       ]
      },
      {
       "output_type": "stream",
       "stream": "stdout",
       "text": [
        "\n",
        "Robin Williams Was Simply A Good Human Being And Here's Proof http://t.co/IfesW8FKm4\n",
        "RT @BloombergNews: Robin Williams had three films scheduled for release at the time of his passing: http://t.co/8EIVgc8lLz http://t.co/RUdK\u2026"
       ]
      },
      {
       "output_type": "stream",
       "stream": "stdout",
       "text": [
        "\n",
        "RT @ladygaga: Rest in Peace+Laughter Robin Williams. Perhaps this tragedy will shed light on the seriousness of depression. You made us all\u2026"
       ]
      },
      {
       "output_type": "stream",
       "stream": "stdout",
       "text": [
        "\n",
        "RT @HaydenSousa: It sucks that people like robin Williams have to deal with depression on a daily basis, yet the kardashian wake up with a \u2026"
       ]
      },
      {
       "output_type": "stream",
       "stream": "stdout",
       "text": [
        "\n",
        "RT @MikeMassShow: Respect to Robin Williams. Retweet please if u like my graphic \n",
        "#RobinWilliamsWillLiveOnForever \n",
        "#RobinWilliams http://t.\u2026"
       ]
      },
      {
       "output_type": "stream",
       "stream": "stdout",
       "text": [
        "\n",
        "14 escenas maravillosas que Robin Williams nos ha dejado para vivir la vida en plenitud http://t.co/dHJg34oJZ7\n",
        "RT @PozaenFormula: Falleci\u00f3  #Robin Williams a los 63 a\u00f1os de edad. El histri\u00f3n fue encontrado muerto en su residencia de Tiburon, Californ\u2026"
       ]
      },
      {
       "output_type": "stream",
       "stream": "stdout",
       "text": [
        "\n",
        "Everyone keeps naming the same robin Williams movies. Like did we forget he was in RV and how good that movie was?\n",
        "@robinwilliams rest in peace robin\ud83d\udc7c"
       ]
      },
      {
       "output_type": "stream",
       "stream": "stdout",
       "text": [
        "\n",
        "#USAHeadlines Robin Williams: Obama leads tributes to actor, dead at 63 \u2013 BBC News http://t.co/rAGKfiqQJA\n",
        "#RIPRobinWilliams Morning Break: The $9000 Bandage, RIP Robin Williams - MedPage Today  http://t.co/GSdoDmRAAI"
       ]
      },
      {
       "output_type": "stream",
       "stream": "stdout",
       "text": [
        "\n",
        "La verdad es que Rajoy y Ramos se han lucido con su tuit a Robin Williams.\n",
        "I forgot Robin Williams was the comedy ass penguin on Happy Feet!!!"
       ]
      },
      {
       "output_type": "stream",
       "stream": "stdout",
       "text": [
        "\n",
        "RT @BBCWorld: Our photo gallery remembers Robin Williams http://t.co/1D3NNY1Skd &amp; http://t.co/1utamGzHsv"
       ]
      },
      {
       "output_type": "stream",
       "stream": "stdout",
       "text": [
        "\n",
        "@iHeartRadio 24/7 Comedy. TRIBUTE TO ROBIN WILLIAMS.\n",
        "Robin Williams RIP http://t.co/Z13uiaBEbf #audio"
       ]
      },
      {
       "output_type": "stream",
       "stream": "stdout",
       "text": [
        "\n",
        "RT @filmonlive: Robin Williams tragic death from apparent suicide at 63 - stars pay tribute to comic legend  http://t.co/JIg914U8g7 #FilmOn\u2026"
       ]
      },
      {
       "output_type": "stream",
       "stream": "stdout",
       "text": [
        "\n",
        "RT @Female__Fitness: \"You're only given a little spark of madness. You mustn't lose it.\"\n",
        "\n",
        "Robin Williams http://t.co/K6bILQOWu2"
       ]
      },
      {
       "output_type": "stream",
       "stream": "stdout",
       "text": [
        "\n",
        "RT @SickNimmons: \"You're only given one little spark of madness, you mustn't lose it.\"\n",
        "\n",
        "-Robin Williams #RIP"
       ]
      },
      {
       "output_type": "stream",
       "stream": "stdout",
       "text": [
        "\n",
        "RT @RevistaSemana: Adi\u00f3s a Robin Williams, el hombre de la comedia y el drama --&gt;\n",
        "http://t.co/7jjwf0Yb40\n",
        "\n",
        "#RIPRobinWilliams http://t.co/EUg\u2026"
       ]
      },
      {
       "output_type": "stream",
       "stream": "stdout",
       "text": [
        "\n",
        "RT @BBCWorld: Our photo gallery remembers Robin Williams http://t.co/1D3NNY1Skd &amp; http://t.co/1utamGzHsv"
       ]
      },
      {
       "output_type": "stream",
       "stream": "stdout",
       "text": [
        "\n",
        "RT @taylorswift13: Heartbroken for Robin Williams and his family."
       ]
      },
      {
       "output_type": "stream",
       "stream": "stdout",
       "text": [
        "\n",
        "RT @TheBucktList: robin williams said it best http://t.co/ICjSZ1C7MV"
       ]
      },
      {
       "output_type": "stream",
       "stream": "stdout",
       "text": [
        "\n",
        "RT @DanielQuinnx: RIP Robin Williams you comedy genius http://t.co/48T1bTxup6"
       ]
      },
      {
       "output_type": "stream",
       "stream": "stdout",
       "text": [
        "\n",
        "RT @justintimeOO: \u2192 AUS http://t.co/423mU5pUIg \u2192 Robin Williams take on sport was genius \u2192 Williams, talking about Scottish people and thei\u2026"
       ]
      },
      {
       "output_type": "stream",
       "stream": "stdout",
       "text": [
        "\n",
        "@MagicChildhood Ma a quanto pare s\u00ec, ci manca solo che superano il trend per Robin Williams\n",
        "RT @TheFilmStage: Watch four stand-up specials from Robin Williams, spanning over two decades: http://t.co/ro94f3Z0ph #RIP http://t.co/AQUA\u2026"
       ]
      },
      {
       "output_type": "stream",
       "stream": "stdout",
       "text": [
        "\n",
        "RT @petewentz: Robin Williams in dead poets society was so influential on me. Rest in peace &lt;3"
       ]
      },
      {
       "output_type": "stream",
       "stream": "stdout",
       "text": [
        "\n",
        "@kalpanapandit RIP Robin Williams. You will most certainly be missed dearly. God bless you.  You live on in our hearts.\n",
        "RT @YouTube: A look back at the life of comic legend Robin Williams. http://t.co/zR2jnVA9LO"
       ]
      },
      {
       "output_type": "stream",
       "stream": "stdout",
       "text": [
        "\n",
        "RT @ScorpioBert: RT @brianmaycom: ROBIN WILLIAMS @QueenWillRock \"UNDER PRESSURE\" FROM \"WORLD'S GREATEST DAD\" Brilliant @DrBrianMay http://t\u2026"
       ]
      },
      {
       "output_type": "stream",
       "stream": "stdout",
       "text": [
        "\n",
        "RT @RosiePope: I'm deeply saddened by news of Robin Williams. Lets celebrate his life and also be aware of the seriousness of depression+ho\u2026"
       ]
      },
      {
       "output_type": "stream",
       "stream": "stdout",
       "text": [
        "\n",
        "RT @GrangerSmith: Robin Williams chose to make other people happy when he wasnt even happy himself. That says a lot."
       ]
      },
      {
       "output_type": "stream",
       "stream": "stdout",
       "text": [
        "\n",
        "woke up and immediately remembered that robin williams died and started crying. not even mj hit me this hard. man\n",
        "http://t.co/6lK3NB05s8"
       ]
      },
      {
       "output_type": "stream",
       "stream": "stdout",
       "text": [
        "\n",
        "\u201c@JosieCOnline: Just to reassure my fans ;) I won't have the same destiny as Robin Williams.\u201d You should definitely re think this\n",
        "RT @LoganVenedam: \"Real loss is only possible when you love something more than you love yourself\" ~ Robin Williams #rip"
       ]
      },
      {
       "output_type": "stream",
       "stream": "stdout",
       "text": [
        "\n",
        "RT @tadfriend: Dir. Penny Marshall misspoke and described \"Awakenings\" as set in a \"menstrual hospital.\" Robin Williams, instantly: \"It's a\u2026"
       ]
      },
      {
       "output_type": "stream",
       "stream": "stdout",
       "text": [
        "\n",
        "RT @TheBucktList: robin williams said it best http://t.co/ICjSZ1C7MV"
       ]
      },
      {
       "output_type": "stream",
       "stream": "stdout",
       "text": [
        "\n",
        "Los Mejores Momentos de Robin Williams en la historia (Ingl\u00e9s) http://t.co/micUqcxMoa #Mcboguia\n",
        "RT @YouTube: A look back at the life of comic legend Robin Williams. http://t.co/zR2jnVA9LO"
       ]
      },
      {
       "output_type": "stream",
       "stream": "stdout",
       "text": [
        "\n",
        "RT @Kirby_BFC: Can't believe Robin Williams is dead it's a travesty that people like Josie Cunningham and Katy Hopkins are still alive take\u2026"
       ]
      },
      {
       "output_type": "stream",
       "stream": "stdout",
       "text": [
        "\n",
        "The Dead Poets Society, Good Will Hunting &amp; Mrs. Doubtfire moved me the most. This one shines for you Robin Williams. http://t.co/5FK3dNfcri\n",
        "RT @soggypuffs: \"No matter what people tell you, words and ideas can change the world.\" - Robin Williams"
       ]
      },
      {
       "output_type": "stream",
       "stream": "stdout",
       "text": [
        "\n",
        "RT @Harry_Styles: One of my all time favourites. Movies I grew up watching over and over again. A genius that will be so missed.\n",
        "\n",
        "R.I.P. Ro\u2026"
       ]
      },
      {
       "output_type": "stream",
       "stream": "stdout",
       "text": [
        "\n",
        "RT @NYMag: Obama's statement on Robin Williams's death is rarer than you'd think: http://t.co/GFlZ1JACqn http://t.co/WjkzsHGFjw"
       ]
      },
      {
       "output_type": "stream",
       "stream": "stdout",
       "text": [
        "\n",
        "RT @BBCWorld: Our photo gallery remembers Robin Williams http://t.co/1D3NNY1Skd &amp; http://t.co/1utamGzHsv"
       ]
      },
      {
       "output_type": "stream",
       "stream": "stdout",
       "text": [
        "\n",
        "A veces me siento tonto, luego veo gente que confunde a Robin Williams  con Robbie Williams y se me pasa.\n",
        "RT @jimmyfallon: Took a walk in NYC this morning under a tree lined street. Perfect breeze. Looked like it was raining flowers. I know that\u2026"
       ]
      },
      {
       "output_type": "stream",
       "stream": "stdout",
       "text": [
        "\n",
        "\u201c@Cory_Ferris: RIP Robin Williams.  You were one of my favorite actors and I definitely grew up to your movies. Such sad news \ud83d\ude2d\u201d\n",
        "RT @KingHaylen: RIP Robin Williams, we've all lost part of our childhood today. You will never be forgotten. #RIPRobinWilliams \ud83d\ude4f http://t.c\u2026"
       ]
      },
      {
       "output_type": "stream",
       "stream": "stdout",
       "text": [
        "\n",
        "RT @filmfest: #DailyFilmPhoto:\n",
        "\"Oh captain, my captain!\"\n",
        "Ethan Hawke &amp; Robin Williams in DEAD POETS SOCIETY. #RIPRobinWilliams http://t.co/\u2026"
       ]
      },
      {
       "output_type": "stream",
       "stream": "stdout",
       "text": [
        "\n",
        "RT @Jackamelias: Gutted about Robin Williams! I refuse to believe it, recon hes gone back into the Jamanji board and will come out again! #\u2026"
       ]
      },
      {
       "output_type": "stream",
       "stream": "stdout",
       "text": [
        "\n",
        "Bizar toeval Family Guy en Robin Williams: Een aantal kijkers van de Amerikaanse cartoon Family Guy keek maand... http://t.co/mpSNk0Lc0f\n",
        "Mis pel\u00edculas preferidas de Robin Williams son La Soc. De Los Poetas Muertos y Juguetes. Esa es rara."
       ]
      },
      {
       "output_type": "stream",
       "stream": "stdout",
       "text": [
        "\n",
        "The Late Robin Williams Was An Accomplished Political Comedian http://t.co/D2abriFP3X\n",
        "RT @matthunter123: Robin Williams, your films were incredible. You were a genius to anyone who has watched you. RIP"
       ]
      },
      {
       "output_type": "stream",
       "stream": "stdout",
       "text": [
        "\n",
        "@plantagoo Hi - I work for ABC News, can we use this picture on all of our platforms for our Robin Williams tribute?\n",
        "I love President Obama but if he can release a statement about Robin Williams then he definitely should say something about Ferguson."
       ]
      },
      {
       "output_type": "stream",
       "stream": "stdout",
       "text": [
        "\n",
        "5 Things You Didn't Know About Robin Williams http://t.co/DvDnN3xNyB via @HuffPostEnt\n",
        "RT @globovision: La hija de Robin Williams a su padre: \u2018Seguir\u00e9 mirando hacia el cielo\u2019 http://t.co/bOhoKqOoIh http://t.co/fIrAzhDY6y"
       ]
      },
      {
       "output_type": "stream",
       "stream": "stdout",
       "text": [
        "\n",
        "How Robin Williams helped me in my own dark days. http://t.co/2QDrDcBPLF\n",
        "Sky cinema 1 Robin Williams movies all day \u2764\ufe0f"
       ]
      },
      {
       "output_type": "stream",
       "stream": "stdout",
       "text": [
        "\n",
        "I don't mean to jump on the bandwagon, but I'm really sad about Robin Williams. He was something special.#getHelpWithDepression\n",
        "RT @jimmyfallon: Took a walk in NYC this morning under a tree lined street. Perfect breeze. Looked like it was raining flowers. I know that\u2026"
       ]
      },
      {
       "output_type": "stream",
       "stream": "stdout",
       "text": [
        "\n",
        "RT @ToshiroNoverola: Lo de Robin Williams es claro ejemplo que no siempre quienes mas rien o te hacen reir son las personas mas felices del\u2026"
       ]
      },
      {
       "output_type": "stream",
       "stream": "stdout",
       "text": [
        "\n",
        "RT @pndblog Robin Williams Spread Joy Off-Screen Too Through #Charity Work http://t.co/fBhsBCjQ1U\n",
        "\"When in doubt go for the dick joke.\"\n",
        "#Robin Williams #RIP"
       ]
      },
      {
       "output_type": "stream",
       "stream": "stdout",
       "text": [
        "\n",
        "RIP Robin Williams, funniest guy going, such a shame.\n",
        "Me ha dado mucha pena la muerte de Robin Williams, consigui\u00f3 que toda una generaci\u00f3n le cogi\u00e9ramos cari\u00f1o.... http://t.co/aJbe7bBypu"
       ]
      },
      {
       "output_type": "stream",
       "stream": "stdout",
       "text": [
        "\n",
        "RT @KevinSpacey: Robin Williams made the world laugh &amp; think. I will remember &amp; honor that. A great man, artist and friend. I will miss him\u2026"
       ]
      },
      {
       "output_type": "stream",
       "stream": "stdout",
       "text": [
        "\n",
        "RIP Sir Robin Williams\ud83c\udf39\ud83c\udf39\ud83c\udf39\n",
        "RT @DickieV: Robin Williams was a GENIUS but was filled with pain on the inside-PLEASE if DEPRESSED get professional HELP       http://t.co\u2026"
       ]
      },
      {
       "output_type": "stream",
       "stream": "stdout",
       "text": [
        "\n",
        "RT @CopernicusNerd: Robin Williams wasn't shy to admit his love for video games, and I take a nostalgic trip - Aladdin #SNES #retrogames ht\u2026"
       ]
      },
      {
       "output_type": "stream",
       "stream": "stdout",
       "text": [
        "\n",
        "RT @theCALMzone: Deeply saddened by the tragic news of Robin Williams. Men, If you're struggling, pls talk. Being silent isn't being strong\u2026"
       ]
      },
      {
       "output_type": "stream",
       "stream": "stdout",
       "text": [
        "\n",
        "This has been the wallpaper on my phone for as long as I can remember R.I.P Robin an exceptional man. http://t.co/Z7oJJgMU0v\n",
        "Robin Williams: Hollywood pays tribute to a legend after actor's ... http://t.co/Yf73awvVF6"
       ]
      },
      {
       "output_type": "stream",
       "stream": "stdout",
       "text": [
        "\n",
        "\u201c@onediocom: Robin Williams'\u0131n Ki\u015fili\u011fine Dair K\u00fc\u00e7\u00fck Bir Anekdot \n",
        "sayg\u0131 duyulacak bir dostluk http://t.co/gvM8L1wWuC http://t.co/XHWKQtNl2O\u201d"
       ]
      },
      {
       "output_type": "stream",
       "stream": "stdout",
       "text": [
        "\n",
        "RT @nashismyanchor: Robin Williams non \u00e8 morto, sta solo giocando a Jumanji. #RIPRobinWilliams"
       ]
      },
      {
       "output_type": "stream",
       "stream": "stdout",
       "text": [
        "\n",
        "RT @komonews: Robin Williams leaves behind 4 films in wake of death - http://t.co/fB0iijx3Ha http://t.co/Oe96jwLpX4"
       ]
      },
      {
       "output_type": "stream",
       "stream": "stdout",
       "text": [
        "\n",
        "The beautiful &amp; talented Crissy Wilzak generously spoke w/me about #Robin Williams. http://t.co/akbUPXhxZ2 via @YourChronicle\n",
        "RT @jimmyfallon: Took a walk in NYC this morning under a tree lined street. Perfect breeze. Looked like it was raining flowers. I know that\u2026"
       ]
      },
      {
       "output_type": "stream",
       "stream": "stdout",
       "text": [
        "\n",
        "Robin Williams a Roots Fan? Questlove Recalls an Unlikely Admirer http://t.co/OTTvU7JnVC\n",
        "RT @UniNoticias: Robin Williams fue encontrado sin vida en California. Las causas de la muerte est\u00e1n siendo investigadas http://t.co/lMmO36\u2026"
       ]
      },
      {
       "output_type": "stream",
       "stream": "stdout",
       "text": [
        "\n",
        "RT @justintimeOO: \u2192 AUS http://t.co/423mU5pUIg \u2192 Robin Williams take on sport was genius \u2192 Williams, talking about Scottish people and thei\u2026"
       ]
      },
      {
       "output_type": "stream",
       "stream": "stdout",
       "text": [
        "\n",
        "Foto Addio Robin: i tweet delle star di Hollywood - Sky Cinema http://t.co/hFRwSFRVrg\n",
        "RT @USATODAY: The Academy's moving tweet in tribute to Robin Williams: \"Genie, you're free\" (@TheAcademy) http://t.co/iMKpszKNFG"
       ]
      },
      {
       "output_type": "stream",
       "stream": "stdout",
       "text": [
        "\n",
        "RT @pafster: If you're feeling down about the Robin Williams news, simply type, \"Robbie Williams\" in the twitter search box. It's what he'd\u2026"
       ]
      },
      {
       "output_type": "stream",
       "stream": "stdout",
       "text": [
        "\n",
        "RT @DisneyARL: Goodbye, Robin Williams. You were magic, indeed. http://t.co/s04CsnW4Wz"
       ]
      },
      {
       "output_type": "stream",
       "stream": "stdout",
       "text": [
        "\n",
        "RT @Date_or_nah: RIP Robin Williams :( He's truly a legend. You will be missed \ud83d\ude14 http://t.co/AFKQPxtglP"
       ]
      },
      {
       "output_type": "stream",
       "stream": "stdout",
       "text": [
        "\n",
        "La muerte de Robin Williams agranda la 'maldici\u00f3n' de Aaron Ramsey http://t.co/j7hhWyMAxl v\u00eda @libertaddigital // @xandre_cr @alex_o_costa\n",
        "RT @PointlessBlog: RIP Robin Williams"
       ]
      },
      {
       "output_type": "stream",
       "stream": "stdout",
       "text": [
        "\n",
        "No disrespect to robin Williams... But the same folks who were down for mike brown are tweeting about hoes and niggas again #Discussion\n",
        "Robin Williams was the only man I was ever okay with having the name \"Robin\".  Life goes by way too fast. #RememberRobinWilliams"
       ]
      },
      {
       "output_type": "stream",
       "stream": "stdout",
       "text": [
        "\n",
        "Just found out Robin Williams was the genie in Aladdin?! What a hero. Best disney film.\n",
        "Rip Robin Williams"
       ]
      },
      {
       "output_type": "stream",
       "stream": "stdout",
       "text": [
        "\n",
        "C\u00f3mo Robin Williams hablaba de sus problemas con el alcohol y las drogas | @scoopit http://t.co/1DWZf9B8Uh\n",
        "RT @PepsiArgentina: P\u0336a\u0336p\u0336\u00e1\u0336 Robin por siempre. http://t.co/udhyHVPqg5"
       ]
      },
      {
       "output_type": "stream",
       "stream": "stdout",
       "text": [
        "\n",
        "RT @Newsweek: \"No matter what people tell you, words and ideas can change the world.\" -Robin Williams http://t.co/2XEGylJvdY http://t.co/RR\u2026"
       ]
      },
      {
       "output_type": "stream",
       "stream": "stdout",
       "text": [
        "\n",
        "RT @Harry_Styles: One of my all time favourites. Movies I grew up watching over and over again. A genius that will be so missed.\n",
        "\n",
        "R.I.P. Ro\u2026"
       ]
      },
      {
       "output_type": "stream",
       "stream": "stdout",
       "text": [
        "\n",
        "RT @globeandmail: Video: Saying farewell to Robin Williams, a 'true comedy legend' http://t.co/6iqonGA94k http://t.co/HU9tJADfK5"
       ]
      },
      {
       "output_type": "stream",
       "stream": "stdout",
       "text": [
        "\n",
        "RT @Calum5SOS: Very very sad news. Rip robin Williams."
       ]
      },
      {
       "output_type": "stream",
       "stream": "stdout",
       "text": [
        "\n",
        "Robin Williams dead in suspected suicide http://t.co/NScpqj9DTy via @sfgate\n",
        "RT @elcosodelapizza: \"UNA GRAN PARTE DE NUESTRA INFANCIA MUERE HOY\". GRACIAS POR TODAS LAS SONRISAS ROBIN WILLIAMS. http://t.co/WievUfkuPt"
       ]
      },
      {
       "output_type": "stream",
       "stream": "stdout",
       "text": [
        "\n",
        "I hope Robin Williams knows how much he was loved I mean my entire TL on all social networks is about him \ud83d\ude14\ud83d\ude14\ud83d\ude14 #RIP\n",
        "RT @sildownic: #RIPRobinWilliams I am so sad that Robin is gone. The world has lost a fantastic actor and comedian. He was one of a kind."
       ]
      },
      {
       "output_type": "stream",
       "stream": "stdout",
       "text": [
        "\n",
        "RT @Calum5SOS: Very very sad news. Rip robin Williams."
       ]
      },
      {
       "output_type": "stream",
       "stream": "stdout",
       "text": [
        "\n",
        "RT @smosh: A HUGE part of all our childhoods has left us. RIP Robin Williams. :( http://t.co/QEVBpegNTr"
       ]
      },
      {
       "output_type": "stream",
       "stream": "stdout",
       "text": [
        "\n",
        "RT @eonline: Robin Williams' daughter Zelda mourns: \"I love you. I miss you. I'll try to keep looking up.\" http://t.co/BJEixDbndB http://t.\u2026"
       ]
      },
      {
       "output_type": "stream",
       "stream": "stdout",
       "text": [
        "\n",
        "RT @UberObvi: Robin Williams = Legend."
       ]
      },
      {
       "output_type": "stream",
       "stream": "stdout",
       "text": [
        "\n",
        "RT @FIL0S0FIA: Un grande nos dice adi\u00f3s. R.I.P. Robin Williams. http://t.co/emJjgxCFSk"
       ]
      },
      {
       "output_type": "stream",
       "stream": "stdout",
       "text": [
        "\n",
        "R.I.P.  Robin Williams http://t.co/Z1IUb1aIDI\n",
        "RT @hakimzoux: Robin williams lakonannya buat orang gelak, tapi mati bunuh diri. Betulah ayat \"The person who laughs the most, cries inside\u2026"
       ]
      },
      {
       "output_type": "stream",
       "stream": "stdout",
       "text": [
        "\n",
        "RT @BarackObama: \"Robin Williams was an airman, a doctor, a genie, a nanny ... and everything in between. But he was one of a kind.\" \u2014Presi\u2026"
       ]
      },
      {
       "output_type": "stream",
       "stream": "stdout",
       "text": [
        "\n",
        "Boxer Statement on the Death of Robin Williams http://t.co/sMnncwOe9Z\n",
        "@ninadobrev \u201cNo matter what anybody tells you, words and ideas can change the world.\u201d \u2013 Robin Williams (dead poets society)"
       ]
      },
      {
       "output_type": "stream",
       "stream": "stdout",
       "text": [
        "\n",
        "RT @nytimes: The NYT obit of Robin Williams http://t.co/6pb9ALIsrQ (Photo: Jay Paul for NYT) http://t.co/UxsZHThUkC"
       ]
      },
      {
       "output_type": "stream",
       "stream": "stdout",
       "text": [
        "\n",
        "RT @YouTube: A look back at the life of comic legend Robin Williams. http://t.co/zR2jnVA9LO"
       ]
      },
      {
       "output_type": "stream",
       "stream": "stdout",
       "text": [
        "\n",
        "This. :) RT @RocknRollArtist: R.I.P. Robin Williams. You'll never be forgotten. http://t.co/rNXLk2dUvb\n",
        "RIP ROBiN WiLLiAMS.. gonna play a game of jumanji today"
       ]
      },
      {
       "output_type": "stream",
       "stream": "stdout",
       "text": [
        "\n",
        "RT @janinebucks: Florida USA Clearwater http://t.co/4tJUNYZGJ9 #RobinWilliams BREAKING NEWS 560 Robin Williams Robin Williams Dead: Beloved\u2026"
       ]
      },
      {
       "output_type": "stream",
       "stream": "stdout",
       "text": [
        "\n",
        "RT @rollingstoneBR: Filha de Robin Williams publica trecho de O Pequeno Pr\u00edncipe em homenagem ao pai - http://t.co/15bpcFuDnr"
       ]
      },
      {
       "output_type": "stream",
       "stream": "stdout",
       "text": [
        "\n",
        "RT @MattMcGorry: Wonderful blog post from my buddy @joshruben about his hero, Robin Williams. My heart continues to feel heavy today.  http\u2026"
       ]
      },
      {
       "output_type": "stream",
       "stream": "stdout",
       "text": [
        "\n",
        "I can only hope that when my time comes, I successfully impacted millions of lives just like Robin Williams did\n",
        "http://t.co/KYbeRxiX78 #news Comic genius Robin Williams dazzled with rapid fire - The Australian http://t.co/wcZVjl8Nkh"
       ]
      },
      {
       "output_type": "stream",
       "stream": "stdout",
       "text": [
        "\n",
        "RT @traigovodka: QEPD Robin Williams fuiste el mejor cantante, me gustaba la de \u00abAngel\u00bb y \u00abRudbox\u00bb Que Dios te tenga en su gloria. http://t\u2026"
       ]
      },
      {
       "output_type": "stream",
       "stream": "stdout",
       "text": [
        "\n",
        "waking up this morning, and learning robin williams took his own life, hit me like a body blow..Hope he's at peace,now. I'm so sad now.\n",
        "He didn't deserve to die. Oh Captain, my Captain. We'll miss you, Robin."
       ]
      },
      {
       "output_type": "stream",
       "stream": "stdout",
       "text": [
        "\n",
        "RT @VestiaireCo: \"You're only given one little spark of madness. You musn't lose it.\" - Robin Williams, 1951-2014 #RobinWilliams http://t.c\u2026"
       ]
      },
      {
       "output_type": "stream",
       "stream": "stdout",
       "text": [
        "\n",
        "R.I.P. Robin Williams! He was a k dude. He dropped a CD on Sony &amp; he was very friendly w us. He cracked jobs&amp; it almost turned into a party\n",
        "RT @D_DeGea: Very sad for the passing of Robin Williams. A genius, part of my childhood. An unique actor. Rest In Peace."
       ]
      },
      {
       "output_type": "stream",
       "stream": "stdout",
       "text": [
        "\n",
        "RT @GMA: \"I'm so honored to meet them and know what they've gone through.\" - Robin Williams on his time spent with US troops. http://t.co/f\u2026"
       ]
      },
      {
       "output_type": "stream",
       "stream": "stdout",
       "text": [
        "\n",
        "RT @iauraB: As\u00ed como ayer se fue Robin Williams, as\u00ed veremos como grandes estrellas que en nuestra infancia nos hicieron sonreir se van a i\u2026"
       ]
      },
      {
       "output_type": "stream",
       "stream": "stdout",
       "text": [
        "\n",
        "que dice EPN que lamenta la muerte de Robin Williams, y espera la pronta resignaci\u00f3n de sus hermanas Venus y Serena... PLOP!\n",
        "10 portadas sobre el fallecimiento de Robin Williams | @scoopit http://t.co/MOCXJdesFd"
       ]
      },
      {
       "output_type": "stream",
       "stream": "stdout",
       "text": [
        "\n",
        "RT @KingHaylen: RIP Robin Williams, we've all lost part of our childhood today. You will never be forgotten. #RIPRobinWilliams \ud83d\ude4f http://t.c\u2026"
       ]
      },
      {
       "output_type": "stream",
       "stream": "stdout",
       "text": [
        "\n",
        "pobre robin wilians morreu roubando os ricos pra dar pros pobres vai com deus\n",
        "RT @TheBucktList: robin williams said it best http://t.co/ICjSZ1C7MV"
       ]
      },
      {
       "output_type": "stream",
       "stream": "stdout",
       "text": [
        "\n",
        "RT @Kirby_BFC: Can't believe Robin Williams is dead it's a travesty that people like Josie Cunningham and Katy Hopkins are still alive take\u2026"
       ]
      },
      {
       "output_type": "stream",
       "stream": "stdout",
       "text": [
        "\n",
        "RT @BBCWorld: Our photo gallery remembers Robin Williams http://t.co/1D3NNY1Skd &amp; http://t.co/1utamGzHsv"
       ]
      },
      {
       "output_type": "stream",
       "stream": "stdout",
       "text": [
        "\n",
        "Rest in Peace, Robin Williams. Complete shock to everyone. Thank you for the entertainment. We all love you\u2764\ufe0f\n",
        "RT @LoganVignovic: R.I.P Robin Williams"
       ]
      },
      {
       "output_type": "stream",
       "stream": "stdout",
       "text": [
        "\n",
        "RT @RealHughJackman: Robin Williams ... \n",
        "true gentleman  \n",
        "acting great\n",
        "comedic legend\n",
        "genius."
       ]
      },
      {
       "output_type": "stream",
       "stream": "stdout",
       "text": [
        "\n",
        "RT @dailyzen: \"You\u2019re only given one little spark of madness. You mustn\u2019t lose it.\u201d\n",
        "-Robin Williams"
       ]
      },
      {
       "output_type": "stream",
       "stream": "stdout",
       "text": [
        "\n",
        "RT @heawood: Robin Williams replying to an unknown fan. What a lovely, sad man. http://t.co/7F06YqEG5h"
       ]
      },
      {
       "output_type": "stream",
       "stream": "stdout",
       "text": [
        "\n",
        "RT @CelebssFactss: The 10 Best Films of Robin Williams http://t.co/rNVU3r1omA http://t.co/6QRNh1zgZr"
       ]
      },
      {
       "output_type": "stream",
       "stream": "stdout",
       "text": [
        "\n",
        "Our thoughts go out to Robin's friends and family. #RobinWilliamsWillLiveOnForever http://t.co/e88omjb2Gl\n",
        "RT @ObservingSpace: RIP. Actor-comedian Robin Williams has died at age 63 http://t.co/9xelKPoATa #rip http://t.co/R3XIW6tCGz"
       ]
      },
      {
       "output_type": "stream",
       "stream": "stdout",
       "text": [
        "\n",
        "RT @Harry_Styles: One of my all time favourites. Movies I grew up watching over and over again. A genius that will be so missed.\n",
        "\n",
        "R.I.P. Ro\u2026"
       ]
      },
      {
       "output_type": "stream",
       "stream": "stdout",
       "text": [
        "\n",
        "RT @DrRonM: Take action today on depression and substance use to honor Robin Williams' amazing legacy. http://t.co/tmqG7V90Jg\n",
        "RT @Harry_Styles: One of my all time favourites. Movies I grew up watching over and over again. A genius that will be so missed.\n",
        "\n",
        "R.I.P. Ro\u2026"
       ]
      },
      {
       "output_type": "stream",
       "stream": "stdout",
       "text": [
        "\n",
        "RT @MiOpinionPuebla: Te amo sin saber c\u00f3mo, ni cu\u00e1ndo ni de d\u00f3nde.Te amo directamente sin problemas, as\u00ed te amo porque no s\u00e9 amar de otra m\u2026"
       ]
      },
      {
       "output_type": "stream",
       "stream": "stdout",
       "text": [
        "\n",
        "RT @DhillonHari: Very sad news about Robin Williams.  Hugely talented. Rest in peace."
       ]
      },
      {
       "output_type": "stream",
       "stream": "stdout",
       "text": [
        "\n",
        "No he le\u00eddo ni un status o tweet diciendo que Robin Williams era su actor favorito, y los haters esbocaos, locos por tirarle a la humanidad.\n",
        "@theglossarie How many ppl do u think r actually looking? people r shocked Robin Williams was depressed because he was happy in his movies"
       ]
      },
      {
       "output_type": "stream",
       "stream": "stdout",
       "text": [
        "\n",
        "Hija de Robin Williams se despide de \u00e9l con carta en Twitter http://t.co/EKYVzozvai\n",
        "RT @katyperry: So sad about Robin Williams...\ud83d\ude14"
       ]
      },
      {
       "output_type": "stream",
       "stream": "stdout",
       "text": [
        "\n",
        "Robin Wilson king of laughter and sorrow\n",
        "Robin Williams...  gone......"
       ]
      },
      {
       "output_type": "stream",
       "stream": "stdout",
       "text": [
        "\n",
        "robin williams was awesome but i don't understand why he's more important than other, not famous people who die every day idk.\n",
        "RT @krewe18: Robin Williams was a good man, great actor and a greater comedian. Thank you Robin for bringing a smile on our faces all these\u2026"
       ]
      },
      {
       "output_type": "stream",
       "stream": "stdout",
       "text": [
        "\n",
        "RT @YouTube: A look back at the life of comic legend Robin Williams. http://t.co/zR2jnVA9LO"
       ]
      },
      {
       "output_type": "stream",
       "stream": "stdout",
       "text": [
        "\n",
        "Rip Robin Williams\n",
        "Aun no quiero creer la muerte de este ser tan grande y especial para muchos, RIP Robin W."
       ]
      },
      {
       "output_type": "stream",
       "stream": "stdout",
       "text": [
        "\n",
        "Actor Robin Williams Is Dead at 63 - ABC News  http://t.co/qiAWynYB1K\n",
        "RT @enpho69: \"Los fascistas del futuro se llamar\u00e1n a s\u00ed mismos antifascistas\" - Robin Williams"
       ]
      },
      {
       "output_type": "stream",
       "stream": "stdout",
       "text": [
        "\n",
        "RIP Actor international Robin Williams and my actor favorite\n",
        "RT @RareHipHopPic: Eminem, Proof and Robin Williams http://t.co/VXUV3KmXeH"
       ]
      },
      {
       "output_type": "stream",
       "stream": "stdout",
       "text": [
        "\n",
        "RT @ENews: Gone, but not forgotten... Take a look back at Robin Williams' most famous roles: http://t.co/vJRTTkK8Df http://t.co/jleUVPzWoP"
       ]
      },
      {
       "output_type": "stream",
       "stream": "stdout",
       "text": [
        "\n",
        "RT @Harry_Styles: One of my all time favourites. Movies I grew up watching over and over again. A genius that will be so missed.\n",
        "\n",
        "R.I.P. Ro\u2026"
       ]
      },
      {
       "output_type": "stream",
       "stream": "stdout",
       "text": [
        "\n",
        "RT @eonline: Robin Williams' daughter Zelda mourns: \"I love you. I miss you. I'll try to keep looking up.\" http://t.co/BJEixDbndB http://t.\u2026"
       ]
      },
      {
       "output_type": "stream",
       "stream": "stdout",
       "text": [
        "\n",
        "RT @cejones1902: Heartbroken \ud83d\udc94 Love you Mrs. Doubtfire . always one of my favs. RIP Robin Williams \ud83d\ude22\ud83d\ude22 http://t.co/adxxvWe6gO"
       ]
      },
      {
       "output_type": "stream",
       "stream": "stdout",
       "text": [
        "\n",
        "@JossWoodend has written a lovely obituary to the late Robin Williams for @ForgeScreen. http://t.co/SOYSZeqCIF"
       ]
      },
      {
       "output_type": "stream",
       "stream": "stdout",
       "text": [
        "\n",
        "RT @MarwanRezk98: meen robin williams dh ya gama3aa? :D"
       ]
      },
      {
       "output_type": "stream",
       "stream": "stdout",
       "text": [
        "\n",
        "Here\u2019s the sad thing: Robin\u2019s passing is getting us all to talk about mental health, which is great. But by this weekend, we\u2019ll forget.\n",
        "RT @tatianamaslany: Robin Williams was such a genius. I can't believe he's gone. Depression is serious, let's take care of each other http:\u2026"
       ]
      },
      {
       "output_type": "stream",
       "stream": "stdout",
       "text": [
        "\n",
        "RT @MiaFarrow: And a princely man MT @nycjim: This is excellent: The many faces of Robin Williams http://t.co/7pfH5ZUjR0 v @latimes http://\u2026"
       ]
      },
      {
       "output_type": "stream",
       "stream": "stdout",
       "text": [
        "\n",
        "So sad that Robin Williams has passed away. We'll miss his amazing talent but at least he is free from the pain #RIPRobinWilliams #bangarang\n",
        "RT @LautaroGiunta: Se muere Robin Williams por sobredosis de coca\u00edna y ustedes lo lloran, pero muere un pibe por sobredosis de paco y dicen\u2026"
       ]
      },
      {
       "output_type": "stream",
       "stream": "stdout",
       "text": [
        "\n",
        "Descanse en Paz Robin Williams @RobinWilliamsTw\n",
        "\u00bfPor qu\u00e9 tu Robin y no Justin? \u00bfPor qu\u00e9? :c"
       ]
      },
      {
       "output_type": "stream",
       "stream": "stdout",
       "text": [
        "\n",
        "RT @MrHighscore_: Why can't someone useless like Josie Cunningham die instead of Robin Williams."
       ]
      },
      {
       "output_type": "stream",
       "stream": "stdout",
       "text": [
        "\n",
        "Wrote this for http://t.co/hMWkcJ2ehS, about Robin Williams: \u2018You Got That, Chief?\u2019 http://t.co/ED54waOm8o\n",
        "Diddy Bids Farewell To Robin Williams: \"Can't Believe We Lost A Legend\" http://t.co/FrBIRZ6a9f"
       ]
      },
      {
       "output_type": "stream",
       "stream": "stdout",
       "text": [
        "\n",
        "Robin Williams, rest in peace \u271d\ud83d\ude22\ud83d\udc99\ud83d\udc90\n",
        "Alla notizia della morte dell'attore Robin Williams in molti hanno capito, pensato e scritto che fosse il... http://t.co/a5enDc07Ng"
       ]
      },
      {
       "output_type": "stream",
       "stream": "stdout",
       "text": [
        "\n",
        "RT @justintimeOO: \u2192 AUS http://t.co/423mU5pUIg \u2192 Robin Williams take on sport was genius \u2192 Williams, talking about Scottish people and thei\u2026"
       ]
      },
      {
       "output_type": "stream",
       "stream": "stdout",
       "text": [
        "\n",
        "RT @jchavarria_cine: Adi\u00f3s Robin Williams, recuerda \"Debes girar en la segunda estrella a la derecha, y seguir directo hasta el amanecer\" h\u2026"
       ]
      },
      {
       "output_type": "stream",
       "stream": "stdout",
       "text": [
        "\n",
        "RT @ClichesDeJigme: Ne vous inqui\u00e9tez pas, Robin Williams il va respawn... Ou pas."
       ]
      },
      {
       "output_type": "stream",
       "stream": "stdout",
       "text": [
        "\n",
        "R.I.P Robin Williams such an amazing actor but so upsetting that you were in such a dark place. Your legacy lives on\ud83c\udf1f\ud83d\udc7c\n",
        "RT @KingMJsFangirl: I'm heartbroken Robin Williams has died. He was a big part of my childhood. He was the definition of a great actor. #RI\u2026"
       ]
      },
      {
       "output_type": "stream",
       "stream": "stdout",
       "text": [
        "\n",
        "RT @CMPunk: One of the sweetest guys I have ever had the pleasure of meeting. Rest in power Robin Williams."
       ]
      },
      {
       "output_type": "stream",
       "stream": "stdout",
       "text": [
        "\n",
        "RT @shanedawson: OMG WHAT?! Robin Williams is my favorite :((( ugh. heartfuckingbroken"
       ]
      },
      {
       "output_type": "stream",
       "stream": "stdout",
       "text": [
        "\n",
        "RT @Harry_Styles: One of my all time favourites. Movies I grew up watching over and over again. A genius that will be so missed.\n",
        "\n",
        "R.I.P. Ro\u2026"
       ]
      },
      {
       "output_type": "stream",
       "stream": "stdout",
       "text": [
        "\n",
        "RT @Letterman: Remembering our good friend, Robin Williams. http://t.co/2wPGtOPR5Y"
       ]
      },
      {
       "output_type": "stream",
       "stream": "stdout",
       "text": [
        "\n",
        "\u201cMultiple Exposures,\u201d a short starring the late Robin Williams http://t.co/x34MLjt728\n",
        "RT @KevinMinott: Fox News Host Calls Robin Williams 'Such A Coward' http://t.co/tHvBNdUKy4"
       ]
      },
      {
       "output_type": "stream",
       "stream": "stdout",
       "text": [
        "\n",
        "RT @BuzzFeed: Robin Williams\u2019 Fans Spontaneously Turned The \u201cGood Will Hunting\u201d Bench Into A Memorial http://t.co/JlfcLPqwvz http://t.co/HQ\u2026"
       ]
      },
      {
       "output_type": "stream",
       "stream": "stdout",
       "text": [
        "\n",
        "RT @Michael5SOS: RIP robin :("
       ]
      },
      {
       "output_type": "stream",
       "stream": "stdout",
       "text": [
        "\n",
        "Moving tributes pour in across social media for Robin Williams after actor's tragic death\u2026 http://t.co/9dL2VnoFHW\n",
        "RT @YouTube: A look back at the life of comic legend Robin Williams. http://t.co/zR2jnVA9LO"
       ]
      },
      {
       "output_type": "stream",
       "stream": "stdout",
       "text": [
        "\n",
        "RT @TechnicallyRon: The DailyMail comments section about Robin Williams passing, a lesson in why education about Mental illness is needed h\u2026"
       ]
      },
      {
       "output_type": "stream",
       "stream": "stdout",
       "text": [
        "\n"
       ]
      },
      {
       "ename": "KeyboardInterrupt",
       "evalue": "",
       "output_type": "pyerr",
       "traceback": [
        "\u001b[1;31m---------------------------------------------------------------------------\u001b[0m\n\u001b[1;31mKeyboardInterrupt\u001b[0m                         Traceback (most recent call last)",
        "\u001b[1;32m<ipython-input-1-9185d9293ab2>\u001b[0m in \u001b[0;36m<module>\u001b[1;34m()\u001b[0m\n\u001b[0;32m     20\u001b[0m \u001b[1;33m\u001b[0m\u001b[0m\n\u001b[0;32m     21\u001b[0m \u001b[0mstream\u001b[0m \u001b[1;33m=\u001b[0m \u001b[0mMyStreamer\u001b[0m\u001b[1;33m(\u001b[0m\u001b[0mApp_Key\u001b[0m\u001b[1;33m,\u001b[0m\u001b[0mApp_Secret\u001b[0m\u001b[1;33m,\u001b[0m\u001b[0mOauth_Token\u001b[0m\u001b[1;33m,\u001b[0m\u001b[0mOauth_Token_Secret\u001b[0m\u001b[1;33m)\u001b[0m\u001b[1;33m\u001b[0m\u001b[0m\n\u001b[1;32m---> 22\u001b[1;33m \u001b[0mstream\u001b[0m\u001b[1;33m.\u001b[0m\u001b[0mstatuses\u001b[0m\u001b[1;33m.\u001b[0m\u001b[0mfilter\u001b[0m\u001b[1;33m(\u001b[0m\u001b[0mtrack\u001b[0m \u001b[1;33m=\u001b[0m \u001b[0mtermstotrack\u001b[0m\u001b[1;33m)\u001b[0m\u001b[1;33m\u001b[0m\u001b[0m\n\u001b[0m",
        "\u001b[1;32mC:\\Python34\\lib\\site-packages\\twython\\streaming\\types.py\u001b[0m in \u001b[0;36mfilter\u001b[1;34m(self, **params)\u001b[0m\n\u001b[0;32m     63\u001b[0m         \u001b[0murl\u001b[0m \u001b[1;33m=\u001b[0m \u001b[1;34m'https://stream.twitter.com/%s/statuses/filter.json'\u001b[0m\u001b[0;31m \u001b[0m\u001b[0;31m\\\u001b[0m\u001b[1;33m\u001b[0m\u001b[0m\n\u001b[0;32m     64\u001b[0m               \u001b[1;33m%\u001b[0m \u001b[0mself\u001b[0m\u001b[1;33m.\u001b[0m\u001b[0mstreamer\u001b[0m\u001b[1;33m.\u001b[0m\u001b[0mapi_version\u001b[0m\u001b[1;33m\u001b[0m\u001b[0m\n\u001b[1;32m---> 65\u001b[1;33m         \u001b[0mself\u001b[0m\u001b[1;33m.\u001b[0m\u001b[0mstreamer\u001b[0m\u001b[1;33m.\u001b[0m\u001b[0m_request\u001b[0m\u001b[1;33m(\u001b[0m\u001b[0murl\u001b[0m\u001b[1;33m,\u001b[0m \u001b[1;34m'POST'\u001b[0m\u001b[1;33m,\u001b[0m \u001b[0mparams\u001b[0m\u001b[1;33m=\u001b[0m\u001b[0mparams\u001b[0m\u001b[1;33m)\u001b[0m\u001b[1;33m\u001b[0m\u001b[0m\n\u001b[0m\u001b[0;32m     66\u001b[0m \u001b[1;33m\u001b[0m\u001b[0m\n\u001b[0;32m     67\u001b[0m     \u001b[1;32mdef\u001b[0m \u001b[0msample\u001b[0m\u001b[1;33m(\u001b[0m\u001b[0mself\u001b[0m\u001b[1;33m,\u001b[0m \u001b[1;33m**\u001b[0m\u001b[0mparams\u001b[0m\u001b[1;33m)\u001b[0m\u001b[1;33m:\u001b[0m\u001b[1;33m\u001b[0m\u001b[0m\n",
        "\u001b[1;32mC:\\Python34\\lib\\site-packages\\twython\\streaming\\api.py\u001b[0m in \u001b[0;36m_request\u001b[1;34m(self, url, method, params)\u001b[0m\n\u001b[0;32m    132\u001b[0m             \u001b[0mresponse\u001b[0m \u001b[1;33m=\u001b[0m \u001b[0m_send\u001b[0m\u001b[1;33m(\u001b[0m\u001b[0mretry_counter\u001b[0m\u001b[1;33m)\u001b[0m\u001b[1;33m\u001b[0m\u001b[0m\n\u001b[0;32m    133\u001b[0m \u001b[1;33m\u001b[0m\u001b[0m\n\u001b[1;32m--> 134\u001b[1;33m             \u001b[1;32mfor\u001b[0m \u001b[0mline\u001b[0m \u001b[1;32min\u001b[0m \u001b[0mresponse\u001b[0m\u001b[1;33m.\u001b[0m\u001b[0miter_lines\u001b[0m\u001b[1;33m(\u001b[0m\u001b[0mself\u001b[0m\u001b[1;33m.\u001b[0m\u001b[0mchunk_size\u001b[0m\u001b[1;33m)\u001b[0m\u001b[1;33m:\u001b[0m\u001b[1;33m\u001b[0m\u001b[0m\n\u001b[0m\u001b[0;32m    135\u001b[0m                 \u001b[1;32mif\u001b[0m \u001b[1;32mnot\u001b[0m \u001b[0mself\u001b[0m\u001b[1;33m.\u001b[0m\u001b[0mconnected\u001b[0m\u001b[1;33m:\u001b[0m\u001b[1;33m\u001b[0m\u001b[0m\n\u001b[0;32m    136\u001b[0m                     \u001b[1;32mbreak\u001b[0m\u001b[1;33m\u001b[0m\u001b[0m\n",
        "\u001b[1;32mC:\\Python34\\lib\\site-packages\\requests\\models.py\u001b[0m in \u001b[0;36miter_lines\u001b[1;34m(self, chunk_size, decode_unicode)\u001b[0m\n\u001b[0;32m    643\u001b[0m \u001b[1;33m\u001b[0m\u001b[0m\n\u001b[0;32m    644\u001b[0m         for chunk in self.iter_content(chunk_size=chunk_size,\n\u001b[1;32m--> 645\u001b[1;33m                                        decode_unicode=decode_unicode):\n\u001b[0m\u001b[0;32m    646\u001b[0m \u001b[1;33m\u001b[0m\u001b[0m\n\u001b[0;32m    647\u001b[0m             \u001b[1;32mif\u001b[0m \u001b[0mpending\u001b[0m \u001b[1;32mis\u001b[0m \u001b[1;32mnot\u001b[0m \u001b[1;32mNone\u001b[0m\u001b[1;33m:\u001b[0m\u001b[1;33m\u001b[0m\u001b[0m\n",
        "\u001b[1;32mC:\\Python34\\lib\\site-packages\\requests\\models.py\u001b[0m in \u001b[0;36mgenerate\u001b[1;34m()\u001b[0m\n\u001b[0;32m    613\u001b[0m                 \u001b[1;32mtry\u001b[0m\u001b[1;33m:\u001b[0m\u001b[1;33m\u001b[0m\u001b[0m\n\u001b[0;32m    614\u001b[0m                     for chunk in self.raw.stream(chunk_size,\n\u001b[1;32m--> 615\u001b[1;33m                                                  decode_content=True):\n\u001b[0m\u001b[0;32m    616\u001b[0m                         \u001b[1;32myield\u001b[0m \u001b[0mchunk\u001b[0m\u001b[1;33m\u001b[0m\u001b[0m\n\u001b[0;32m    617\u001b[0m                 \u001b[1;32mexcept\u001b[0m \u001b[0mIncompleteRead\u001b[0m \u001b[1;32mas\u001b[0m \u001b[0me\u001b[0m\u001b[1;33m:\u001b[0m\u001b[1;33m\u001b[0m\u001b[0m\n",
        "\u001b[1;32mC:\\Python34\\lib\\site-packages\\requests\\packages\\urllib3\\response.py\u001b[0m in \u001b[0;36mstream\u001b[1;34m(self, amt, decode_content)\u001b[0m\n\u001b[0;32m    234\u001b[0m         \"\"\"\n\u001b[0;32m    235\u001b[0m         \u001b[1;32mwhile\u001b[0m \u001b[1;32mnot\u001b[0m \u001b[0mis_fp_closed\u001b[0m\u001b[1;33m(\u001b[0m\u001b[0mself\u001b[0m\u001b[1;33m.\u001b[0m\u001b[0m_fp\u001b[0m\u001b[1;33m)\u001b[0m\u001b[1;33m:\u001b[0m\u001b[1;33m\u001b[0m\u001b[0m\n\u001b[1;32m--> 236\u001b[1;33m             \u001b[0mdata\u001b[0m \u001b[1;33m=\u001b[0m \u001b[0mself\u001b[0m\u001b[1;33m.\u001b[0m\u001b[0mread\u001b[0m\u001b[1;33m(\u001b[0m\u001b[0mamt\u001b[0m\u001b[1;33m=\u001b[0m\u001b[0mamt\u001b[0m\u001b[1;33m,\u001b[0m \u001b[0mdecode_content\u001b[0m\u001b[1;33m=\u001b[0m\u001b[0mdecode_content\u001b[0m\u001b[1;33m)\u001b[0m\u001b[1;33m\u001b[0m\u001b[0m\n\u001b[0m\u001b[0;32m    237\u001b[0m \u001b[1;33m\u001b[0m\u001b[0m\n\u001b[0;32m    238\u001b[0m             \u001b[1;32mif\u001b[0m \u001b[0mdata\u001b[0m\u001b[1;33m:\u001b[0m\u001b[1;33m\u001b[0m\u001b[0m\n",
        "\u001b[1;32mC:\\Python34\\lib\\site-packages\\requests\\packages\\urllib3\\response.py\u001b[0m in \u001b[0;36mread\u001b[1;34m(self, amt, decode_content, cache_content)\u001b[0m\n\u001b[0;32m    181\u001b[0m             \u001b[1;32melse\u001b[0m\u001b[1;33m:\u001b[0m\u001b[1;33m\u001b[0m\u001b[0m\n\u001b[0;32m    182\u001b[0m                 \u001b[0mcache_content\u001b[0m \u001b[1;33m=\u001b[0m \u001b[1;32mFalse\u001b[0m\u001b[1;33m\u001b[0m\u001b[0m\n\u001b[1;32m--> 183\u001b[1;33m                 \u001b[0mdata\u001b[0m \u001b[1;33m=\u001b[0m \u001b[0mself\u001b[0m\u001b[1;33m.\u001b[0m\u001b[0m_fp\u001b[0m\u001b[1;33m.\u001b[0m\u001b[0mread\u001b[0m\u001b[1;33m(\u001b[0m\u001b[0mamt\u001b[0m\u001b[1;33m)\u001b[0m\u001b[1;33m\u001b[0m\u001b[0m\n\u001b[0m\u001b[0;32m    184\u001b[0m                 \u001b[1;32mif\u001b[0m \u001b[0mamt\u001b[0m \u001b[1;33m!=\u001b[0m \u001b[1;36m0\u001b[0m \u001b[1;32mand\u001b[0m \u001b[1;32mnot\u001b[0m \u001b[0mdata\u001b[0m\u001b[1;33m:\u001b[0m  \u001b[1;31m# Platform-specific: Buggy versions of Python.\u001b[0m\u001b[1;33m\u001b[0m\u001b[0m\n\u001b[0;32m    185\u001b[0m                     \u001b[1;31m# Close the connection when no data is returned\u001b[0m\u001b[1;33m\u001b[0m\u001b[1;33m\u001b[0m\u001b[0m\n",
        "\u001b[1;32mC:\\Python34\\lib\\http\\client.py\u001b[0m in \u001b[0;36mread\u001b[1;34m(self, amt)\u001b[0m\n\u001b[0;32m    498\u001b[0m             \u001b[1;31m# Amount is given, so call base class version\u001b[0m\u001b[1;33m\u001b[0m\u001b[1;33m\u001b[0m\u001b[0m\n\u001b[0;32m    499\u001b[0m             \u001b[1;31m# (which is implemented in terms of self.readinto)\u001b[0m\u001b[1;33m\u001b[0m\u001b[1;33m\u001b[0m\u001b[0m\n\u001b[1;32m--> 500\u001b[1;33m             \u001b[1;32mreturn\u001b[0m \u001b[0msuper\u001b[0m\u001b[1;33m(\u001b[0m\u001b[0mHTTPResponse\u001b[0m\u001b[1;33m,\u001b[0m \u001b[0mself\u001b[0m\u001b[1;33m)\u001b[0m\u001b[1;33m.\u001b[0m\u001b[0mread\u001b[0m\u001b[1;33m(\u001b[0m\u001b[0mamt\u001b[0m\u001b[1;33m)\u001b[0m\u001b[1;33m\u001b[0m\u001b[0m\n\u001b[0m\u001b[0;32m    501\u001b[0m         \u001b[1;32melse\u001b[0m\u001b[1;33m:\u001b[0m\u001b[1;33m\u001b[0m\u001b[0m\n\u001b[0;32m    502\u001b[0m             \u001b[1;31m# Amount is not given (unbounded read) so we must check self.length\u001b[0m\u001b[1;33m\u001b[0m\u001b[1;33m\u001b[0m\u001b[0m\n",
        "\u001b[1;31mKeyboardInterrupt\u001b[0m: "
       ]
      }
     ],
     "prompt_number": 1
    },
    {
     "cell_type": "code",
     "collapsed": false,
     "input": [
      "\n"
     ],
     "language": "python",
     "metadata": {},
     "outputs": []
    }
   ],
   "metadata": {}
  }
 ]
}