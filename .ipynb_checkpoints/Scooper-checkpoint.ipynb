{
 "metadata": {
  "name": "",
  "signature": "sha256:9f41542607a848ef855d9fc1943e5a3692860abecdd152ef3d2d15a2244e6da1"
 },
 "nbformat": 3,
 "nbformat_minor": 0,
 "worksheets": [
  {
   "cells": [
    {
     "cell_type": "code",
     "collapsed": false,
     "input": [
      "import twython\n",
      "\n",
      "from twython import Twython\n",
      "ConsumerKey = 'DHvPpUKNhPBqmOoWHTioL8R8g'\n",
      "ConsumerSecret = 'HaCvbsQLXy61rdxbs1AuojrP0y9eunUQLYfzyzt3gOzek1BdkC'\n",
      "AccessToken = '2723648388-vUN5LPJCXUyM2juD5dVGegyX02gwjwOT66LisIe'\n",
      "AccessTokenSecret = 'Wfu5QgkHiLqdaPF7t3AcM3XCihVpxUJbrUk4dkKBjJCcZ'\n",
      "twitter = Twython(ConsumerKey,ConsumerSecret,AccessToken,AccessTokenSecret)\n",
      "\n",
      "print('What would you like to do?')\n",
      "print('\\nTo search for a specific tweet, press \\'T\\'')\n",
      "print('To search for a Twitter profile, press \\'P\\'')\n",
      "print('To search for the trends in a location, press \\'L\\'')\n",
      "      \n",
      "MenuChoice = input('What choice will you make: ')\n",
      "#MenuChoice.upper()\n",
      "\n",
      "if MenuChoice == 't':\n",
      "    print\n",
      "    SearchWord = input('Enter the word you wish to search for: ')\n",
      "    result = twitter.search(q = SearchWord)\n",
      "    for status in result['statuses']:\n",
      "        print('\\nuser: {0} \\ntext: {1}'.format(status['user']['name'],status['text']))\n",
      "        \n",
      "elif MenuChoice == 'p':\n",
      "    Username = input('What username would you like to search for: ')\n",
      "    TweetNo = int(input('Please enter the number of tweets you wish to view: '))\n",
      "    \n",
      "    tl = twitter.get_user_timeline(screen_name = Username, count = TweetNo)\n",
      "    for tweet in tl:\n",
      "        print('user {0} \\nCreated: {1} \\nText: {2}'.format(tweet['user']['name'],tweet['created_at'],tweet['text']))\n",
      "\n",
      "elif MenuChoice == 'l':\n",
      "    GeoID = int(input('Please enter the WOEID code of the location you wish to search for: '))\n",
      "    id = (GeoID)\n",
      "    result = twitter.get_place_trends(id = GeoID )\n",
      "    if result:\n",
      "        for trend in result[0].get('trends',[]):\n",
      "            print('{0} \\n'.format(trend['name']))  "
     ],
     "language": "python",
     "metadata": {},
     "outputs": [
      {
       "output_type": "stream",
       "stream": "stdout",
       "text": [
        "What would you like to do?\n",
        "\n",
        "To search for a specific tweet, press 'T'\n",
        "To search for a Twitter profile, press 'P'\n",
        "To search for the trends in a location, press 'L'\n"
       ]
      },
      {
       "name": "stdout",
       "output_type": "stream",
       "stream": "stdout",
       "text": [
        "What choice will you make: l\n"
       ]
      },
      {
       "name": "stdout",
       "output_type": "stream",
       "stream": "stdout",
       "text": [
        "Please enter the WOEID code of the location you wish to search for: 44418\n"
       ]
      },
      {
       "output_type": "stream",
       "stream": "stdout",
       "text": [
        "#RobinWilliamsWillLiveOnForever \n",
        "\n",
        "Until Dawn \n",
        "\n",
        "Graeme Souness \n",
        "\n",
        "#SSNHQ \n",
        "\n",
        "Tomb Raider \n",
        "\n",
        "#PlayStationGC \n",
        "\n",
        "Sevilla \n",
        "\n",
        "Real Madrid \n",
        "\n",
        "Sky Sports 5 \n",
        "\n",
        "#Hollyoaks \n",
        "\n"
       ]
      }
     ],
     "prompt_number": 1
    },
    {
     "cell_type": "code",
     "collapsed": false,
     "input": [],
     "language": "python",
     "metadata": {},
     "outputs": []
    }
   ],
   "metadata": {}
  }
 ]
}